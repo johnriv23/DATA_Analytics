{
  "nbformat": 4,
  "nbformat_minor": 0,
  "metadata": {
    "colab": {
      "provenance": []
    },
    "kernelspec": {
      "name": "python3",
      "display_name": "Python 3"
    },
    "language_info": {
      "name": "python"
    }
  },
  "cells": [
    {
      "cell_type": "markdown",
      "source": [
        "## Significance of the problem:\n",
        "\n",
        "What attributes of California houses in 1990 correlated with higher house values? It is important to understand if attributes like ocean proximity, median household income of the area, and population of the area help increase house values. This information could help property developers in choosing a new location to start a construction. For example, if there is a strong correlation with houses being near the ocean and their property value then developers should focus on coastal constructions.\n",
        "\n",
        "## Expected outcomes:\n",
        "\n",
        "We expect to see strong positive correlations between median household value and all of the variables in the dataset. The ones that we expect to have the strongest positive correlations are ocean proximity, median household income, and population. These variables are more important to house value than things like total bedrooms, total households, and housing age because they take into account the location and the context of the location. The context being population density and overall wealth of the area. These we believe are major drivers of housing value.\n",
        "\n",
        "## Method of analysis:\n",
        "\n",
        "We will be using multi-linear regression with median household value as the dependent variable. The independent variables we will be using are ocean proximity, population, median household income, total bedrooms, number of households, housing median age, and total rooms.\n",
        "\n",
        "## Data description:\n",
        "\n",
        "Source of dataset: https://github.com/ageron/handson-ml/tree/master/datasets/housing\n",
        "\n",
        "Explain what each record represents: Each record represents housing data in California in 1990 as one census block group. “A block group is the smallest geographical unit for which the U.S. Census Bureau publishes sample data (a block group typically has a population of 600 to 3,000 people).” - Aurélien Geron (from github website)\n",
        "\n",
        "Number of records: 20,640\n",
        "\n",
        "longitude: The longitude of the geographical center of one census block group.\n",
        "\n",
        "latitude: The latitude of the geographical center of one census block group.\n",
        "\n",
        "housing_median_age: The median age of the group of houses in a single census block group.\n",
        "\n",
        "total_rooms: The total number of rooms in the group of houses in one census block group.\n",
        "\n",
        "total_bedrooms: The total number of bedrooms in the group of houses in one census block group.\n",
        "\n",
        "population: The total population in one census block group.\n",
        "\n",
        "households: The total number of households in one census block group.\n",
        "\n",
        "median_income: The median household income in 10s of thousands of U.S. dollars in one census block group.\n",
        "\n",
        "median_household_value: The median household value in U.S. dollars in one census block group.\n",
        "\n",
        "ocean_proximity: This shows where the census block group is relative to the west coast. The categories are near bay, <1H ocean, inland, near ocean, and island.\n"
      ],
      "metadata": {
        "id": "whLbSY-BMNk7"
      }
    },
    {
      "cell_type": "code",
      "source": [
        "pip install numpy==1.24.4"
      ],
      "metadata": {
        "colab": {
          "base_uri": "https://localhost:8080/",
          "height": 449
        },
        "id": "VEd71o6eEV1X",
        "outputId": "7f4b40f4-97fc-4a78-b85b-05002179fc8d"
      },
      "execution_count": null,
      "outputs": [
        {
          "output_type": "stream",
          "name": "stdout",
          "text": [
            "Collecting numpy==1.24.4\n",
            "  Downloading numpy-1.24.4-cp311-cp311-manylinux_2_17_x86_64.manylinux2014_x86_64.whl.metadata (5.6 kB)\n",
            "Downloading numpy-1.24.4-cp311-cp311-manylinux_2_17_x86_64.manylinux2014_x86_64.whl (17.3 MB)\n",
            "\u001b[2K   \u001b[90m━━━━━━━━━━━━━━━━━━━━━━━━━━━━━━━━━━━━━━━━\u001b[0m \u001b[32m17.3/17.3 MB\u001b[0m \u001b[31m85.7 MB/s\u001b[0m eta \u001b[36m0:00:00\u001b[0m\n",
            "\u001b[?25hInstalling collected packages: numpy\n",
            "  Attempting uninstall: numpy\n",
            "    Found existing installation: numpy 2.0.2\n",
            "    Uninstalling numpy-2.0.2:\n",
            "      Successfully uninstalled numpy-2.0.2\n",
            "\u001b[31mERROR: pip's dependency resolver does not currently take into account all the packages that are installed. This behaviour is the source of the following dependency conflicts.\n",
            "jaxlib 0.5.1 requires numpy>=1.25, but you have numpy 1.24.4 which is incompatible.\n",
            "jax 0.5.2 requires numpy>=1.25, but you have numpy 1.24.4 which is incompatible.\n",
            "tensorflow 2.18.0 requires numpy<2.1.0,>=1.26.0, but you have numpy 1.24.4 which is incompatible.\n",
            "blosc2 3.3.2 requires numpy>=1.26, but you have numpy 1.24.4 which is incompatible.\n",
            "treescope 0.1.9 requires numpy>=1.25.2, but you have numpy 1.24.4 which is incompatible.\n",
            "pymc 5.22.0 requires numpy>=1.25.0, but you have numpy 1.24.4 which is incompatible.\n",
            "thinc 8.3.6 requires numpy<3.0.0,>=2.0.0, but you have numpy 1.24.4 which is incompatible.\u001b[0m\u001b[31m\n",
            "\u001b[0mSuccessfully installed numpy-1.24.4\n"
          ]
        },
        {
          "output_type": "display_data",
          "data": {
            "application/vnd.colab-display-data+json": {
              "pip_warning": {
                "packages": [
                  "numpy"
                ]
              },
              "id": "0d9f11cba35544508f37baa20e3c7c31"
            }
          },
          "metadata": {}
        }
      ]
    },
    {
      "cell_type": "code",
      "source": [
        "!apt-get install openjdk-8-jdk-headless -qq > /dev/null"
      ],
      "metadata": {
        "id": "8OePmqcN17n0"
      },
      "execution_count": null,
      "outputs": []
    },
    {
      "cell_type": "code",
      "source": [
        "!wget https://downloads.apache.org/spark/spark-3.5.5/spark-3.5.5-bin-hadoop3.tgz"
      ],
      "metadata": {
        "colab": {
          "base_uri": "https://localhost:8080/"
        },
        "id": "yBoL2c2I2aTD",
        "outputId": "7dcc801c-6a9c-4084-cf98-3ce567888671"
      },
      "execution_count": null,
      "outputs": [
        {
          "output_type": "stream",
          "name": "stdout",
          "text": [
            "--2025-05-16 02:39:39--  https://downloads.apache.org/spark/spark-3.5.5/spark-3.5.5-bin-hadoop3.tgz\n",
            "Resolving downloads.apache.org (downloads.apache.org)... 135.181.214.104, 88.99.208.237, 2a01:4f9:3a:2c57::2, ...\n",
            "Connecting to downloads.apache.org (downloads.apache.org)|135.181.214.104|:443... connected.\n",
            "HTTP request sent, awaiting response... 200 OK\n",
            "Length: 400724056 (382M) [application/x-gzip]\n",
            "Saving to: ‘spark-3.5.5-bin-hadoop3.tgz’\n",
            "\n",
            "spark-3.5.5-bin-had 100%[===================>] 382.16M  18.9MB/s    in 22s     \n",
            "\n",
            "2025-05-16 02:40:02 (17.5 MB/s) - ‘spark-3.5.5-bin-hadoop3.tgz’ saved [400724056/400724056]\n",
            "\n"
          ]
        }
      ]
    },
    {
      "cell_type": "code",
      "source": [
        "!tar xf spark-3.5.5-bin-hadoop3.tgz"
      ],
      "metadata": {
        "id": "tH3GGFD42nCM"
      },
      "execution_count": null,
      "outputs": []
    },
    {
      "cell_type": "code",
      "source": [
        "!pip install -q findspark"
      ],
      "metadata": {
        "id": "5syzG72q23gP"
      },
      "execution_count": null,
      "outputs": []
    },
    {
      "cell_type": "code",
      "source": [
        "import os\n",
        "os.environ[\"JAVA_HOME\"] = \"/usr/lib/jvm/java-8-openjdk-amd64\"\n",
        "os.environ[\"SPARK_HOME\"] = \"/content/spark-3.5.5-bin-hadoop3\""
      ],
      "metadata": {
        "id": "EbHBRdxY29J8"
      },
      "execution_count": null,
      "outputs": []
    },
    {
      "cell_type": "code",
      "source": [
        "import findspark\n",
        "findspark.init()"
      ],
      "metadata": {
        "id": "9V-NXY6c2-Rd"
      },
      "execution_count": null,
      "outputs": []
    },
    {
      "cell_type": "code",
      "source": [
        "from pyspark.sql import SparkSession\n",
        "\n",
        "spark = SparkSession.builder\\\n",
        "        .master(\"local\")\\\n",
        "        .appName(\"Colab\")\\\n",
        "        .config('spark.ui.port', '4050')\\\n",
        "        .getOrCreate()"
      ],
      "metadata": {
        "id": "bkvqDhiK3BMm"
      },
      "execution_count": null,
      "outputs": []
    },
    {
      "cell_type": "code",
      "source": [
        "spark"
      ],
      "metadata": {
        "colab": {
          "base_uri": "https://localhost:8080/",
          "height": 222
        },
        "id": "WvtqZ8S93Imc",
        "outputId": "9f31a76c-d5c5-498a-eece-c8c7082333e3"
      },
      "execution_count": null,
      "outputs": [
        {
          "output_type": "execute_result",
          "data": {
            "text/plain": [
              "<pyspark.sql.session.SparkSession at 0x7f4da5e34c50>"
            ],
            "text/html": [
              "\n",
              "            <div>\n",
              "                <p><b>SparkSession - in-memory</b></p>\n",
              "                \n",
              "        <div>\n",
              "            <p><b>SparkContext</b></p>\n",
              "\n",
              "            <p><a href=\"http://35ed62f59ee5:4050\">Spark UI</a></p>\n",
              "\n",
              "            <dl>\n",
              "              <dt>Version</dt>\n",
              "                <dd><code>v3.5.5</code></dd>\n",
              "              <dt>Master</dt>\n",
              "                <dd><code>local</code></dd>\n",
              "              <dt>AppName</dt>\n",
              "                <dd><code>Colab</code></dd>\n",
              "            </dl>\n",
              "        </div>\n",
              "        \n",
              "            </div>\n",
              "        "
            ]
          },
          "metadata": {},
          "execution_count": 8
        }
      ]
    },
    {
      "cell_type": "code",
      "source": [
        "import pyspark.pandas as ps"
      ],
      "metadata": {
        "colab": {
          "base_uri": "https://localhost:8080/"
        },
        "id": "mMnb2Doq8rxe",
        "outputId": "950616c6-62ee-4bda-ca01-5864c914557a"
      },
      "execution_count": null,
      "outputs": [
        {
          "output_type": "stream",
          "name": "stderr",
          "text": [
            "/content/spark-3.5.5-bin-hadoop3/python/pyspark/pandas/__init__.py:50: UserWarning: 'PYARROW_IGNORE_TIMEZONE' environment variable was not set. It is required to set this environment variable to '1' in both driver and executor sides if you use pyarrow>=2.0.0. pandas-on-Spark will set it for you but it does not work if there is a Spark context already launched.\n",
            "  warnings.warn(\n"
          ]
        }
      ]
    },
    {
      "cell_type": "code",
      "source": [
        "df = ps.read_csv('housing.csv')\n"
      ],
      "metadata": {
        "colab": {
          "base_uri": "https://localhost:8080/"
        },
        "id": "kaC1CG2--epY",
        "outputId": "4662f4e1-9032-462f-dd11-2931f5ebb909"
      },
      "execution_count": null,
      "outputs": [
        {
          "output_type": "stream",
          "name": "stderr",
          "text": [
            "/content/spark-3.5.5-bin-hadoop3/python/pyspark/pandas/utils.py:1016: PandasAPIOnSparkAdviceWarning: If `index_col` is not specified for `read_csv`, the default index is attached which can cause additional overhead.\n",
            "  warnings.warn(message, PandasAPIOnSparkAdviceWarning)\n"
          ]
        }
      ]
    },
    {
      "cell_type": "code",
      "source": [
        "df.head()"
      ],
      "metadata": {
        "colab": {
          "base_uri": "https://localhost:8080/",
          "height": 206
        },
        "id": "1VsR8Nci_A0V",
        "outputId": "ac427bdf-3720-4b4e-df4d-ab946cf823a1"
      },
      "execution_count": null,
      "outputs": [
        {
          "output_type": "execute_result",
          "data": {
            "text/plain": [
              "   longitude  latitude  housing_median_age  total_rooms  total_bedrooms  population  households  median_income  median_house_value ocean_proximity\n",
              "0    -122.23     37.88                41.0        880.0           129.0       322.0       126.0         8.3252            452600.0        NEAR BAY\n",
              "1    -122.22     37.86                21.0       7099.0          1106.0      2401.0      1138.0         8.3014            358500.0        NEAR BAY\n",
              "2    -122.24     37.85                52.0       1467.0           190.0       496.0       177.0         7.2574            352100.0        NEAR BAY\n",
              "3    -122.25     37.85                52.0       1274.0           235.0       558.0       219.0         5.6431            341300.0        NEAR BAY\n",
              "4    -122.25     37.85                52.0       1627.0           280.0       565.0       259.0         3.8462            342200.0        NEAR BAY"
            ],
            "text/html": [
              "<div>\n",
              "<style scoped>\n",
              "    .dataframe tbody tr th:only-of-type {\n",
              "        vertical-align: middle;\n",
              "    }\n",
              "\n",
              "    .dataframe tbody tr th {\n",
              "        vertical-align: top;\n",
              "    }\n",
              "\n",
              "    .dataframe thead th {\n",
              "        text-align: right;\n",
              "    }\n",
              "</style>\n",
              "<table border=\"1\" class=\"dataframe\">\n",
              "  <thead>\n",
              "    <tr style=\"text-align: right;\">\n",
              "      <th></th>\n",
              "      <th>longitude</th>\n",
              "      <th>latitude</th>\n",
              "      <th>housing_median_age</th>\n",
              "      <th>total_rooms</th>\n",
              "      <th>total_bedrooms</th>\n",
              "      <th>population</th>\n",
              "      <th>households</th>\n",
              "      <th>median_income</th>\n",
              "      <th>median_house_value</th>\n",
              "      <th>ocean_proximity</th>\n",
              "    </tr>\n",
              "  </thead>\n",
              "  <tbody>\n",
              "    <tr>\n",
              "      <th>0</th>\n",
              "      <td>-122.23</td>\n",
              "      <td>37.88</td>\n",
              "      <td>41.0</td>\n",
              "      <td>880.0</td>\n",
              "      <td>129.0</td>\n",
              "      <td>322.0</td>\n",
              "      <td>126.0</td>\n",
              "      <td>8.3252</td>\n",
              "      <td>452600.0</td>\n",
              "      <td>NEAR BAY</td>\n",
              "    </tr>\n",
              "    <tr>\n",
              "      <th>1</th>\n",
              "      <td>-122.22</td>\n",
              "      <td>37.86</td>\n",
              "      <td>21.0</td>\n",
              "      <td>7099.0</td>\n",
              "      <td>1106.0</td>\n",
              "      <td>2401.0</td>\n",
              "      <td>1138.0</td>\n",
              "      <td>8.3014</td>\n",
              "      <td>358500.0</td>\n",
              "      <td>NEAR BAY</td>\n",
              "    </tr>\n",
              "    <tr>\n",
              "      <th>2</th>\n",
              "      <td>-122.24</td>\n",
              "      <td>37.85</td>\n",
              "      <td>52.0</td>\n",
              "      <td>1467.0</td>\n",
              "      <td>190.0</td>\n",
              "      <td>496.0</td>\n",
              "      <td>177.0</td>\n",
              "      <td>7.2574</td>\n",
              "      <td>352100.0</td>\n",
              "      <td>NEAR BAY</td>\n",
              "    </tr>\n",
              "    <tr>\n",
              "      <th>3</th>\n",
              "      <td>-122.25</td>\n",
              "      <td>37.85</td>\n",
              "      <td>52.0</td>\n",
              "      <td>1274.0</td>\n",
              "      <td>235.0</td>\n",
              "      <td>558.0</td>\n",
              "      <td>219.0</td>\n",
              "      <td>5.6431</td>\n",
              "      <td>341300.0</td>\n",
              "      <td>NEAR BAY</td>\n",
              "    </tr>\n",
              "    <tr>\n",
              "      <th>4</th>\n",
              "      <td>-122.25</td>\n",
              "      <td>37.85</td>\n",
              "      <td>52.0</td>\n",
              "      <td>1627.0</td>\n",
              "      <td>280.0</td>\n",
              "      <td>565.0</td>\n",
              "      <td>259.0</td>\n",
              "      <td>3.8462</td>\n",
              "      <td>342200.0</td>\n",
              "      <td>NEAR BAY</td>\n",
              "    </tr>\n",
              "  </tbody>\n",
              "</table>\n",
              "</div>"
            ]
          },
          "metadata": {},
          "execution_count": 12
        }
      ]
    },
    {
      "cell_type": "markdown",
      "source": [
        "check for duplicate records"
      ],
      "metadata": {
        "id": "yrihJ54vNlfx"
      }
    },
    {
      "cell_type": "code",
      "source": [
        "print(df.shape[0], df.to_spark().distinct().count())"
      ],
      "metadata": {
        "colab": {
          "base_uri": "https://localhost:8080/"
        },
        "id": "wy5kFz4I_ZR-",
        "outputId": "f30de1f2-cbbd-4704-8ca7-8012b6870f96"
      },
      "execution_count": null,
      "outputs": [
        {
          "output_type": "stream",
          "name": "stderr",
          "text": [
            "/content/spark-3.5.5-bin-hadoop3/python/pyspark/pandas/utils.py:1016: PandasAPIOnSparkAdviceWarning: If `index_col` is not specified for `to_spark`, the existing index is lost when converting to Spark DataFrame.\n",
            "  warnings.warn(message, PandasAPIOnSparkAdviceWarning)\n"
          ]
        },
        {
          "output_type": "stream",
          "name": "stdout",
          "text": [
            "20640 20640\n"
          ]
        }
      ]
    },
    {
      "cell_type": "markdown",
      "source": [
        "Both numbers are the same so we do not have any duplicate records"
      ],
      "metadata": {
        "id": "f9FzQ2-mDahW"
      }
    },
    {
      "cell_type": "markdown",
      "source": [
        "number of rows with missing values"
      ],
      "metadata": {
        "id": "2R7atG4vHDlQ"
      }
    },
    {
      "cell_type": "code",
      "source": [
        "x = df.isna().sum(axis=1)\n",
        "x[x >= 1].shape[0]"
      ],
      "metadata": {
        "colab": {
          "base_uri": "https://localhost:8080/"
        },
        "id": "af8YEFDeFZ3B",
        "outputId": "5e52b628-f085-48b2-fa85-fbf6d90ec889"
      },
      "execution_count": null,
      "outputs": [
        {
          "output_type": "execute_result",
          "data": {
            "text/plain": [
              "207"
            ]
          },
          "metadata": {},
          "execution_count": 14
        }
      ]
    },
    {
      "cell_type": "markdown",
      "source": [
        "count the number of missing values the columns of each row"
      ],
      "metadata": {
        "id": "bBe1ScIJLHuR"
      }
    },
    {
      "cell_type": "code",
      "source": [
        "x = df.isna().sum(axis=1)\n",
        "x.sort_values(ascending=False)"
      ],
      "metadata": {
        "colab": {
          "base_uri": "https://localhost:8080/"
        },
        "id": "F5MRea-oLB81",
        "outputId": "c4cddcef-e8ae-4aca-a750-9c6cdda705a4"
      },
      "execution_count": null,
      "outputs": [
        {
          "output_type": "execute_result",
          "data": {
            "text/plain": [
              "290      1\n",
              "341      1\n",
              "538      1\n",
              "563      1\n",
              "696      1\n",
              "738      1\n",
              "1097     1\n",
              "1350     1\n",
              "1456     1\n",
              "1493     1\n",
              "1606     1\n",
              "2028     1\n",
              "2115     1\n",
              "2301     1\n",
              "2323     1\n",
              "2334     1\n",
              "2351     1\n",
              "2412     1\n",
              "2420     1\n",
              "2578     1\n",
              "2608     1\n",
              "2647     1\n",
              "2826     1\n",
              "3024     1\n",
              "3328     1\n",
              "3354     1\n",
              "3376     1\n",
              "3482     1\n",
              "3485     1\n",
              "3529     1\n",
              "3721     1\n",
              "3778     1\n",
              "3912     1\n",
              "3921     1\n",
              "3958     1\n",
              "4043     1\n",
              "4046     1\n",
              "4186     1\n",
              "4279     1\n",
              "4309     1\n",
              "4391     1\n",
              "4447     1\n",
              "4496     1\n",
              "4591     1\n",
              "4600     1\n",
              "4629     1\n",
              "4667     1\n",
              "4691     1\n",
              "4738     1\n",
              "4743     1\n",
              "4744     1\n",
              "4767     1\n",
              "4852     1\n",
              "5059     1\n",
              "5216     1\n",
              "5222     1\n",
              "5236     1\n",
              "5654     1\n",
              "5665     1\n",
              "5678     1\n",
              "5723     1\n",
              "5751     1\n",
              "5990     1\n",
              "6052     1\n",
              "6068     1\n",
              "6220     1\n",
              "6241     1\n",
              "6253     1\n",
              "6298     1\n",
              "6421     1\n",
              "6541     1\n",
              "6590     1\n",
              "6814     1\n",
              "6835     1\n",
              "6962     1\n",
              "7097     1\n",
              "7113     1\n",
              "7168     1\n",
              "7191     1\n",
              "7228     1\n",
              "7316     1\n",
              "7330     1\n",
              "7547     1\n",
              "7654     1\n",
              "7668     1\n",
              "7763     1\n",
              "7806     1\n",
              "8337     1\n",
              "8383     1\n",
              "8530     1\n",
              "8915     1\n",
              "9149     1\n",
              "9571     1\n",
              "9620     1\n",
              "9622     1\n",
              "9814     1\n",
              "9845     1\n",
              "9877     1\n",
              "9942     1\n",
              "9970     1\n",
              "10033    1\n",
              "10216    1\n",
              "10236    1\n",
              "10385    1\n",
              "10389    1\n",
              "10428    1\n",
              "10495    1\n",
              "10761    1\n",
              "10885    1\n",
              "10915    1\n",
              "11096    1\n",
              "11311    1\n",
              "11351    1\n",
              "11441    1\n",
              "11449    1\n",
              "11512    1\n",
              "11741    1\n",
              "12101    1\n",
              "12414    1\n",
              "12570    1\n",
              "12809    1\n",
              "13015    1\n",
              "13069    1\n",
              "13311    1\n",
              "13332    1\n",
              "13336    1\n",
              "13597    1\n",
              "13656    1\n",
              "13706    1\n",
              "13925    1\n",
              "13932    1\n",
              "13933    1\n",
              "14015    1\n",
              "14152    1\n",
              "14173    1\n",
              "14307    1\n",
              "14331    1\n",
              "14386    1\n",
              "14462    1\n",
              "14521    1\n",
              "14641    1\n",
              "14930    1\n",
              "14970    1\n",
              "14986    1\n",
              "15030    1\n",
              "15060    1\n",
              "15118    1\n",
              "15137    1\n",
              "15397    1\n",
              "15479    1\n",
              "15607    1\n",
              "15663    1\n",
              "15890    1\n",
              "15975    1\n",
              "16025    1\n",
              "16038    1\n",
              "16104    1\n",
              "16105    1\n",
              "16330    1\n",
              "16757    1\n",
              "16879    1\n",
              "16880    1\n",
              "16885    1\n",
              "17041    1\n",
              "17198    1\n",
              "17202    1\n",
              "17639    1\n",
              "17825    1\n",
              "17840    1\n",
              "17923    1\n",
              "17928    1\n",
              "17973    1\n",
              "18177    1\n",
              "18246    1\n",
              "18261    1\n",
              "18332    1\n",
              "18346    1\n",
              "18466    1\n",
              "18786    1\n",
              "18873    1\n",
              "18914    1\n",
              "19060    1\n",
              "19071    1\n",
              "19122    1\n",
              "19150    1\n",
              "19252    1\n",
              "19332    1\n",
              "19391    1\n",
              "19402    1\n",
              "19485    1\n",
              "19559    1\n",
              "19607    1\n",
              "19638    1\n",
              "19766    1\n",
              "19818    1\n",
              "19833    1\n",
              "19890    1\n",
              "19932    1\n",
              "19959    1\n",
              "20046    1\n",
              "20069    1\n",
              "20125    1\n",
              "20267    1\n",
              "20268    1\n",
              "20372    1\n",
              "20460    1\n",
              "20484    1\n",
              "0        0\n",
              "1        0\n",
              "2        0\n",
              "3        0\n",
              "4        0\n",
              "5        0\n",
              "6        0\n",
              "7        0\n",
              "8        0\n",
              "9        0\n",
              "10       0\n",
              "11       0\n",
              "12       0\n",
              "13       0\n",
              "14       0\n",
              "15       0\n",
              "16       0\n",
              "17       0\n",
              "18       0\n",
              "19       0\n",
              "20       0\n",
              "21       0\n",
              "22       0\n",
              "23       0\n",
              "24       0\n",
              "25       0\n",
              "26       0\n",
              "27       0\n",
              "28       0\n",
              "29       0\n",
              "30       0\n",
              "31       0\n",
              "32       0\n",
              "33       0\n",
              "34       0\n",
              "35       0\n",
              "36       0\n",
              "37       0\n",
              "38       0\n",
              "39       0\n",
              "40       0\n",
              "41       0\n",
              "42       0\n",
              "43       0\n",
              "44       0\n",
              "45       0\n",
              "46       0\n",
              "47       0\n",
              "48       0\n",
              "49       0\n",
              "50       0\n",
              "51       0\n",
              "52       0\n",
              "53       0\n",
              "54       0\n",
              "55       0\n",
              "56       0\n",
              "57       0\n",
              "58       0\n",
              "59       0\n",
              "60       0\n",
              "61       0\n",
              "62       0\n",
              "63       0\n",
              "64       0\n",
              "65       0\n",
              "66       0\n",
              "67       0\n",
              "68       0\n",
              "69       0\n",
              "70       0\n",
              "71       0\n",
              "72       0\n",
              "73       0\n",
              "74       0\n",
              "75       0\n",
              "76       0\n",
              "77       0\n",
              "78       0\n",
              "79       0\n",
              "80       0\n",
              "81       0\n",
              "82       0\n",
              "83       0\n",
              "84       0\n",
              "85       0\n",
              "86       0\n",
              "87       0\n",
              "88       0\n",
              "89       0\n",
              "90       0\n",
              "91       0\n",
              "92       0\n",
              "93       0\n",
              "94       0\n",
              "95       0\n",
              "96       0\n",
              "97       0\n",
              "98       0\n",
              "99       0\n",
              "100      0\n",
              "101      0\n",
              "102      0\n",
              "103      0\n",
              "104      0\n",
              "105      0\n",
              "106      0\n",
              "107      0\n",
              "108      0\n",
              "109      0\n",
              "110      0\n",
              "111      0\n",
              "112      0\n",
              "113      0\n",
              "114      0\n",
              "115      0\n",
              "116      0\n",
              "117      0\n",
              "118      0\n",
              "119      0\n",
              "120      0\n",
              "121      0\n",
              "122      0\n",
              "123      0\n",
              "124      0\n",
              "125      0\n",
              "126      0\n",
              "127      0\n",
              "128      0\n",
              "129      0\n",
              "130      0\n",
              "131      0\n",
              "132      0\n",
              "133      0\n",
              "134      0\n",
              "135      0\n",
              "136      0\n",
              "137      0\n",
              "138      0\n",
              "139      0\n",
              "140      0\n",
              "141      0\n",
              "142      0\n",
              "143      0\n",
              "144      0\n",
              "145      0\n",
              "146      0\n",
              "147      0\n",
              "148      0\n",
              "149      0\n",
              "150      0\n",
              "151      0\n",
              "152      0\n",
              "153      0\n",
              "154      0\n",
              "155      0\n",
              "156      0\n",
              "157      0\n",
              "158      0\n",
              "159      0\n",
              "160      0\n",
              "161      0\n",
              "162      0\n",
              "163      0\n",
              "164      0\n",
              "165      0\n",
              "166      0\n",
              "167      0\n",
              "168      0\n",
              "169      0\n",
              "170      0\n",
              "171      0\n",
              "172      0\n",
              "173      0\n",
              "174      0\n",
              "175      0\n",
              "176      0\n",
              "177      0\n",
              "178      0\n",
              "179      0\n",
              "180      0\n",
              "181      0\n",
              "182      0\n",
              "183      0\n",
              "184      0\n",
              "185      0\n",
              "186      0\n",
              "187      0\n",
              "188      0\n",
              "189      0\n",
              "190      0\n",
              "191      0\n",
              "192      0\n",
              "193      0\n",
              "194      0\n",
              "195      0\n",
              "196      0\n",
              "197      0\n",
              "198      0\n",
              "199      0\n",
              "200      0\n",
              "201      0\n",
              "202      0\n",
              "203      0\n",
              "204      0\n",
              "205      0\n",
              "206      0\n",
              "207      0\n",
              "208      0\n",
              "209      0\n",
              "210      0\n",
              "211      0\n",
              "212      0\n",
              "213      0\n",
              "214      0\n",
              "215      0\n",
              "216      0\n",
              "217      0\n",
              "218      0\n",
              "219      0\n",
              "220      0\n",
              "221      0\n",
              "222      0\n",
              "223      0\n",
              "224      0\n",
              "225      0\n",
              "226      0\n",
              "227      0\n",
              "228      0\n",
              "229      0\n",
              "230      0\n",
              "231      0\n",
              "232      0\n",
              "233      0\n",
              "234      0\n",
              "235      0\n",
              "236      0\n",
              "237      0\n",
              "238      0\n",
              "239      0\n",
              "240      0\n",
              "241      0\n",
              "242      0\n",
              "243      0\n",
              "244      0\n",
              "245      0\n",
              "246      0\n",
              "247      0\n",
              "248      0\n",
              "249      0\n",
              "250      0\n",
              "251      0\n",
              "252      0\n",
              "253      0\n",
              "254      0\n",
              "255      0\n",
              "256      0\n",
              "257      0\n",
              "258      0\n",
              "259      0\n",
              "260      0\n",
              "261      0\n",
              "262      0\n",
              "263      0\n",
              "264      0\n",
              "265      0\n",
              "266      0\n",
              "267      0\n",
              "268      0\n",
              "269      0\n",
              "270      0\n",
              "271      0\n",
              "272      0\n",
              "273      0\n",
              "274      0\n",
              "275      0\n",
              "276      0\n",
              "277      0\n",
              "278      0\n",
              "279      0\n",
              "280      0\n",
              "281      0\n",
              "282      0\n",
              "283      0\n",
              "284      0\n",
              "285      0\n",
              "286      0\n",
              "287      0\n",
              "288      0\n",
              "289      0\n",
              "291      0\n",
              "292      0\n",
              "293      0\n",
              "294      0\n",
              "295      0\n",
              "296      0\n",
              "297      0\n",
              "298      0\n",
              "299      0\n",
              "300      0\n",
              "301      0\n",
              "302      0\n",
              "303      0\n",
              "304      0\n",
              "305      0\n",
              "306      0\n",
              "307      0\n",
              "308      0\n",
              "309      0\n",
              "310      0\n",
              "311      0\n",
              "312      0\n",
              "313      0\n",
              "314      0\n",
              "315      0\n",
              "316      0\n",
              "317      0\n",
              "318      0\n",
              "319      0\n",
              "320      0\n",
              "321      0\n",
              "322      0\n",
              "323      0\n",
              "324      0\n",
              "325      0\n",
              "326      0\n",
              "327      0\n",
              "328      0\n",
              "329      0\n",
              "330      0\n",
              "331      0\n",
              "332      0\n",
              "333      0\n",
              "334      0\n",
              "335      0\n",
              "336      0\n",
              "337      0\n",
              "338      0\n",
              "339      0\n",
              "340      0\n",
              "342      0\n",
              "343      0\n",
              "344      0\n",
              "345      0\n",
              "346      0\n",
              "347      0\n",
              "348      0\n",
              "349      0\n",
              "350      0\n",
              "351      0\n",
              "352      0\n",
              "353      0\n",
              "354      0\n",
              "355      0\n",
              "356      0\n",
              "357      0\n",
              "358      0\n",
              "359      0\n",
              "360      0\n",
              "361      0\n",
              "362      0\n",
              "363      0\n",
              "364      0\n",
              "365      0\n",
              "366      0\n",
              "367      0\n",
              "368      0\n",
              "369      0\n",
              "370      0\n",
              "371      0\n",
              "372      0\n",
              "373      0\n",
              "374      0\n",
              "375      0\n",
              "376      0\n",
              "377      0\n",
              "378      0\n",
              "379      0\n",
              "380      0\n",
              "381      0\n",
              "382      0\n",
              "383      0\n",
              "384      0\n",
              "385      0\n",
              "386      0\n",
              "387      0\n",
              "388      0\n",
              "389      0\n",
              "390      0\n",
              "391      0\n",
              "392      0\n",
              "393      0\n",
              "394      0\n",
              "395      0\n",
              "396      0\n",
              "397      0\n",
              "398      0\n",
              "399      0\n",
              "400      0\n",
              "401      0\n",
              "402      0\n",
              "403      0\n",
              "404      0\n",
              "405      0\n",
              "406      0\n",
              "407      0\n",
              "408      0\n",
              "409      0\n",
              "410      0\n",
              "411      0\n",
              "412      0\n",
              "413      0\n",
              "414      0\n",
              "415      0\n",
              "416      0\n",
              "417      0\n",
              "418      0\n",
              "419      0\n",
              "420      0\n",
              "421      0\n",
              "422      0\n",
              "423      0\n",
              "424      0\n",
              "425      0\n",
              "426      0\n",
              "427      0\n",
              "428      0\n",
              "429      0\n",
              "430      0\n",
              "431      0\n",
              "432      0\n",
              "433      0\n",
              "434      0\n",
              "435      0\n",
              "436      0\n",
              "437      0\n",
              "438      0\n",
              "439      0\n",
              "440      0\n",
              "441      0\n",
              "442      0\n",
              "443      0\n",
              "444      0\n",
              "445      0\n",
              "446      0\n",
              "447      0\n",
              "448      0\n",
              "449      0\n",
              "450      0\n",
              "451      0\n",
              "452      0\n",
              "453      0\n",
              "454      0\n",
              "455      0\n",
              "456      0\n",
              "457      0\n",
              "458      0\n",
              "459      0\n",
              "460      0\n",
              "461      0\n",
              "462      0\n",
              "463      0\n",
              "464      0\n",
              "465      0\n",
              "466      0\n",
              "467      0\n",
              "468      0\n",
              "469      0\n",
              "470      0\n",
              "471      0\n",
              "472      0\n",
              "473      0\n",
              "474      0\n",
              "475      0\n",
              "476      0\n",
              "477      0\n",
              "478      0\n",
              "479      0\n",
              "480      0\n",
              "481      0\n",
              "482      0\n",
              "483      0\n",
              "484      0\n",
              "485      0\n",
              "486      0\n",
              "487      0\n",
              "488      0\n",
              "489      0\n",
              "490      0\n",
              "491      0\n",
              "492      0\n",
              "493      0\n",
              "494      0\n",
              "495      0\n",
              "496      0\n",
              "497      0\n",
              "498      0\n",
              "499      0\n",
              "500      0\n",
              "501      0\n",
              "502      0\n",
              "503      0\n",
              "504      0\n",
              "505      0\n",
              "506      0\n",
              "507      0\n",
              "508      0\n",
              "509      0\n",
              "510      0\n",
              "511      0\n",
              "512      0\n",
              "513      0\n",
              "514      0\n",
              "515      0\n",
              "516      0\n",
              "517      0\n",
              "518      0\n",
              "519      0\n",
              "520      0\n",
              "521      0\n",
              "522      0\n",
              "523      0\n",
              "524      0\n",
              "525      0\n",
              "526      0\n",
              "527      0\n",
              "528      0\n",
              "529      0\n",
              "530      0\n",
              "531      0\n",
              "532      0\n",
              "533      0\n",
              "534      0\n",
              "535      0\n",
              "536      0\n",
              "537      0\n",
              "539      0\n",
              "540      0\n",
              "541      0\n",
              "542      0\n",
              "543      0\n",
              "544      0\n",
              "545      0\n",
              "546      0\n",
              "547      0\n",
              "548      0\n",
              "549      0\n",
              "550      0\n",
              "551      0\n",
              "552      0\n",
              "553      0\n",
              "554      0\n",
              "555      0\n",
              "556      0\n",
              "557      0\n",
              "558      0\n",
              "559      0\n",
              "560      0\n",
              "561      0\n",
              "562      0\n",
              "564      0\n",
              "565      0\n",
              "566      0\n",
              "567      0\n",
              "568      0\n",
              "569      0\n",
              "570      0\n",
              "571      0\n",
              "572      0\n",
              "573      0\n",
              "574      0\n",
              "575      0\n",
              "576      0\n",
              "577      0\n",
              "578      0\n",
              "579      0\n",
              "580      0\n",
              "581      0\n",
              "582      0\n",
              "583      0\n",
              "584      0\n",
              "585      0\n",
              "586      0\n",
              "587      0\n",
              "588      0\n",
              "589      0\n",
              "590      0\n",
              "591      0\n",
              "592      0\n",
              "593      0\n",
              "594      0\n",
              "595      0\n",
              "596      0\n",
              "597      0\n",
              "598      0\n",
              "599      0\n",
              "600      0\n",
              "601      0\n",
              "602      0\n",
              "603      0\n",
              "604      0\n",
              "605      0\n",
              "606      0\n",
              "607      0\n",
              "608      0\n",
              "609      0\n",
              "610      0\n",
              "611      0\n",
              "612      0\n",
              "613      0\n",
              "614      0\n",
              "615      0\n",
              "616      0\n",
              "617      0\n",
              "618      0\n",
              "619      0\n",
              "620      0\n",
              "621      0\n",
              "622      0\n",
              "623      0\n",
              "624      0\n",
              "625      0\n",
              "626      0\n",
              "627      0\n",
              "628      0\n",
              "629      0\n",
              "630      0\n",
              "631      0\n",
              "632      0\n",
              "633      0\n",
              "634      0\n",
              "635      0\n",
              "636      0\n",
              "637      0\n",
              "638      0\n",
              "639      0\n",
              "640      0\n",
              "641      0\n",
              "642      0\n",
              "643      0\n",
              "644      0\n",
              "645      0\n",
              "646      0\n",
              "647      0\n",
              "648      0\n",
              "649      0\n",
              "650      0\n",
              "651      0\n",
              "652      0\n",
              "653      0\n",
              "654      0\n",
              "655      0\n",
              "656      0\n",
              "657      0\n",
              "658      0\n",
              "659      0\n",
              "660      0\n",
              "661      0\n",
              "662      0\n",
              "663      0\n",
              "664      0\n",
              "665      0\n",
              "666      0\n",
              "667      0\n",
              "668      0\n",
              "669      0\n",
              "670      0\n",
              "671      0\n",
              "672      0\n",
              "673      0\n",
              "674      0\n",
              "675      0\n",
              "676      0\n",
              "677      0\n",
              "678      0\n",
              "679      0\n",
              "680      0\n",
              "681      0\n",
              "682      0\n",
              "683      0\n",
              "684      0\n",
              "685      0\n",
              "686      0\n",
              "687      0\n",
              "688      0\n",
              "689      0\n",
              "690      0\n",
              "691      0\n",
              "692      0\n",
              "693      0\n",
              "694      0\n",
              "695      0\n",
              "697      0\n",
              "698      0\n",
              "699      0\n",
              "700      0\n",
              "701      0\n",
              "702      0\n",
              "703      0\n",
              "704      0\n",
              "705      0\n",
              "706      0\n",
              "707      0\n",
              "708      0\n",
              "709      0\n",
              "710      0\n",
              "711      0\n",
              "712      0\n",
              "713      0\n",
              "714      0\n",
              "715      0\n",
              "716      0\n",
              "717      0\n",
              "718      0\n",
              "719      0\n",
              "720      0\n",
              "721      0\n",
              "722      0\n",
              "723      0\n",
              "724      0\n",
              "725      0\n",
              "726      0\n",
              "727      0\n",
              "728      0\n",
              "729      0\n",
              "730      0\n",
              "731      0\n",
              "732      0\n",
              "733      0\n",
              "734      0\n",
              "735      0\n",
              "736      0\n",
              "737      0\n",
              "739      0\n",
              "740      0\n",
              "741      0\n",
              "742      0\n",
              "743      0\n",
              "744      0\n",
              "745      0\n",
              "746      0\n",
              "747      0\n",
              "748      0\n",
              "749      0\n",
              "750      0\n",
              "751      0\n",
              "752      0\n",
              "753      0\n",
              "754      0\n",
              "755      0\n",
              "756      0\n",
              "757      0\n",
              "758      0\n",
              "759      0\n",
              "760      0\n",
              "761      0\n",
              "762      0\n",
              "763      0\n",
              "764      0\n",
              "765      0\n",
              "766      0\n",
              "767      0\n",
              "768      0\n",
              "769      0\n",
              "770      0\n",
              "771      0\n",
              "772      0\n",
              "773      0\n",
              "774      0\n",
              "775      0\n",
              "776      0\n",
              "777      0\n",
              "778      0\n",
              "779      0\n",
              "780      0\n",
              "781      0\n",
              "782      0\n",
              "783      0\n",
              "784      0\n",
              "785      0\n",
              "786      0\n",
              "787      0\n",
              "788      0\n",
              "789      0\n",
              "790      0\n",
              "791      0\n",
              "792      0\n",
              "793      0\n",
              "794      0\n",
              "795      0\n",
              "796      0\n",
              "797      0\n",
              "798      0\n",
              "dtype: int64\n",
              "Showing only the first 1000"
            ]
          },
          "metadata": {},
          "execution_count": 15
        }
      ]
    },
    {
      "cell_type": "markdown",
      "source": [
        "there is only one column missing a value in each row"
      ],
      "metadata": {
        "id": "bGTc_JLAOQk9"
      }
    },
    {
      "cell_type": "markdown",
      "source": [
        "count percentage of missing values in each column"
      ],
      "metadata": {
        "id": "F_2wsyeiL3ws"
      }
    },
    {
      "cell_type": "code",
      "source": [
        "df.isna().sum(axis=0)/df.shape[0]"
      ],
      "metadata": {
        "colab": {
          "base_uri": "https://localhost:8080/"
        },
        "id": "vcxmbPMeLzFa",
        "outputId": "cdd36e88-5104-48b0-8433-82ef3c1d2a67"
      },
      "execution_count": null,
      "outputs": [
        {
          "output_type": "execute_result",
          "data": {
            "text/plain": [
              "longitude             0.000000\n",
              "latitude              0.000000\n",
              "housing_median_age    0.000000\n",
              "total_rooms           0.000000\n",
              "total_bedrooms        0.010029\n",
              "population            0.000000\n",
              "households            0.000000\n",
              "median_income         0.000000\n",
              "median_house_value    0.000000\n",
              "ocean_proximity       0.000000\n",
              "dtype: float64"
            ]
          },
          "metadata": {},
          "execution_count": 16
        }
      ]
    },
    {
      "cell_type": "markdown",
      "source": [
        "there is only one column which contains the missing values"
      ],
      "metadata": {
        "id": "4pI7N7P4OWYb"
      }
    },
    {
      "cell_type": "code",
      "source": [
        "# Calculate the average ratio of total_rooms to total_bedrooms\n",
        "average_ratio = df['total_rooms'].mean() / df['total_bedrooms'].mean()\n"
      ],
      "metadata": {
        "id": "W-JOLEFqN8YQ"
      },
      "execution_count": null,
      "outputs": []
    },
    {
      "cell_type": "code",
      "source": [
        "average_ratio"
      ],
      "metadata": {
        "colab": {
          "base_uri": "https://localhost:8080/"
        },
        "id": "k-VINzyCPqxG",
        "outputId": "5478fade-44ba-4df1-f0f4-4fb6334d7fb0"
      },
      "execution_count": null,
      "outputs": [
        {
          "output_type": "execute_result",
          "data": {
            "text/plain": [
              "4.90036695439147"
            ]
          },
          "metadata": {},
          "execution_count": 18
        }
      ]
    },
    {
      "cell_type": "code",
      "source": [
        "# Fill NaN values in 'total_bedrooms' with the mean of 'total_rooms' divided by 4.9\n",
        "df['total_bedrooms'] = df['total_bedrooms'].fillna(df['total_rooms'].mean() / 4.9)\n"
      ],
      "metadata": {
        "id": "oo0Nkj1YQZci"
      },
      "execution_count": null,
      "outputs": []
    },
    {
      "cell_type": "code",
      "source": [
        "x = df.isna().sum(axis=1)\n",
        "x[x >= 1].shape[0]"
      ],
      "metadata": {
        "colab": {
          "base_uri": "https://localhost:8080/"
        },
        "id": "EpIbWDLHQyy6",
        "outputId": "329d7b48-d0d2-41aa-b947-4b416cd19c04"
      },
      "execution_count": null,
      "outputs": [
        {
          "output_type": "execute_result",
          "data": {
            "text/plain": [
              "0"
            ]
          },
          "metadata": {},
          "execution_count": 20
        }
      ]
    },
    {
      "cell_type": "markdown",
      "source": [
        "we will not be using longitude or latitude columns so we drop them"
      ],
      "metadata": {
        "id": "lky67HhlOpND"
      }
    },
    {
      "cell_type": "code",
      "source": [
        "df = df.drop(columns=['longitude', 'latitude'])\n"
      ],
      "metadata": {
        "id": "bNM9vBG2RsaZ"
      },
      "execution_count": null,
      "outputs": []
    },
    {
      "cell_type": "code",
      "source": [
        "df.describe()"
      ],
      "metadata": {
        "colab": {
          "base_uri": "https://localhost:8080/",
          "height": 300
        },
        "id": "b_sr8k1aSK1w",
        "outputId": "c94f1da8-ddc9-465e-97f0-23cbccae7a50"
      },
      "execution_count": null,
      "outputs": [
        {
          "output_type": "execute_result",
          "data": {
            "text/plain": [
              "       housing_median_age   total_rooms  total_bedrooms    population    households  median_income  median_house_value\n",
              "count        20640.000000  20640.000000    20640.000000  20640.000000  20640.000000   20640.000000        20640.000000\n",
              "mean            28.639486   2635.763081      537.870957   1425.476744    499.539680       3.870671       206855.816909\n",
              "std             12.585558   2181.615252      419.266592   1132.462122    382.329753       1.899822       115395.615874\n",
              "min              1.000000      2.000000        1.000000      3.000000      1.000000       0.499900        14999.000000\n",
              "25%             18.000000   1447.000000      297.000000    787.000000    280.000000       2.562500       119600.000000\n",
              "50%             29.000000   2127.000000      438.000000   1166.000000    409.000000       3.534700       179700.000000\n",
              "75%             37.000000   3146.000000      643.000000   1724.000000    605.000000       4.742600       264700.000000\n",
              "max             52.000000  39320.000000     6445.000000  35682.000000   6082.000000      15.000100       500001.000000"
            ],
            "text/html": [
              "<div>\n",
              "<style scoped>\n",
              "    .dataframe tbody tr th:only-of-type {\n",
              "        vertical-align: middle;\n",
              "    }\n",
              "\n",
              "    .dataframe tbody tr th {\n",
              "        vertical-align: top;\n",
              "    }\n",
              "\n",
              "    .dataframe thead th {\n",
              "        text-align: right;\n",
              "    }\n",
              "</style>\n",
              "<table border=\"1\" class=\"dataframe\">\n",
              "  <thead>\n",
              "    <tr style=\"text-align: right;\">\n",
              "      <th></th>\n",
              "      <th>housing_median_age</th>\n",
              "      <th>total_rooms</th>\n",
              "      <th>total_bedrooms</th>\n",
              "      <th>population</th>\n",
              "      <th>households</th>\n",
              "      <th>median_income</th>\n",
              "      <th>median_house_value</th>\n",
              "    </tr>\n",
              "  </thead>\n",
              "  <tbody>\n",
              "    <tr>\n",
              "      <th>count</th>\n",
              "      <td>20640.000000</td>\n",
              "      <td>20640.000000</td>\n",
              "      <td>20640.000000</td>\n",
              "      <td>20640.000000</td>\n",
              "      <td>20640.000000</td>\n",
              "      <td>20640.000000</td>\n",
              "      <td>20640.000000</td>\n",
              "    </tr>\n",
              "    <tr>\n",
              "      <th>mean</th>\n",
              "      <td>28.639486</td>\n",
              "      <td>2635.763081</td>\n",
              "      <td>537.870957</td>\n",
              "      <td>1425.476744</td>\n",
              "      <td>499.539680</td>\n",
              "      <td>3.870671</td>\n",
              "      <td>206855.816909</td>\n",
              "    </tr>\n",
              "    <tr>\n",
              "      <th>std</th>\n",
              "      <td>12.585558</td>\n",
              "      <td>2181.615252</td>\n",
              "      <td>419.266592</td>\n",
              "      <td>1132.462122</td>\n",
              "      <td>382.329753</td>\n",
              "      <td>1.899822</td>\n",
              "      <td>115395.615874</td>\n",
              "    </tr>\n",
              "    <tr>\n",
              "      <th>min</th>\n",
              "      <td>1.000000</td>\n",
              "      <td>2.000000</td>\n",
              "      <td>1.000000</td>\n",
              "      <td>3.000000</td>\n",
              "      <td>1.000000</td>\n",
              "      <td>0.499900</td>\n",
              "      <td>14999.000000</td>\n",
              "    </tr>\n",
              "    <tr>\n",
              "      <th>25%</th>\n",
              "      <td>18.000000</td>\n",
              "      <td>1447.000000</td>\n",
              "      <td>297.000000</td>\n",
              "      <td>787.000000</td>\n",
              "      <td>280.000000</td>\n",
              "      <td>2.562500</td>\n",
              "      <td>119600.000000</td>\n",
              "    </tr>\n",
              "    <tr>\n",
              "      <th>50%</th>\n",
              "      <td>29.000000</td>\n",
              "      <td>2127.000000</td>\n",
              "      <td>438.000000</td>\n",
              "      <td>1166.000000</td>\n",
              "      <td>409.000000</td>\n",
              "      <td>3.534700</td>\n",
              "      <td>179700.000000</td>\n",
              "    </tr>\n",
              "    <tr>\n",
              "      <th>75%</th>\n",
              "      <td>37.000000</td>\n",
              "      <td>3146.000000</td>\n",
              "      <td>643.000000</td>\n",
              "      <td>1724.000000</td>\n",
              "      <td>605.000000</td>\n",
              "      <td>4.742600</td>\n",
              "      <td>264700.000000</td>\n",
              "    </tr>\n",
              "    <tr>\n",
              "      <th>max</th>\n",
              "      <td>52.000000</td>\n",
              "      <td>39320.000000</td>\n",
              "      <td>6445.000000</td>\n",
              "      <td>35682.000000</td>\n",
              "      <td>6082.000000</td>\n",
              "      <td>15.000100</td>\n",
              "      <td>500001.000000</td>\n",
              "    </tr>\n",
              "  </tbody>\n",
              "</table>\n",
              "</div>"
            ]
          },
          "metadata": {},
          "execution_count": 22
        }
      ]
    },
    {
      "cell_type": "markdown",
      "source": [
        "The mean of both median_house_value and median_income make sense when remembering that the dataset is from California in 1990. The minimum values indicate that there is an outlier in the dataset. I cannot comment on the mean population per census block or the number of households per census block because it is hard to visualize how big a census block group is and it varies drastically in its size."
      ],
      "metadata": {
        "id": "tjktO93bOw6_"
      }
    },
    {
      "cell_type": "markdown",
      "source": [
        "Creating a bar chart that shows the frequency of each category in the categorical variable"
      ],
      "metadata": {
        "id": "XmpUiOBEQEr9"
      }
    },
    {
      "cell_type": "code",
      "source": [
        "df['ocean_proximity'].value_counts()"
      ],
      "metadata": {
        "colab": {
          "base_uri": "https://localhost:8080/"
        },
        "id": "7-wz2SnwVeTB",
        "outputId": "1d7ba8e8-8d42-4cfb-9535-4aa3dd179779"
      },
      "execution_count": null,
      "outputs": [
        {
          "output_type": "stream",
          "name": "stderr",
          "text": [
            "/content/spark-3.5.5-bin-hadoop3/python/pyspark/pandas/base.py:1437: FutureWarning: The resulting Series will have a fixed name of 'count' from 4.0.0.\n",
            "  warnings.warn(\n"
          ]
        },
        {
          "output_type": "execute_result",
          "data": {
            "text/plain": [
              "<1H OCEAN     9136\n",
              "INLAND        6551\n",
              "NEAR OCEAN    2658\n",
              "NEAR BAY      2290\n",
              "ISLAND           5\n",
              "Name: ocean_proximity, dtype: int64"
            ]
          },
          "metadata": {},
          "execution_count": 23
        }
      ]
    },
    {
      "cell_type": "code",
      "source": [
        "ocean_proximity_bar_chart = ps.DataFrame([\n",
        "          ('<1H OCEAN', 9136)\n",
        "        , ('INLAND', 6551)\n",
        "        , ('NEAR OCEAN', 2658)\n",
        "        , ('NEAR BAY', 2290)\n",
        "        , ('ISLAND', 5)\n",
        "    ], columns=['ocean_proximity', 'count'])"
      ],
      "metadata": {
        "id": "lKvGwEgDVGkx"
      },
      "execution_count": null,
      "outputs": []
    },
    {
      "cell_type": "code",
      "source": [
        "fig = ocean_proximity_bar_chart.plot.bar(x='ocean_proximity', y='count')\n",
        "fig.update_layout(\n",
        "    title=\"Frequency of Ocean Proximity Categories\",\n",
        "    xaxis_title=\"Ocean Proximity Categories\",\n",
        "    yaxis_title=\"Frequency\"\n",
        ")\n",
        "\n",
        "fig.show()"
      ],
      "metadata": {
        "colab": {
          "base_uri": "https://localhost:8080/",
          "height": 542
        },
        "id": "MEsV1C_UZgAX",
        "outputId": "46958ebe-bf57-4d94-d7fe-40c446b591ab"
      },
      "execution_count": null,
      "outputs": [
        {
          "output_type": "display_data",
          "data": {
            "text/html": [
              "<html>\n",
              "<head><meta charset=\"utf-8\" /></head>\n",
              "<body>\n",
              "    <div>            <script src=\"https://cdnjs.cloudflare.com/ajax/libs/mathjax/2.7.5/MathJax.js?config=TeX-AMS-MML_SVG\"></script><script type=\"text/javascript\">if (window.MathJax && window.MathJax.Hub && window.MathJax.Hub.Config) {window.MathJax.Hub.Config({SVG: {font: \"STIX-Web\"}});}</script>                <script type=\"text/javascript\">window.PlotlyConfig = {MathJaxConfig: 'local'};</script>\n",
              "        <script charset=\"utf-8\" src=\"https://cdn.plot.ly/plotly-2.35.2.min.js\"></script>                <div id=\"2ed91cfb-98ac-40eb-8d90-dd79d9560503\" class=\"plotly-graph-div\" style=\"height:525px; width:100%;\"></div>            <script type=\"text/javascript\">                                    window.PLOTLYENV=window.PLOTLYENV || {};                                    if (document.getElementById(\"2ed91cfb-98ac-40eb-8d90-dd79d9560503\")) {                    Plotly.newPlot(                        \"2ed91cfb-98ac-40eb-8d90-dd79d9560503\",                        [{\"alignmentgroup\":\"True\",\"hovertemplate\":\"ocean_proximity=%{x}\\u003cbr\\u003ecount=%{y}\\u003cextra\\u003e\\u003c\\u002fextra\\u003e\",\"legendgroup\":\"\",\"marker\":{\"color\":\"#636efa\",\"pattern\":{\"shape\":\"\"}},\"name\":\"\",\"offsetgroup\":\"\",\"orientation\":\"v\",\"showlegend\":false,\"textposition\":\"auto\",\"x\":[\"\\u003c1H OCEAN\",\"INLAND\",\"NEAR OCEAN\",\"NEAR BAY\",\"ISLAND\"],\"xaxis\":\"x\",\"y\":[9136,6551,2658,2290,5],\"yaxis\":\"y\",\"type\":\"bar\"}],                        {\"template\":{\"data\":{\"histogram2dcontour\":[{\"type\":\"histogram2dcontour\",\"colorbar\":{\"outlinewidth\":0,\"ticks\":\"\"},\"colorscale\":[[0.0,\"#0d0887\"],[0.1111111111111111,\"#46039f\"],[0.2222222222222222,\"#7201a8\"],[0.3333333333333333,\"#9c179e\"],[0.4444444444444444,\"#bd3786\"],[0.5555555555555556,\"#d8576b\"],[0.6666666666666666,\"#ed7953\"],[0.7777777777777778,\"#fb9f3a\"],[0.8888888888888888,\"#fdca26\"],[1.0,\"#f0f921\"]]}],\"choropleth\":[{\"type\":\"choropleth\",\"colorbar\":{\"outlinewidth\":0,\"ticks\":\"\"}}],\"histogram2d\":[{\"type\":\"histogram2d\",\"colorbar\":{\"outlinewidth\":0,\"ticks\":\"\"},\"colorscale\":[[0.0,\"#0d0887\"],[0.1111111111111111,\"#46039f\"],[0.2222222222222222,\"#7201a8\"],[0.3333333333333333,\"#9c179e\"],[0.4444444444444444,\"#bd3786\"],[0.5555555555555556,\"#d8576b\"],[0.6666666666666666,\"#ed7953\"],[0.7777777777777778,\"#fb9f3a\"],[0.8888888888888888,\"#fdca26\"],[1.0,\"#f0f921\"]]}],\"heatmap\":[{\"type\":\"heatmap\",\"colorbar\":{\"outlinewidth\":0,\"ticks\":\"\"},\"colorscale\":[[0.0,\"#0d0887\"],[0.1111111111111111,\"#46039f\"],[0.2222222222222222,\"#7201a8\"],[0.3333333333333333,\"#9c179e\"],[0.4444444444444444,\"#bd3786\"],[0.5555555555555556,\"#d8576b\"],[0.6666666666666666,\"#ed7953\"],[0.7777777777777778,\"#fb9f3a\"],[0.8888888888888888,\"#fdca26\"],[1.0,\"#f0f921\"]]}],\"heatmapgl\":[{\"type\":\"heatmapgl\",\"colorbar\":{\"outlinewidth\":0,\"ticks\":\"\"},\"colorscale\":[[0.0,\"#0d0887\"],[0.1111111111111111,\"#46039f\"],[0.2222222222222222,\"#7201a8\"],[0.3333333333333333,\"#9c179e\"],[0.4444444444444444,\"#bd3786\"],[0.5555555555555556,\"#d8576b\"],[0.6666666666666666,\"#ed7953\"],[0.7777777777777778,\"#fb9f3a\"],[0.8888888888888888,\"#fdca26\"],[1.0,\"#f0f921\"]]}],\"contourcarpet\":[{\"type\":\"contourcarpet\",\"colorbar\":{\"outlinewidth\":0,\"ticks\":\"\"}}],\"contour\":[{\"type\":\"contour\",\"colorbar\":{\"outlinewidth\":0,\"ticks\":\"\"},\"colorscale\":[[0.0,\"#0d0887\"],[0.1111111111111111,\"#46039f\"],[0.2222222222222222,\"#7201a8\"],[0.3333333333333333,\"#9c179e\"],[0.4444444444444444,\"#bd3786\"],[0.5555555555555556,\"#d8576b\"],[0.6666666666666666,\"#ed7953\"],[0.7777777777777778,\"#fb9f3a\"],[0.8888888888888888,\"#fdca26\"],[1.0,\"#f0f921\"]]}],\"surface\":[{\"type\":\"surface\",\"colorbar\":{\"outlinewidth\":0,\"ticks\":\"\"},\"colorscale\":[[0.0,\"#0d0887\"],[0.1111111111111111,\"#46039f\"],[0.2222222222222222,\"#7201a8\"],[0.3333333333333333,\"#9c179e\"],[0.4444444444444444,\"#bd3786\"],[0.5555555555555556,\"#d8576b\"],[0.6666666666666666,\"#ed7953\"],[0.7777777777777778,\"#fb9f3a\"],[0.8888888888888888,\"#fdca26\"],[1.0,\"#f0f921\"]]}],\"mesh3d\":[{\"type\":\"mesh3d\",\"colorbar\":{\"outlinewidth\":0,\"ticks\":\"\"}}],\"scatter\":[{\"fillpattern\":{\"fillmode\":\"overlay\",\"size\":10,\"solidity\":0.2},\"type\":\"scatter\"}],\"parcoords\":[{\"type\":\"parcoords\",\"line\":{\"colorbar\":{\"outlinewidth\":0,\"ticks\":\"\"}}}],\"scatterpolargl\":[{\"type\":\"scatterpolargl\",\"marker\":{\"colorbar\":{\"outlinewidth\":0,\"ticks\":\"\"}}}],\"bar\":[{\"error_x\":{\"color\":\"#2a3f5f\"},\"error_y\":{\"color\":\"#2a3f5f\"},\"marker\":{\"line\":{\"color\":\"#E5ECF6\",\"width\":0.5},\"pattern\":{\"fillmode\":\"overlay\",\"size\":10,\"solidity\":0.2}},\"type\":\"bar\"}],\"scattergeo\":[{\"type\":\"scattergeo\",\"marker\":{\"colorbar\":{\"outlinewidth\":0,\"ticks\":\"\"}}}],\"scatterpolar\":[{\"type\":\"scatterpolar\",\"marker\":{\"colorbar\":{\"outlinewidth\":0,\"ticks\":\"\"}}}],\"histogram\":[{\"marker\":{\"pattern\":{\"fillmode\":\"overlay\",\"size\":10,\"solidity\":0.2}},\"type\":\"histogram\"}],\"scattergl\":[{\"type\":\"scattergl\",\"marker\":{\"colorbar\":{\"outlinewidth\":0,\"ticks\":\"\"}}}],\"scatter3d\":[{\"type\":\"scatter3d\",\"line\":{\"colorbar\":{\"outlinewidth\":0,\"ticks\":\"\"}},\"marker\":{\"colorbar\":{\"outlinewidth\":0,\"ticks\":\"\"}}}],\"scattermapbox\":[{\"type\":\"scattermapbox\",\"marker\":{\"colorbar\":{\"outlinewidth\":0,\"ticks\":\"\"}}}],\"scatterternary\":[{\"type\":\"scatterternary\",\"marker\":{\"colorbar\":{\"outlinewidth\":0,\"ticks\":\"\"}}}],\"scattercarpet\":[{\"type\":\"scattercarpet\",\"marker\":{\"colorbar\":{\"outlinewidth\":0,\"ticks\":\"\"}}}],\"carpet\":[{\"aaxis\":{\"endlinecolor\":\"#2a3f5f\",\"gridcolor\":\"white\",\"linecolor\":\"white\",\"minorgridcolor\":\"white\",\"startlinecolor\":\"#2a3f5f\"},\"baxis\":{\"endlinecolor\":\"#2a3f5f\",\"gridcolor\":\"white\",\"linecolor\":\"white\",\"minorgridcolor\":\"white\",\"startlinecolor\":\"#2a3f5f\"},\"type\":\"carpet\"}],\"table\":[{\"cells\":{\"fill\":{\"color\":\"#EBF0F8\"},\"line\":{\"color\":\"white\"}},\"header\":{\"fill\":{\"color\":\"#C8D4E3\"},\"line\":{\"color\":\"white\"}},\"type\":\"table\"}],\"barpolar\":[{\"marker\":{\"line\":{\"color\":\"#E5ECF6\",\"width\":0.5},\"pattern\":{\"fillmode\":\"overlay\",\"size\":10,\"solidity\":0.2}},\"type\":\"barpolar\"}],\"pie\":[{\"automargin\":true,\"type\":\"pie\"}]},\"layout\":{\"autotypenumbers\":\"strict\",\"colorway\":[\"#636efa\",\"#EF553B\",\"#00cc96\",\"#ab63fa\",\"#FFA15A\",\"#19d3f3\",\"#FF6692\",\"#B6E880\",\"#FF97FF\",\"#FECB52\"],\"font\":{\"color\":\"#2a3f5f\"},\"hovermode\":\"closest\",\"hoverlabel\":{\"align\":\"left\"},\"paper_bgcolor\":\"white\",\"plot_bgcolor\":\"#E5ECF6\",\"polar\":{\"bgcolor\":\"#E5ECF6\",\"angularaxis\":{\"gridcolor\":\"white\",\"linecolor\":\"white\",\"ticks\":\"\"},\"radialaxis\":{\"gridcolor\":\"white\",\"linecolor\":\"white\",\"ticks\":\"\"}},\"ternary\":{\"bgcolor\":\"#E5ECF6\",\"aaxis\":{\"gridcolor\":\"white\",\"linecolor\":\"white\",\"ticks\":\"\"},\"baxis\":{\"gridcolor\":\"white\",\"linecolor\":\"white\",\"ticks\":\"\"},\"caxis\":{\"gridcolor\":\"white\",\"linecolor\":\"white\",\"ticks\":\"\"}},\"coloraxis\":{\"colorbar\":{\"outlinewidth\":0,\"ticks\":\"\"}},\"colorscale\":{\"sequential\":[[0.0,\"#0d0887\"],[0.1111111111111111,\"#46039f\"],[0.2222222222222222,\"#7201a8\"],[0.3333333333333333,\"#9c179e\"],[0.4444444444444444,\"#bd3786\"],[0.5555555555555556,\"#d8576b\"],[0.6666666666666666,\"#ed7953\"],[0.7777777777777778,\"#fb9f3a\"],[0.8888888888888888,\"#fdca26\"],[1.0,\"#f0f921\"]],\"sequentialminus\":[[0.0,\"#0d0887\"],[0.1111111111111111,\"#46039f\"],[0.2222222222222222,\"#7201a8\"],[0.3333333333333333,\"#9c179e\"],[0.4444444444444444,\"#bd3786\"],[0.5555555555555556,\"#d8576b\"],[0.6666666666666666,\"#ed7953\"],[0.7777777777777778,\"#fb9f3a\"],[0.8888888888888888,\"#fdca26\"],[1.0,\"#f0f921\"]],\"diverging\":[[0,\"#8e0152\"],[0.1,\"#c51b7d\"],[0.2,\"#de77ae\"],[0.3,\"#f1b6da\"],[0.4,\"#fde0ef\"],[0.5,\"#f7f7f7\"],[0.6,\"#e6f5d0\"],[0.7,\"#b8e186\"],[0.8,\"#7fbc41\"],[0.9,\"#4d9221\"],[1,\"#276419\"]]},\"xaxis\":{\"gridcolor\":\"white\",\"linecolor\":\"white\",\"ticks\":\"\",\"title\":{\"standoff\":15},\"zerolinecolor\":\"white\",\"automargin\":true,\"zerolinewidth\":2},\"yaxis\":{\"gridcolor\":\"white\",\"linecolor\":\"white\",\"ticks\":\"\",\"title\":{\"standoff\":15},\"zerolinecolor\":\"white\",\"automargin\":true,\"zerolinewidth\":2},\"scene\":{\"xaxis\":{\"backgroundcolor\":\"#E5ECF6\",\"gridcolor\":\"white\",\"linecolor\":\"white\",\"showbackground\":true,\"ticks\":\"\",\"zerolinecolor\":\"white\",\"gridwidth\":2},\"yaxis\":{\"backgroundcolor\":\"#E5ECF6\",\"gridcolor\":\"white\",\"linecolor\":\"white\",\"showbackground\":true,\"ticks\":\"\",\"zerolinecolor\":\"white\",\"gridwidth\":2},\"zaxis\":{\"backgroundcolor\":\"#E5ECF6\",\"gridcolor\":\"white\",\"linecolor\":\"white\",\"showbackground\":true,\"ticks\":\"\",\"zerolinecolor\":\"white\",\"gridwidth\":2}},\"shapedefaults\":{\"line\":{\"color\":\"#2a3f5f\"}},\"annotationdefaults\":{\"arrowcolor\":\"#2a3f5f\",\"arrowhead\":0,\"arrowwidth\":1},\"geo\":{\"bgcolor\":\"white\",\"landcolor\":\"#E5ECF6\",\"subunitcolor\":\"white\",\"showland\":true,\"showlakes\":true,\"lakecolor\":\"white\"},\"title\":{\"x\":0.05},\"mapbox\":{\"style\":\"light\"}}},\"xaxis\":{\"anchor\":\"y\",\"domain\":[0.0,1.0],\"title\":{\"text\":\"Ocean Proximity Categories\"}},\"yaxis\":{\"anchor\":\"x\",\"domain\":[0.0,1.0],\"title\":{\"text\":\"Frequency\"}},\"legend\":{\"tracegroupgap\":0},\"margin\":{\"t\":60},\"barmode\":\"relative\",\"title\":{\"text\":\"Frequency of Ocean Proximity Categories\"}},                        {\"responsive\": true}                    ).then(function(){\n",
              "                            \n",
              "var gd = document.getElementById('2ed91cfb-98ac-40eb-8d90-dd79d9560503');\n",
              "var x = new MutationObserver(function (mutations, observer) {{\n",
              "        var display = window.getComputedStyle(gd).display;\n",
              "        if (!display || display === 'none') {{\n",
              "            console.log([gd, 'removed!']);\n",
              "            Plotly.purge(gd);\n",
              "            observer.disconnect();\n",
              "        }}\n",
              "}});\n",
              "\n",
              "// Listen for the removal of the full notebook cells\n",
              "var notebookContainer = gd.closest('#notebook-container');\n",
              "if (notebookContainer) {{\n",
              "    x.observe(notebookContainer, {childList: true});\n",
              "}}\n",
              "\n",
              "// Listen for the clearing of the current output cell\n",
              "var outputEl = gd.closest('.output');\n",
              "if (outputEl) {{\n",
              "    x.observe(outputEl, {childList: true});\n",
              "}}\n",
              "\n",
              "                        })                };                            </script>        </div>\n",
              "</body>\n",
              "</html>"
            ]
          },
          "metadata": {}
        }
      ]
    },
    {
      "cell_type": "markdown",
      "source": [
        "Most of the census block groups are located less than an hour from the ocean which makes sense because a majority of major CA city centers are located close to the ocean."
      ],
      "metadata": {
        "id": "mrGR3XogRIUv"
      }
    },
    {
      "cell_type": "code",
      "source": [
        "df[df.ocean_proximity == 'ISLAND'].count()"
      ],
      "metadata": {
        "colab": {
          "base_uri": "https://localhost:8080/"
        },
        "id": "tsTYu625B0fM",
        "outputId": "d6960685-e459-4d9a-d39b-6142f72a3b65"
      },
      "execution_count": null,
      "outputs": [
        {
          "output_type": "execute_result",
          "data": {
            "text/plain": [
              "housing_median_age    5\n",
              "total_rooms           5\n",
              "total_bedrooms        5\n",
              "population            5\n",
              "households            5\n",
              "median_income         5\n",
              "median_house_value    5\n",
              "ocean_proximity       5\n",
              "dtype: int64"
            ]
          },
          "metadata": {},
          "execution_count": 26
        }
      ]
    },
    {
      "cell_type": "code",
      "source": [
        "fig = df['median_house_value'].plot(kind='hist', bins=20)\n",
        "\n",
        "fig.update_layout(\n",
        "    title=\"Distribution of Median House Value Per Census Block\",\n",
        "    xaxis_title=\"Median House Value($) Per Census Block\",\n",
        "    yaxis_title=\"Frequency\"\n",
        ")\n",
        "\n",
        "fig.show()"
      ],
      "metadata": {
        "colab": {
          "base_uri": "https://localhost:8080/",
          "height": 542
        },
        "id": "td8eVOhHab4J",
        "outputId": "3361af35-3209-4e23-ff4b-6744e5e3f0b3"
      },
      "execution_count": null,
      "outputs": [
        {
          "output_type": "display_data",
          "data": {
            "text/html": [
              "<html>\n",
              "<head><meta charset=\"utf-8\" /></head>\n",
              "<body>\n",
              "    <div>            <script src=\"https://cdnjs.cloudflare.com/ajax/libs/mathjax/2.7.5/MathJax.js?config=TeX-AMS-MML_SVG\"></script><script type=\"text/javascript\">if (window.MathJax && window.MathJax.Hub && window.MathJax.Hub.Config) {window.MathJax.Hub.Config({SVG: {font: \"STIX-Web\"}});}</script>                <script type=\"text/javascript\">window.PlotlyConfig = {MathJaxConfig: 'local'};</script>\n",
              "        <script charset=\"utf-8\" src=\"https://cdn.plot.ly/plotly-2.35.2.min.js\"></script>                <div id=\"71c9fca3-f1f5-4d04-b002-a9eabdee7c92\" class=\"plotly-graph-div\" style=\"height:525px; width:100%;\"></div>            <script type=\"text/javascript\">                                    window.PLOTLYENV=window.PLOTLYENV || {};                                    if (document.getElementById(\"71c9fca3-f1f5-4d04-b002-a9eabdee7c92\")) {                    Plotly.newPlot(                        \"71c9fca3-f1f5-4d04-b002-a9eabdee7c92\",                        [{\"hovertemplate\":\"variable=median_house_value\\u003cbr\\u003evalue=%{text}\\u003cbr\\u003ecount=%{y}\",\"name\":\"median_house_value\",\"text\":[\"[14999.0, 39249.1)\",\"[39249.1, 63499.2)\",\"[63499.2, 87749.3)\",\"[87749.3, 111999.4)\",\"[111999.4, 136249.5)\",\"[136249.5, 160499.6)\",\"[160499.6, 184749.7)\",\"[184749.7, 208999.8)\",\"[208999.8, 233249.9)\",\"[233249.9, 257500.0)\",\"[257500.0, 281750.1)\",\"[281750.1, 306000.2)\",\"[306000.2, 330250.3)\",\"[330250.3, 354500.4)\",\"[354500.4, 378750.5)\",\"[378750.5, 403000.6)\",\"[403000.6, 427250.7)\",\"[427250.7, 451500.8)\",\"[451500.8, 475750.9)\",\"[475750.9, 500001.0]\"],\"x\":[27124.05,51374.149999999994,75624.25,99874.34999999999,124124.45,148374.55,172624.64999999997,196874.75,221124.84999999998,245374.95,269625.05,293875.14999999997,318125.25,342375.35,366625.44999999995,390875.55,415125.64999999997,439375.75,463625.85,487875.94999999995],\"y\":[36,841,1628,1984,1878,2221,2153,1618,1591,1208,1075,694,567,672,435,317,244,235,144,1099],\"type\":\"bar\"}],                        {\"template\":{\"data\":{\"histogram2dcontour\":[{\"type\":\"histogram2dcontour\",\"colorbar\":{\"outlinewidth\":0,\"ticks\":\"\"},\"colorscale\":[[0.0,\"#0d0887\"],[0.1111111111111111,\"#46039f\"],[0.2222222222222222,\"#7201a8\"],[0.3333333333333333,\"#9c179e\"],[0.4444444444444444,\"#bd3786\"],[0.5555555555555556,\"#d8576b\"],[0.6666666666666666,\"#ed7953\"],[0.7777777777777778,\"#fb9f3a\"],[0.8888888888888888,\"#fdca26\"],[1.0,\"#f0f921\"]]}],\"choropleth\":[{\"type\":\"choropleth\",\"colorbar\":{\"outlinewidth\":0,\"ticks\":\"\"}}],\"histogram2d\":[{\"type\":\"histogram2d\",\"colorbar\":{\"outlinewidth\":0,\"ticks\":\"\"},\"colorscale\":[[0.0,\"#0d0887\"],[0.1111111111111111,\"#46039f\"],[0.2222222222222222,\"#7201a8\"],[0.3333333333333333,\"#9c179e\"],[0.4444444444444444,\"#bd3786\"],[0.5555555555555556,\"#d8576b\"],[0.6666666666666666,\"#ed7953\"],[0.7777777777777778,\"#fb9f3a\"],[0.8888888888888888,\"#fdca26\"],[1.0,\"#f0f921\"]]}],\"heatmap\":[{\"type\":\"heatmap\",\"colorbar\":{\"outlinewidth\":0,\"ticks\":\"\"},\"colorscale\":[[0.0,\"#0d0887\"],[0.1111111111111111,\"#46039f\"],[0.2222222222222222,\"#7201a8\"],[0.3333333333333333,\"#9c179e\"],[0.4444444444444444,\"#bd3786\"],[0.5555555555555556,\"#d8576b\"],[0.6666666666666666,\"#ed7953\"],[0.7777777777777778,\"#fb9f3a\"],[0.8888888888888888,\"#fdca26\"],[1.0,\"#f0f921\"]]}],\"heatmapgl\":[{\"type\":\"heatmapgl\",\"colorbar\":{\"outlinewidth\":0,\"ticks\":\"\"},\"colorscale\":[[0.0,\"#0d0887\"],[0.1111111111111111,\"#46039f\"],[0.2222222222222222,\"#7201a8\"],[0.3333333333333333,\"#9c179e\"],[0.4444444444444444,\"#bd3786\"],[0.5555555555555556,\"#d8576b\"],[0.6666666666666666,\"#ed7953\"],[0.7777777777777778,\"#fb9f3a\"],[0.8888888888888888,\"#fdca26\"],[1.0,\"#f0f921\"]]}],\"contourcarpet\":[{\"type\":\"contourcarpet\",\"colorbar\":{\"outlinewidth\":0,\"ticks\":\"\"}}],\"contour\":[{\"type\":\"contour\",\"colorbar\":{\"outlinewidth\":0,\"ticks\":\"\"},\"colorscale\":[[0.0,\"#0d0887\"],[0.1111111111111111,\"#46039f\"],[0.2222222222222222,\"#7201a8\"],[0.3333333333333333,\"#9c179e\"],[0.4444444444444444,\"#bd3786\"],[0.5555555555555556,\"#d8576b\"],[0.6666666666666666,\"#ed7953\"],[0.7777777777777778,\"#fb9f3a\"],[0.8888888888888888,\"#fdca26\"],[1.0,\"#f0f921\"]]}],\"surface\":[{\"type\":\"surface\",\"colorbar\":{\"outlinewidth\":0,\"ticks\":\"\"},\"colorscale\":[[0.0,\"#0d0887\"],[0.1111111111111111,\"#46039f\"],[0.2222222222222222,\"#7201a8\"],[0.3333333333333333,\"#9c179e\"],[0.4444444444444444,\"#bd3786\"],[0.5555555555555556,\"#d8576b\"],[0.6666666666666666,\"#ed7953\"],[0.7777777777777778,\"#fb9f3a\"],[0.8888888888888888,\"#fdca26\"],[1.0,\"#f0f921\"]]}],\"mesh3d\":[{\"type\":\"mesh3d\",\"colorbar\":{\"outlinewidth\":0,\"ticks\":\"\"}}],\"scatter\":[{\"fillpattern\":{\"fillmode\":\"overlay\",\"size\":10,\"solidity\":0.2},\"type\":\"scatter\"}],\"parcoords\":[{\"type\":\"parcoords\",\"line\":{\"colorbar\":{\"outlinewidth\":0,\"ticks\":\"\"}}}],\"scatterpolargl\":[{\"type\":\"scatterpolargl\",\"marker\":{\"colorbar\":{\"outlinewidth\":0,\"ticks\":\"\"}}}],\"bar\":[{\"error_x\":{\"color\":\"#2a3f5f\"},\"error_y\":{\"color\":\"#2a3f5f\"},\"marker\":{\"line\":{\"color\":\"#E5ECF6\",\"width\":0.5},\"pattern\":{\"fillmode\":\"overlay\",\"size\":10,\"solidity\":0.2}},\"type\":\"bar\"}],\"scattergeo\":[{\"type\":\"scattergeo\",\"marker\":{\"colorbar\":{\"outlinewidth\":0,\"ticks\":\"\"}}}],\"scatterpolar\":[{\"type\":\"scatterpolar\",\"marker\":{\"colorbar\":{\"outlinewidth\":0,\"ticks\":\"\"}}}],\"histogram\":[{\"marker\":{\"pattern\":{\"fillmode\":\"overlay\",\"size\":10,\"solidity\":0.2}},\"type\":\"histogram\"}],\"scattergl\":[{\"type\":\"scattergl\",\"marker\":{\"colorbar\":{\"outlinewidth\":0,\"ticks\":\"\"}}}],\"scatter3d\":[{\"type\":\"scatter3d\",\"line\":{\"colorbar\":{\"outlinewidth\":0,\"ticks\":\"\"}},\"marker\":{\"colorbar\":{\"outlinewidth\":0,\"ticks\":\"\"}}}],\"scattermapbox\":[{\"type\":\"scattermapbox\",\"marker\":{\"colorbar\":{\"outlinewidth\":0,\"ticks\":\"\"}}}],\"scatterternary\":[{\"type\":\"scatterternary\",\"marker\":{\"colorbar\":{\"outlinewidth\":0,\"ticks\":\"\"}}}],\"scattercarpet\":[{\"type\":\"scattercarpet\",\"marker\":{\"colorbar\":{\"outlinewidth\":0,\"ticks\":\"\"}}}],\"carpet\":[{\"aaxis\":{\"endlinecolor\":\"#2a3f5f\",\"gridcolor\":\"white\",\"linecolor\":\"white\",\"minorgridcolor\":\"white\",\"startlinecolor\":\"#2a3f5f\"},\"baxis\":{\"endlinecolor\":\"#2a3f5f\",\"gridcolor\":\"white\",\"linecolor\":\"white\",\"minorgridcolor\":\"white\",\"startlinecolor\":\"#2a3f5f\"},\"type\":\"carpet\"}],\"table\":[{\"cells\":{\"fill\":{\"color\":\"#EBF0F8\"},\"line\":{\"color\":\"white\"}},\"header\":{\"fill\":{\"color\":\"#C8D4E3\"},\"line\":{\"color\":\"white\"}},\"type\":\"table\"}],\"barpolar\":[{\"marker\":{\"line\":{\"color\":\"#E5ECF6\",\"width\":0.5},\"pattern\":{\"fillmode\":\"overlay\",\"size\":10,\"solidity\":0.2}},\"type\":\"barpolar\"}],\"pie\":[{\"automargin\":true,\"type\":\"pie\"}]},\"layout\":{\"autotypenumbers\":\"strict\",\"colorway\":[\"#636efa\",\"#EF553B\",\"#00cc96\",\"#ab63fa\",\"#FFA15A\",\"#19d3f3\",\"#FF6692\",\"#B6E880\",\"#FF97FF\",\"#FECB52\"],\"font\":{\"color\":\"#2a3f5f\"},\"hovermode\":\"closest\",\"hoverlabel\":{\"align\":\"left\"},\"paper_bgcolor\":\"white\",\"plot_bgcolor\":\"#E5ECF6\",\"polar\":{\"bgcolor\":\"#E5ECF6\",\"angularaxis\":{\"gridcolor\":\"white\",\"linecolor\":\"white\",\"ticks\":\"\"},\"radialaxis\":{\"gridcolor\":\"white\",\"linecolor\":\"white\",\"ticks\":\"\"}},\"ternary\":{\"bgcolor\":\"#E5ECF6\",\"aaxis\":{\"gridcolor\":\"white\",\"linecolor\":\"white\",\"ticks\":\"\"},\"baxis\":{\"gridcolor\":\"white\",\"linecolor\":\"white\",\"ticks\":\"\"},\"caxis\":{\"gridcolor\":\"white\",\"linecolor\":\"white\",\"ticks\":\"\"}},\"coloraxis\":{\"colorbar\":{\"outlinewidth\":0,\"ticks\":\"\"}},\"colorscale\":{\"sequential\":[[0.0,\"#0d0887\"],[0.1111111111111111,\"#46039f\"],[0.2222222222222222,\"#7201a8\"],[0.3333333333333333,\"#9c179e\"],[0.4444444444444444,\"#bd3786\"],[0.5555555555555556,\"#d8576b\"],[0.6666666666666666,\"#ed7953\"],[0.7777777777777778,\"#fb9f3a\"],[0.8888888888888888,\"#fdca26\"],[1.0,\"#f0f921\"]],\"sequentialminus\":[[0.0,\"#0d0887\"],[0.1111111111111111,\"#46039f\"],[0.2222222222222222,\"#7201a8\"],[0.3333333333333333,\"#9c179e\"],[0.4444444444444444,\"#bd3786\"],[0.5555555555555556,\"#d8576b\"],[0.6666666666666666,\"#ed7953\"],[0.7777777777777778,\"#fb9f3a\"],[0.8888888888888888,\"#fdca26\"],[1.0,\"#f0f921\"]],\"diverging\":[[0,\"#8e0152\"],[0.1,\"#c51b7d\"],[0.2,\"#de77ae\"],[0.3,\"#f1b6da\"],[0.4,\"#fde0ef\"],[0.5,\"#f7f7f7\"],[0.6,\"#e6f5d0\"],[0.7,\"#b8e186\"],[0.8,\"#7fbc41\"],[0.9,\"#4d9221\"],[1,\"#276419\"]]},\"xaxis\":{\"gridcolor\":\"white\",\"linecolor\":\"white\",\"ticks\":\"\",\"title\":{\"standoff\":15},\"zerolinecolor\":\"white\",\"automargin\":true,\"zerolinewidth\":2},\"yaxis\":{\"gridcolor\":\"white\",\"linecolor\":\"white\",\"ticks\":\"\",\"title\":{\"standoff\":15},\"zerolinecolor\":\"white\",\"automargin\":true,\"zerolinewidth\":2},\"scene\":{\"xaxis\":{\"backgroundcolor\":\"#E5ECF6\",\"gridcolor\":\"white\",\"linecolor\":\"white\",\"showbackground\":true,\"ticks\":\"\",\"zerolinecolor\":\"white\",\"gridwidth\":2},\"yaxis\":{\"backgroundcolor\":\"#E5ECF6\",\"gridcolor\":\"white\",\"linecolor\":\"white\",\"showbackground\":true,\"ticks\":\"\",\"zerolinecolor\":\"white\",\"gridwidth\":2},\"zaxis\":{\"backgroundcolor\":\"#E5ECF6\",\"gridcolor\":\"white\",\"linecolor\":\"white\",\"showbackground\":true,\"ticks\":\"\",\"zerolinecolor\":\"white\",\"gridwidth\":2}},\"shapedefaults\":{\"line\":{\"color\":\"#2a3f5f\"}},\"annotationdefaults\":{\"arrowcolor\":\"#2a3f5f\",\"arrowhead\":0,\"arrowwidth\":1},\"geo\":{\"bgcolor\":\"white\",\"landcolor\":\"#E5ECF6\",\"subunitcolor\":\"white\",\"showland\":true,\"showlakes\":true,\"lakecolor\":\"white\"},\"title\":{\"x\":0.05},\"mapbox\":{\"style\":\"light\"}}},\"barmode\":\"stack\",\"xaxis\":{\"title\":{\"text\":\"Median House Value($) Per Census Block\"}},\"yaxis\":{\"title\":{\"text\":\"Frequency\"}},\"title\":{\"text\":\"Distribution of Median House Value Per Census Block\"}},                        {\"responsive\": true}                    ).then(function(){\n",
              "                            \n",
              "var gd = document.getElementById('71c9fca3-f1f5-4d04-b002-a9eabdee7c92');\n",
              "var x = new MutationObserver(function (mutations, observer) {{\n",
              "        var display = window.getComputedStyle(gd).display;\n",
              "        if (!display || display === 'none') {{\n",
              "            console.log([gd, 'removed!']);\n",
              "            Plotly.purge(gd);\n",
              "            observer.disconnect();\n",
              "        }}\n",
              "}});\n",
              "\n",
              "// Listen for the removal of the full notebook cells\n",
              "var notebookContainer = gd.closest('#notebook-container');\n",
              "if (notebookContainer) {{\n",
              "    x.observe(notebookContainer, {childList: true});\n",
              "}}\n",
              "\n",
              "// Listen for the clearing of the current output cell\n",
              "var outputEl = gd.closest('.output');\n",
              "if (outputEl) {{\n",
              "    x.observe(outputEl, {childList: true});\n",
              "}}\n",
              "\n",
              "                        })                };                            </script>        </div>\n",
              "</body>\n",
              "</html>"
            ]
          },
          "metadata": {}
        }
      ]
    },
    {
      "cell_type": "markdown",
      "source": [
        "The histogram for Median House Value per census block is right skewed meaning that median house value in most census blocks is less than 350k. However, the histogram is also slightly bimodal because there is about 1000 census blocks with a median house value greater than 475k. This could mean that there are a significant amount of rich neighborhoods in the dataset."
      ],
      "metadata": {
        "id": "sr3egzAkRxBz"
      }
    },
    {
      "cell_type": "code",
      "source": [
        "\n",
        "fig = df['median_income'].plot(kind='hist', bins=8)\n",
        "\n",
        "fig.update_layout(\n",
        "    title=\"Distribution of Median Income Per Census Block\",\n",
        "    xaxis_title=\"Median Income (tens of thousands) Per Census Block\",\n",
        "    yaxis_title=\"Frequency\"\n",
        ")\n",
        "\n",
        "fig.show()"
      ],
      "metadata": {
        "colab": {
          "base_uri": "https://localhost:8080/",
          "height": 542
        },
        "id": "oCRJfLthGDfB",
        "outputId": "0856012c-cc55-4966-ac65-e2c1ef0036c4"
      },
      "execution_count": null,
      "outputs": [
        {
          "output_type": "display_data",
          "data": {
            "text/html": [
              "<html>\n",
              "<head><meta charset=\"utf-8\" /></head>\n",
              "<body>\n",
              "    <div>            <script src=\"https://cdnjs.cloudflare.com/ajax/libs/mathjax/2.7.5/MathJax.js?config=TeX-AMS-MML_SVG\"></script><script type=\"text/javascript\">if (window.MathJax && window.MathJax.Hub && window.MathJax.Hub.Config) {window.MathJax.Hub.Config({SVG: {font: \"STIX-Web\"}});}</script>                <script type=\"text/javascript\">window.PlotlyConfig = {MathJaxConfig: 'local'};</script>\n",
              "        <script charset=\"utf-8\" src=\"https://cdn.plot.ly/plotly-2.35.2.min.js\"></script>                <div id=\"118ac1a5-5f65-4a1e-b702-d8db94e5d18f\" class=\"plotly-graph-div\" style=\"height:525px; width:100%;\"></div>            <script type=\"text/javascript\">                                    window.PLOTLYENV=window.PLOTLYENV || {};                                    if (document.getElementById(\"118ac1a5-5f65-4a1e-b702-d8db94e5d18f\")) {                    Plotly.newPlot(                        \"118ac1a5-5f65-4a1e-b702-d8db94e5d18f\",                        [{\"hovertemplate\":\"variable=median_income\\u003cbr\\u003evalue=%{text}\\u003cbr\\u003ecount=%{y}\",\"name\":\"median_income\",\"text\":[\"[0.4999, 2.312425)\",\"[2.312425, 4.12495)\",\"[4.12495, 5.937475)\",\"[5.937475, 7.75)\",\"[7.75, 9.562525)\",\"[9.562525, 11.37505)\",\"[11.37505, 13.187575)\",\"[13.187575, 15.0001]\"],\"x\":[1.4061625000000002,3.2186875,5.0312125000000005,6.8437375,8.6562625,10.468787500000001,12.281312499999999,14.0938375],\"y\":[3916,9251,5042,1622,464,211,61,73],\"type\":\"bar\"}],                        {\"template\":{\"data\":{\"histogram2dcontour\":[{\"type\":\"histogram2dcontour\",\"colorbar\":{\"outlinewidth\":0,\"ticks\":\"\"},\"colorscale\":[[0.0,\"#0d0887\"],[0.1111111111111111,\"#46039f\"],[0.2222222222222222,\"#7201a8\"],[0.3333333333333333,\"#9c179e\"],[0.4444444444444444,\"#bd3786\"],[0.5555555555555556,\"#d8576b\"],[0.6666666666666666,\"#ed7953\"],[0.7777777777777778,\"#fb9f3a\"],[0.8888888888888888,\"#fdca26\"],[1.0,\"#f0f921\"]]}],\"choropleth\":[{\"type\":\"choropleth\",\"colorbar\":{\"outlinewidth\":0,\"ticks\":\"\"}}],\"histogram2d\":[{\"type\":\"histogram2d\",\"colorbar\":{\"outlinewidth\":0,\"ticks\":\"\"},\"colorscale\":[[0.0,\"#0d0887\"],[0.1111111111111111,\"#46039f\"],[0.2222222222222222,\"#7201a8\"],[0.3333333333333333,\"#9c179e\"],[0.4444444444444444,\"#bd3786\"],[0.5555555555555556,\"#d8576b\"],[0.6666666666666666,\"#ed7953\"],[0.7777777777777778,\"#fb9f3a\"],[0.8888888888888888,\"#fdca26\"],[1.0,\"#f0f921\"]]}],\"heatmap\":[{\"type\":\"heatmap\",\"colorbar\":{\"outlinewidth\":0,\"ticks\":\"\"},\"colorscale\":[[0.0,\"#0d0887\"],[0.1111111111111111,\"#46039f\"],[0.2222222222222222,\"#7201a8\"],[0.3333333333333333,\"#9c179e\"],[0.4444444444444444,\"#bd3786\"],[0.5555555555555556,\"#d8576b\"],[0.6666666666666666,\"#ed7953\"],[0.7777777777777778,\"#fb9f3a\"],[0.8888888888888888,\"#fdca26\"],[1.0,\"#f0f921\"]]}],\"heatmapgl\":[{\"type\":\"heatmapgl\",\"colorbar\":{\"outlinewidth\":0,\"ticks\":\"\"},\"colorscale\":[[0.0,\"#0d0887\"],[0.1111111111111111,\"#46039f\"],[0.2222222222222222,\"#7201a8\"],[0.3333333333333333,\"#9c179e\"],[0.4444444444444444,\"#bd3786\"],[0.5555555555555556,\"#d8576b\"],[0.6666666666666666,\"#ed7953\"],[0.7777777777777778,\"#fb9f3a\"],[0.8888888888888888,\"#fdca26\"],[1.0,\"#f0f921\"]]}],\"contourcarpet\":[{\"type\":\"contourcarpet\",\"colorbar\":{\"outlinewidth\":0,\"ticks\":\"\"}}],\"contour\":[{\"type\":\"contour\",\"colorbar\":{\"outlinewidth\":0,\"ticks\":\"\"},\"colorscale\":[[0.0,\"#0d0887\"],[0.1111111111111111,\"#46039f\"],[0.2222222222222222,\"#7201a8\"],[0.3333333333333333,\"#9c179e\"],[0.4444444444444444,\"#bd3786\"],[0.5555555555555556,\"#d8576b\"],[0.6666666666666666,\"#ed7953\"],[0.7777777777777778,\"#fb9f3a\"],[0.8888888888888888,\"#fdca26\"],[1.0,\"#f0f921\"]]}],\"surface\":[{\"type\":\"surface\",\"colorbar\":{\"outlinewidth\":0,\"ticks\":\"\"},\"colorscale\":[[0.0,\"#0d0887\"],[0.1111111111111111,\"#46039f\"],[0.2222222222222222,\"#7201a8\"],[0.3333333333333333,\"#9c179e\"],[0.4444444444444444,\"#bd3786\"],[0.5555555555555556,\"#d8576b\"],[0.6666666666666666,\"#ed7953\"],[0.7777777777777778,\"#fb9f3a\"],[0.8888888888888888,\"#fdca26\"],[1.0,\"#f0f921\"]]}],\"mesh3d\":[{\"type\":\"mesh3d\",\"colorbar\":{\"outlinewidth\":0,\"ticks\":\"\"}}],\"scatter\":[{\"fillpattern\":{\"fillmode\":\"overlay\",\"size\":10,\"solidity\":0.2},\"type\":\"scatter\"}],\"parcoords\":[{\"type\":\"parcoords\",\"line\":{\"colorbar\":{\"outlinewidth\":0,\"ticks\":\"\"}}}],\"scatterpolargl\":[{\"type\":\"scatterpolargl\",\"marker\":{\"colorbar\":{\"outlinewidth\":0,\"ticks\":\"\"}}}],\"bar\":[{\"error_x\":{\"color\":\"#2a3f5f\"},\"error_y\":{\"color\":\"#2a3f5f\"},\"marker\":{\"line\":{\"color\":\"#E5ECF6\",\"width\":0.5},\"pattern\":{\"fillmode\":\"overlay\",\"size\":10,\"solidity\":0.2}},\"type\":\"bar\"}],\"scattergeo\":[{\"type\":\"scattergeo\",\"marker\":{\"colorbar\":{\"outlinewidth\":0,\"ticks\":\"\"}}}],\"scatterpolar\":[{\"type\":\"scatterpolar\",\"marker\":{\"colorbar\":{\"outlinewidth\":0,\"ticks\":\"\"}}}],\"histogram\":[{\"marker\":{\"pattern\":{\"fillmode\":\"overlay\",\"size\":10,\"solidity\":0.2}},\"type\":\"histogram\"}],\"scattergl\":[{\"type\":\"scattergl\",\"marker\":{\"colorbar\":{\"outlinewidth\":0,\"ticks\":\"\"}}}],\"scatter3d\":[{\"type\":\"scatter3d\",\"line\":{\"colorbar\":{\"outlinewidth\":0,\"ticks\":\"\"}},\"marker\":{\"colorbar\":{\"outlinewidth\":0,\"ticks\":\"\"}}}],\"scattermapbox\":[{\"type\":\"scattermapbox\",\"marker\":{\"colorbar\":{\"outlinewidth\":0,\"ticks\":\"\"}}}],\"scatterternary\":[{\"type\":\"scatterternary\",\"marker\":{\"colorbar\":{\"outlinewidth\":0,\"ticks\":\"\"}}}],\"scattercarpet\":[{\"type\":\"scattercarpet\",\"marker\":{\"colorbar\":{\"outlinewidth\":0,\"ticks\":\"\"}}}],\"carpet\":[{\"aaxis\":{\"endlinecolor\":\"#2a3f5f\",\"gridcolor\":\"white\",\"linecolor\":\"white\",\"minorgridcolor\":\"white\",\"startlinecolor\":\"#2a3f5f\"},\"baxis\":{\"endlinecolor\":\"#2a3f5f\",\"gridcolor\":\"white\",\"linecolor\":\"white\",\"minorgridcolor\":\"white\",\"startlinecolor\":\"#2a3f5f\"},\"type\":\"carpet\"}],\"table\":[{\"cells\":{\"fill\":{\"color\":\"#EBF0F8\"},\"line\":{\"color\":\"white\"}},\"header\":{\"fill\":{\"color\":\"#C8D4E3\"},\"line\":{\"color\":\"white\"}},\"type\":\"table\"}],\"barpolar\":[{\"marker\":{\"line\":{\"color\":\"#E5ECF6\",\"width\":0.5},\"pattern\":{\"fillmode\":\"overlay\",\"size\":10,\"solidity\":0.2}},\"type\":\"barpolar\"}],\"pie\":[{\"automargin\":true,\"type\":\"pie\"}]},\"layout\":{\"autotypenumbers\":\"strict\",\"colorway\":[\"#636efa\",\"#EF553B\",\"#00cc96\",\"#ab63fa\",\"#FFA15A\",\"#19d3f3\",\"#FF6692\",\"#B6E880\",\"#FF97FF\",\"#FECB52\"],\"font\":{\"color\":\"#2a3f5f\"},\"hovermode\":\"closest\",\"hoverlabel\":{\"align\":\"left\"},\"paper_bgcolor\":\"white\",\"plot_bgcolor\":\"#E5ECF6\",\"polar\":{\"bgcolor\":\"#E5ECF6\",\"angularaxis\":{\"gridcolor\":\"white\",\"linecolor\":\"white\",\"ticks\":\"\"},\"radialaxis\":{\"gridcolor\":\"white\",\"linecolor\":\"white\",\"ticks\":\"\"}},\"ternary\":{\"bgcolor\":\"#E5ECF6\",\"aaxis\":{\"gridcolor\":\"white\",\"linecolor\":\"white\",\"ticks\":\"\"},\"baxis\":{\"gridcolor\":\"white\",\"linecolor\":\"white\",\"ticks\":\"\"},\"caxis\":{\"gridcolor\":\"white\",\"linecolor\":\"white\",\"ticks\":\"\"}},\"coloraxis\":{\"colorbar\":{\"outlinewidth\":0,\"ticks\":\"\"}},\"colorscale\":{\"sequential\":[[0.0,\"#0d0887\"],[0.1111111111111111,\"#46039f\"],[0.2222222222222222,\"#7201a8\"],[0.3333333333333333,\"#9c179e\"],[0.4444444444444444,\"#bd3786\"],[0.5555555555555556,\"#d8576b\"],[0.6666666666666666,\"#ed7953\"],[0.7777777777777778,\"#fb9f3a\"],[0.8888888888888888,\"#fdca26\"],[1.0,\"#f0f921\"]],\"sequentialminus\":[[0.0,\"#0d0887\"],[0.1111111111111111,\"#46039f\"],[0.2222222222222222,\"#7201a8\"],[0.3333333333333333,\"#9c179e\"],[0.4444444444444444,\"#bd3786\"],[0.5555555555555556,\"#d8576b\"],[0.6666666666666666,\"#ed7953\"],[0.7777777777777778,\"#fb9f3a\"],[0.8888888888888888,\"#fdca26\"],[1.0,\"#f0f921\"]],\"diverging\":[[0,\"#8e0152\"],[0.1,\"#c51b7d\"],[0.2,\"#de77ae\"],[0.3,\"#f1b6da\"],[0.4,\"#fde0ef\"],[0.5,\"#f7f7f7\"],[0.6,\"#e6f5d0\"],[0.7,\"#b8e186\"],[0.8,\"#7fbc41\"],[0.9,\"#4d9221\"],[1,\"#276419\"]]},\"xaxis\":{\"gridcolor\":\"white\",\"linecolor\":\"white\",\"ticks\":\"\",\"title\":{\"standoff\":15},\"zerolinecolor\":\"white\",\"automargin\":true,\"zerolinewidth\":2},\"yaxis\":{\"gridcolor\":\"white\",\"linecolor\":\"white\",\"ticks\":\"\",\"title\":{\"standoff\":15},\"zerolinecolor\":\"white\",\"automargin\":true,\"zerolinewidth\":2},\"scene\":{\"xaxis\":{\"backgroundcolor\":\"#E5ECF6\",\"gridcolor\":\"white\",\"linecolor\":\"white\",\"showbackground\":true,\"ticks\":\"\",\"zerolinecolor\":\"white\",\"gridwidth\":2},\"yaxis\":{\"backgroundcolor\":\"#E5ECF6\",\"gridcolor\":\"white\",\"linecolor\":\"white\",\"showbackground\":true,\"ticks\":\"\",\"zerolinecolor\":\"white\",\"gridwidth\":2},\"zaxis\":{\"backgroundcolor\":\"#E5ECF6\",\"gridcolor\":\"white\",\"linecolor\":\"white\",\"showbackground\":true,\"ticks\":\"\",\"zerolinecolor\":\"white\",\"gridwidth\":2}},\"shapedefaults\":{\"line\":{\"color\":\"#2a3f5f\"}},\"annotationdefaults\":{\"arrowcolor\":\"#2a3f5f\",\"arrowhead\":0,\"arrowwidth\":1},\"geo\":{\"bgcolor\":\"white\",\"landcolor\":\"#E5ECF6\",\"subunitcolor\":\"white\",\"showland\":true,\"showlakes\":true,\"lakecolor\":\"white\"},\"title\":{\"x\":0.05},\"mapbox\":{\"style\":\"light\"}}},\"barmode\":\"stack\",\"xaxis\":{\"title\":{\"text\":\"Median Income (tens of thousands) Per Census Block\"}},\"yaxis\":{\"title\":{\"text\":\"Frequency\"}},\"title\":{\"text\":\"Distribution of Median Income Per Census Block\"}},                        {\"responsive\": true}                    ).then(function(){\n",
              "                            \n",
              "var gd = document.getElementById('118ac1a5-5f65-4a1e-b702-d8db94e5d18f');\n",
              "var x = new MutationObserver(function (mutations, observer) {{\n",
              "        var display = window.getComputedStyle(gd).display;\n",
              "        if (!display || display === 'none') {{\n",
              "            console.log([gd, 'removed!']);\n",
              "            Plotly.purge(gd);\n",
              "            observer.disconnect();\n",
              "        }}\n",
              "}});\n",
              "\n",
              "// Listen for the removal of the full notebook cells\n",
              "var notebookContainer = gd.closest('#notebook-container');\n",
              "if (notebookContainer) {{\n",
              "    x.observe(notebookContainer, {childList: true});\n",
              "}}\n",
              "\n",
              "// Listen for the clearing of the current output cell\n",
              "var outputEl = gd.closest('.output');\n",
              "if (outputEl) {{\n",
              "    x.observe(outputEl, {childList: true});\n",
              "}}\n",
              "\n",
              "                        })                };                            </script>        </div>\n",
              "</body>\n",
              "</html>"
            ]
          },
          "metadata": {}
        }
      ]
    },
    {
      "cell_type": "markdown",
      "source": [
        "The histogram of median income is right skewed meaning that most of the census block groups have a median income of less than 60k dollars."
      ],
      "metadata": {
        "id": "2YaxRv1ZTSzZ"
      }
    },
    {
      "cell_type": "code",
      "source": [
        "df[df.median_income > 11.37].count()"
      ],
      "metadata": {
        "colab": {
          "base_uri": "https://localhost:8080/"
        },
        "id": "85_xGBQg7dPt",
        "outputId": "329bc676-5aa2-4165-c37a-b9d596fac826"
      },
      "execution_count": null,
      "outputs": [
        {
          "output_type": "execute_result",
          "data": {
            "text/plain": [
              "housing_median_age    134\n",
              "total_rooms           134\n",
              "total_bedrooms        134\n",
              "population            134\n",
              "households            134\n",
              "median_income         134\n",
              "median_house_value    134\n",
              "ocean_proximity       134\n",
              "dtype: int64"
            ]
          },
          "metadata": {},
          "execution_count": 29
        }
      ]
    },
    {
      "cell_type": "code",
      "source": [
        "\n",
        "fig = df['households'].plot(kind='hist', bins=50)\n",
        "\n",
        "fig.update_layout(\n",
        "    title=\"Distribution Number of Households Per Census Block\",\n",
        "    xaxis_title=\"Number of Households Per Census Block\",\n",
        "    yaxis_title=\"Frequency\"\n",
        ")\n",
        "\n",
        "fig.show()"
      ],
      "metadata": {
        "colab": {
          "base_uri": "https://localhost:8080/",
          "height": 542
        },
        "id": "BmORTqwccnee",
        "outputId": "f074a2dc-6a8c-467a-aae5-1290fb59547d"
      },
      "execution_count": null,
      "outputs": [
        {
          "output_type": "display_data",
          "data": {
            "text/html": [
              "<html>\n",
              "<head><meta charset=\"utf-8\" /></head>\n",
              "<body>\n",
              "    <div>            <script src=\"https://cdnjs.cloudflare.com/ajax/libs/mathjax/2.7.5/MathJax.js?config=TeX-AMS-MML_SVG\"></script><script type=\"text/javascript\">if (window.MathJax && window.MathJax.Hub && window.MathJax.Hub.Config) {window.MathJax.Hub.Config({SVG: {font: \"STIX-Web\"}});}</script>                <script type=\"text/javascript\">window.PlotlyConfig = {MathJaxConfig: 'local'};</script>\n",
              "        <script charset=\"utf-8\" src=\"https://cdn.plot.ly/plotly-2.35.2.min.js\"></script>                <div id=\"d1c95337-b798-43e7-95a6-7ba9a91c44be\" class=\"plotly-graph-div\" style=\"height:525px; width:100%;\"></div>            <script type=\"text/javascript\">                                    window.PLOTLYENV=window.PLOTLYENV || {};                                    if (document.getElementById(\"d1c95337-b798-43e7-95a6-7ba9a91c44be\")) {                    Plotly.newPlot(                        \"d1c95337-b798-43e7-95a6-7ba9a91c44be\",                        [{\"hovertemplate\":\"variable=households\\u003cbr\\u003evalue=%{text}\\u003cbr\\u003ecount=%{y}\",\"name\":\"households\",\"text\":[\"[1.0, 122.62)\",\"[122.62, 244.24)\",\"[244.24, 365.86)\",\"[365.86, 487.48)\",\"[487.48, 609.1)\",\"[609.1, 730.72)\",\"[730.72, 852.34)\",\"[852.34, 973.96)\",\"[973.96, 1095.58)\",\"[1095.58, 1217.2)\",\"[1217.2, 1338.82)\",\"[1338.82, 1460.44)\",\"[1460.44, 1582.06)\",\"[1582.06, 1703.68)\",\"[1703.68, 1825.3)\",\"[1825.3, 1946.92)\",\"[1946.92, 2068.54)\",\"[2068.54, 2190.16)\",\"[2190.16, 2311.78)\",\"[2311.78, 2433.4)\",\"[2433.4, 2555.02)\",\"[2555.02, 2676.64)\",\"[2676.64, 2798.26)\",\"[2798.26, 2919.88)\",\"[2919.88, 3041.5)\",\"[3041.5, 3163.12)\",\"[3163.12, 3284.74)\",\"[3284.74, 3406.36)\",\"[3406.36, 3527.98)\",\"[3527.98, 3649.6)\",\"[3649.6, 3771.22)\",\"[3771.22, 3892.84)\",\"[3892.84, 4014.46)\",\"[4014.46, 4136.08)\",\"[4136.08, 4257.7)\",\"[4257.7, 4379.32)\",\"[4379.32, 4500.94)\",\"[4500.94, 4622.56)\",\"[4622.56, 4744.18)\",\"[4744.18, 4865.8)\",\"[4865.8, 4987.42)\",\"[4987.42, 5109.04)\",\"[5109.04, 5230.66)\",\"[5230.66, 5352.28)\",\"[5352.28, 5473.9)\",\"[5473.9, 5595.52)\",\"[5595.52, 5717.14)\",\"[5717.14, 5838.76)\",\"[5838.76, 5960.38)\",\"[5960.38, 6082.0]\"],\"x\":[61.81,183.43,305.05,426.67,548.29,669.9100000000001,791.53,913.1500000000001,1034.77,1156.3899999999999,1278.0100000000002,1399.63,1521.25,1642.87,1764.4900000000002,1886.1100000000001,2007.73,2129.35,2250.9700000000003,2372.59,2494.21,2615.83,2737.4500000000003,2859.07,2980.69,3102.31,3223.9300000000003,3345.55,3467.17,3588.79,3710.4100000000003,3832.03,3953.65,4075.27,4196.889999999999,4318.51,4440.13,4561.75,4683.370000000001,4804.99,4926.610000000001,5048.23,5169.85,5291.47,5413.09,5534.710000000001,5656.33,5777.950000000001,5899.57,6021.1900000000005],\"y\":[1002.0,2787.0,4857.0,4195.0,2740.0,1731.0,1053.0,614.0,447.0,299.0,225.0,140.0,141.0,79.0,65.0,50.0,28.0,31.0,21.0,29.0,18.0,10.0,13.0,14.0,4.0,5.0,7.0,5.0,4.0,2.0,3.0,3.0,4.0,1.0,2.0,2.0,1.0,1.0,0.0,2.0,1.0,1.0,1.0,0.0,1.0,0.0,0.0,0.0,0.0,1.0],\"type\":\"bar\"}],                        {\"template\":{\"data\":{\"histogram2dcontour\":[{\"type\":\"histogram2dcontour\",\"colorbar\":{\"outlinewidth\":0,\"ticks\":\"\"},\"colorscale\":[[0.0,\"#0d0887\"],[0.1111111111111111,\"#46039f\"],[0.2222222222222222,\"#7201a8\"],[0.3333333333333333,\"#9c179e\"],[0.4444444444444444,\"#bd3786\"],[0.5555555555555556,\"#d8576b\"],[0.6666666666666666,\"#ed7953\"],[0.7777777777777778,\"#fb9f3a\"],[0.8888888888888888,\"#fdca26\"],[1.0,\"#f0f921\"]]}],\"choropleth\":[{\"type\":\"choropleth\",\"colorbar\":{\"outlinewidth\":0,\"ticks\":\"\"}}],\"histogram2d\":[{\"type\":\"histogram2d\",\"colorbar\":{\"outlinewidth\":0,\"ticks\":\"\"},\"colorscale\":[[0.0,\"#0d0887\"],[0.1111111111111111,\"#46039f\"],[0.2222222222222222,\"#7201a8\"],[0.3333333333333333,\"#9c179e\"],[0.4444444444444444,\"#bd3786\"],[0.5555555555555556,\"#d8576b\"],[0.6666666666666666,\"#ed7953\"],[0.7777777777777778,\"#fb9f3a\"],[0.8888888888888888,\"#fdca26\"],[1.0,\"#f0f921\"]]}],\"heatmap\":[{\"type\":\"heatmap\",\"colorbar\":{\"outlinewidth\":0,\"ticks\":\"\"},\"colorscale\":[[0.0,\"#0d0887\"],[0.1111111111111111,\"#46039f\"],[0.2222222222222222,\"#7201a8\"],[0.3333333333333333,\"#9c179e\"],[0.4444444444444444,\"#bd3786\"],[0.5555555555555556,\"#d8576b\"],[0.6666666666666666,\"#ed7953\"],[0.7777777777777778,\"#fb9f3a\"],[0.8888888888888888,\"#fdca26\"],[1.0,\"#f0f921\"]]}],\"heatmapgl\":[{\"type\":\"heatmapgl\",\"colorbar\":{\"outlinewidth\":0,\"ticks\":\"\"},\"colorscale\":[[0.0,\"#0d0887\"],[0.1111111111111111,\"#46039f\"],[0.2222222222222222,\"#7201a8\"],[0.3333333333333333,\"#9c179e\"],[0.4444444444444444,\"#bd3786\"],[0.5555555555555556,\"#d8576b\"],[0.6666666666666666,\"#ed7953\"],[0.7777777777777778,\"#fb9f3a\"],[0.8888888888888888,\"#fdca26\"],[1.0,\"#f0f921\"]]}],\"contourcarpet\":[{\"type\":\"contourcarpet\",\"colorbar\":{\"outlinewidth\":0,\"ticks\":\"\"}}],\"contour\":[{\"type\":\"contour\",\"colorbar\":{\"outlinewidth\":0,\"ticks\":\"\"},\"colorscale\":[[0.0,\"#0d0887\"],[0.1111111111111111,\"#46039f\"],[0.2222222222222222,\"#7201a8\"],[0.3333333333333333,\"#9c179e\"],[0.4444444444444444,\"#bd3786\"],[0.5555555555555556,\"#d8576b\"],[0.6666666666666666,\"#ed7953\"],[0.7777777777777778,\"#fb9f3a\"],[0.8888888888888888,\"#fdca26\"],[1.0,\"#f0f921\"]]}],\"surface\":[{\"type\":\"surface\",\"colorbar\":{\"outlinewidth\":0,\"ticks\":\"\"},\"colorscale\":[[0.0,\"#0d0887\"],[0.1111111111111111,\"#46039f\"],[0.2222222222222222,\"#7201a8\"],[0.3333333333333333,\"#9c179e\"],[0.4444444444444444,\"#bd3786\"],[0.5555555555555556,\"#d8576b\"],[0.6666666666666666,\"#ed7953\"],[0.7777777777777778,\"#fb9f3a\"],[0.8888888888888888,\"#fdca26\"],[1.0,\"#f0f921\"]]}],\"mesh3d\":[{\"type\":\"mesh3d\",\"colorbar\":{\"outlinewidth\":0,\"ticks\":\"\"}}],\"scatter\":[{\"fillpattern\":{\"fillmode\":\"overlay\",\"size\":10,\"solidity\":0.2},\"type\":\"scatter\"}],\"parcoords\":[{\"type\":\"parcoords\",\"line\":{\"colorbar\":{\"outlinewidth\":0,\"ticks\":\"\"}}}],\"scatterpolargl\":[{\"type\":\"scatterpolargl\",\"marker\":{\"colorbar\":{\"outlinewidth\":0,\"ticks\":\"\"}}}],\"bar\":[{\"error_x\":{\"color\":\"#2a3f5f\"},\"error_y\":{\"color\":\"#2a3f5f\"},\"marker\":{\"line\":{\"color\":\"#E5ECF6\",\"width\":0.5},\"pattern\":{\"fillmode\":\"overlay\",\"size\":10,\"solidity\":0.2}},\"type\":\"bar\"}],\"scattergeo\":[{\"type\":\"scattergeo\",\"marker\":{\"colorbar\":{\"outlinewidth\":0,\"ticks\":\"\"}}}],\"scatterpolar\":[{\"type\":\"scatterpolar\",\"marker\":{\"colorbar\":{\"outlinewidth\":0,\"ticks\":\"\"}}}],\"histogram\":[{\"marker\":{\"pattern\":{\"fillmode\":\"overlay\",\"size\":10,\"solidity\":0.2}},\"type\":\"histogram\"}],\"scattergl\":[{\"type\":\"scattergl\",\"marker\":{\"colorbar\":{\"outlinewidth\":0,\"ticks\":\"\"}}}],\"scatter3d\":[{\"type\":\"scatter3d\",\"line\":{\"colorbar\":{\"outlinewidth\":0,\"ticks\":\"\"}},\"marker\":{\"colorbar\":{\"outlinewidth\":0,\"ticks\":\"\"}}}],\"scattermapbox\":[{\"type\":\"scattermapbox\",\"marker\":{\"colorbar\":{\"outlinewidth\":0,\"ticks\":\"\"}}}],\"scatterternary\":[{\"type\":\"scatterternary\",\"marker\":{\"colorbar\":{\"outlinewidth\":0,\"ticks\":\"\"}}}],\"scattercarpet\":[{\"type\":\"scattercarpet\",\"marker\":{\"colorbar\":{\"outlinewidth\":0,\"ticks\":\"\"}}}],\"carpet\":[{\"aaxis\":{\"endlinecolor\":\"#2a3f5f\",\"gridcolor\":\"white\",\"linecolor\":\"white\",\"minorgridcolor\":\"white\",\"startlinecolor\":\"#2a3f5f\"},\"baxis\":{\"endlinecolor\":\"#2a3f5f\",\"gridcolor\":\"white\",\"linecolor\":\"white\",\"minorgridcolor\":\"white\",\"startlinecolor\":\"#2a3f5f\"},\"type\":\"carpet\"}],\"table\":[{\"cells\":{\"fill\":{\"color\":\"#EBF0F8\"},\"line\":{\"color\":\"white\"}},\"header\":{\"fill\":{\"color\":\"#C8D4E3\"},\"line\":{\"color\":\"white\"}},\"type\":\"table\"}],\"barpolar\":[{\"marker\":{\"line\":{\"color\":\"#E5ECF6\",\"width\":0.5},\"pattern\":{\"fillmode\":\"overlay\",\"size\":10,\"solidity\":0.2}},\"type\":\"barpolar\"}],\"pie\":[{\"automargin\":true,\"type\":\"pie\"}]},\"layout\":{\"autotypenumbers\":\"strict\",\"colorway\":[\"#636efa\",\"#EF553B\",\"#00cc96\",\"#ab63fa\",\"#FFA15A\",\"#19d3f3\",\"#FF6692\",\"#B6E880\",\"#FF97FF\",\"#FECB52\"],\"font\":{\"color\":\"#2a3f5f\"},\"hovermode\":\"closest\",\"hoverlabel\":{\"align\":\"left\"},\"paper_bgcolor\":\"white\",\"plot_bgcolor\":\"#E5ECF6\",\"polar\":{\"bgcolor\":\"#E5ECF6\",\"angularaxis\":{\"gridcolor\":\"white\",\"linecolor\":\"white\",\"ticks\":\"\"},\"radialaxis\":{\"gridcolor\":\"white\",\"linecolor\":\"white\",\"ticks\":\"\"}},\"ternary\":{\"bgcolor\":\"#E5ECF6\",\"aaxis\":{\"gridcolor\":\"white\",\"linecolor\":\"white\",\"ticks\":\"\"},\"baxis\":{\"gridcolor\":\"white\",\"linecolor\":\"white\",\"ticks\":\"\"},\"caxis\":{\"gridcolor\":\"white\",\"linecolor\":\"white\",\"ticks\":\"\"}},\"coloraxis\":{\"colorbar\":{\"outlinewidth\":0,\"ticks\":\"\"}},\"colorscale\":{\"sequential\":[[0.0,\"#0d0887\"],[0.1111111111111111,\"#46039f\"],[0.2222222222222222,\"#7201a8\"],[0.3333333333333333,\"#9c179e\"],[0.4444444444444444,\"#bd3786\"],[0.5555555555555556,\"#d8576b\"],[0.6666666666666666,\"#ed7953\"],[0.7777777777777778,\"#fb9f3a\"],[0.8888888888888888,\"#fdca26\"],[1.0,\"#f0f921\"]],\"sequentialminus\":[[0.0,\"#0d0887\"],[0.1111111111111111,\"#46039f\"],[0.2222222222222222,\"#7201a8\"],[0.3333333333333333,\"#9c179e\"],[0.4444444444444444,\"#bd3786\"],[0.5555555555555556,\"#d8576b\"],[0.6666666666666666,\"#ed7953\"],[0.7777777777777778,\"#fb9f3a\"],[0.8888888888888888,\"#fdca26\"],[1.0,\"#f0f921\"]],\"diverging\":[[0,\"#8e0152\"],[0.1,\"#c51b7d\"],[0.2,\"#de77ae\"],[0.3,\"#f1b6da\"],[0.4,\"#fde0ef\"],[0.5,\"#f7f7f7\"],[0.6,\"#e6f5d0\"],[0.7,\"#b8e186\"],[0.8,\"#7fbc41\"],[0.9,\"#4d9221\"],[1,\"#276419\"]]},\"xaxis\":{\"gridcolor\":\"white\",\"linecolor\":\"white\",\"ticks\":\"\",\"title\":{\"standoff\":15},\"zerolinecolor\":\"white\",\"automargin\":true,\"zerolinewidth\":2},\"yaxis\":{\"gridcolor\":\"white\",\"linecolor\":\"white\",\"ticks\":\"\",\"title\":{\"standoff\":15},\"zerolinecolor\":\"white\",\"automargin\":true,\"zerolinewidth\":2},\"scene\":{\"xaxis\":{\"backgroundcolor\":\"#E5ECF6\",\"gridcolor\":\"white\",\"linecolor\":\"white\",\"showbackground\":true,\"ticks\":\"\",\"zerolinecolor\":\"white\",\"gridwidth\":2},\"yaxis\":{\"backgroundcolor\":\"#E5ECF6\",\"gridcolor\":\"white\",\"linecolor\":\"white\",\"showbackground\":true,\"ticks\":\"\",\"zerolinecolor\":\"white\",\"gridwidth\":2},\"zaxis\":{\"backgroundcolor\":\"#E5ECF6\",\"gridcolor\":\"white\",\"linecolor\":\"white\",\"showbackground\":true,\"ticks\":\"\",\"zerolinecolor\":\"white\",\"gridwidth\":2}},\"shapedefaults\":{\"line\":{\"color\":\"#2a3f5f\"}},\"annotationdefaults\":{\"arrowcolor\":\"#2a3f5f\",\"arrowhead\":0,\"arrowwidth\":1},\"geo\":{\"bgcolor\":\"white\",\"landcolor\":\"#E5ECF6\",\"subunitcolor\":\"white\",\"showland\":true,\"showlakes\":true,\"lakecolor\":\"white\"},\"title\":{\"x\":0.05},\"mapbox\":{\"style\":\"light\"}}},\"barmode\":\"stack\",\"xaxis\":{\"title\":{\"text\":\"Number of Households Per Census Block\"}},\"yaxis\":{\"title\":{\"text\":\"Frequency\"}},\"title\":{\"text\":\"Distribution Number of Households Per Census Block\"}},                        {\"responsive\": true}                    ).then(function(){\n",
              "                            \n",
              "var gd = document.getElementById('d1c95337-b798-43e7-95a6-7ba9a91c44be');\n",
              "var x = new MutationObserver(function (mutations, observer) {{\n",
              "        var display = window.getComputedStyle(gd).display;\n",
              "        if (!display || display === 'none') {{\n",
              "            console.log([gd, 'removed!']);\n",
              "            Plotly.purge(gd);\n",
              "            observer.disconnect();\n",
              "        }}\n",
              "}});\n",
              "\n",
              "// Listen for the removal of the full notebook cells\n",
              "var notebookContainer = gd.closest('#notebook-container');\n",
              "if (notebookContainer) {{\n",
              "    x.observe(notebookContainer, {childList: true});\n",
              "}}\n",
              "\n",
              "// Listen for the clearing of the current output cell\n",
              "var outputEl = gd.closest('.output');\n",
              "if (outputEl) {{\n",
              "    x.observe(outputEl, {childList: true});\n",
              "}}\n",
              "\n",
              "                        })                };                            </script>        </div>\n",
              "</body>\n",
              "</html>"
            ]
          },
          "metadata": {}
        }
      ]
    },
    {
      "cell_type": "markdown",
      "source": [
        "The histogram of households is very right skewed and this means that most census block groups have less than 1000 households. There is a significant amount of outliers on this histogram which represent very dense city centers."
      ],
      "metadata": {
        "id": "AyG3rJ8TTjne"
      }
    },
    {
      "cell_type": "code",
      "source": [
        "df[df.households > 2500].count()"
      ],
      "metadata": {
        "colab": {
          "base_uri": "https://localhost:8080/"
        },
        "id": "GxMavt688gmU",
        "outputId": "9a7ed7a1-3f60-4810-b213-b3f3bd1880dd"
      },
      "execution_count": null,
      "outputs": [
        {
          "output_type": "execute_result",
          "data": {
            "text/plain": [
              "housing_median_age    96\n",
              "total_rooms           96\n",
              "total_bedrooms        96\n",
              "population            96\n",
              "households            96\n",
              "median_income         96\n",
              "median_house_value    96\n",
              "ocean_proximity       96\n",
              "dtype: int64"
            ]
          },
          "metadata": {},
          "execution_count": 31
        }
      ]
    },
    {
      "cell_type": "code",
      "source": [
        "\n",
        "fig = df['population'].plot(kind='hist', bins=50)\n",
        "\n",
        "fig.update_layout(\n",
        "    title=\"Distribution of Population Per Census Block\",\n",
        "    xaxis_title=\"Population Per Census Block\",\n",
        "    yaxis_title=\"Frequency\"\n",
        ")\n",
        "\n",
        "fig.show()"
      ],
      "metadata": {
        "colab": {
          "base_uri": "https://localhost:8080/",
          "height": 542
        },
        "id": "4g9jBfhvdt4d",
        "outputId": "c2cfb7b4-ce18-4dc4-b0e8-3e9201f6c0da"
      },
      "execution_count": null,
      "outputs": [
        {
          "output_type": "display_data",
          "data": {
            "text/html": [
              "<html>\n",
              "<head><meta charset=\"utf-8\" /></head>\n",
              "<body>\n",
              "    <div>            <script src=\"https://cdnjs.cloudflare.com/ajax/libs/mathjax/2.7.5/MathJax.js?config=TeX-AMS-MML_SVG\"></script><script type=\"text/javascript\">if (window.MathJax && window.MathJax.Hub && window.MathJax.Hub.Config) {window.MathJax.Hub.Config({SVG: {font: \"STIX-Web\"}});}</script>                <script type=\"text/javascript\">window.PlotlyConfig = {MathJaxConfig: 'local'};</script>\n",
              "        <script charset=\"utf-8\" src=\"https://cdn.plot.ly/plotly-2.35.2.min.js\"></script>                <div id=\"c31253e6-8935-4605-a97e-b36b13f62750\" class=\"plotly-graph-div\" style=\"height:525px; width:100%;\"></div>            <script type=\"text/javascript\">                                    window.PLOTLYENV=window.PLOTLYENV || {};                                    if (document.getElementById(\"c31253e6-8935-4605-a97e-b36b13f62750\")) {                    Plotly.newPlot(                        \"c31253e6-8935-4605-a97e-b36b13f62750\",                        [{\"hovertemplate\":\"variable=population\\u003cbr\\u003evalue=%{text}\\u003cbr\\u003ecount=%{y}\",\"name\":\"population\",\"text\":[\"[3.0, 716.58)\",\"[716.58, 1430.16)\",\"[1430.16, 2143.74)\",\"[2143.74, 2857.32)\",\"[2857.32, 3570.9)\",\"[3570.9, 4284.48)\",\"[4284.48, 4998.06)\",\"[4998.06, 5711.64)\",\"[5711.64, 6425.22)\",\"[6425.22, 7138.8)\",\"[7138.8, 7852.38)\",\"[7852.38, 8565.96)\",\"[8565.96, 9279.54)\",\"[9279.54, 9993.12)\",\"[9993.12, 10706.7)\",\"[10706.7, 11420.28)\",\"[11420.28, 12133.86)\",\"[12133.86, 12847.44)\",\"[12847.44, 13561.02)\",\"[13561.02, 14274.6)\",\"[14274.6, 14988.18)\",\"[14988.18, 15701.76)\",\"[15701.76, 16415.34)\",\"[16415.34, 17128.92)\",\"[17128.92, 17842.5)\",\"[17842.5, 18556.08)\",\"[18556.08, 19269.66)\",\"[19269.66, 19983.24)\",\"[19983.24, 20696.82)\",\"[20696.82, 21410.4)\",\"[21410.4, 22123.98)\",\"[22123.98, 22837.56)\",\"[22837.56, 23551.14)\",\"[23551.14, 24264.72)\",\"[24264.72, 24978.3)\",\"[24978.3, 25691.88)\",\"[25691.88, 26405.46)\",\"[26405.46, 27119.04)\",\"[27119.04, 27832.62)\",\"[27832.62, 28546.2)\",\"[28546.2, 29259.78)\",\"[29259.78, 29973.36)\",\"[29973.36, 30686.94)\",\"[30686.94, 31400.52)\",\"[31400.52, 32114.1)\",\"[32114.1, 32827.68)\",\"[32827.68, 33541.26)\",\"[33541.26, 34254.84)\",\"[34254.84, 34968.42)\",\"[34968.42, 35682.0]\"],\"x\":[359.79,1073.3700000000001,1786.9500000000003,2500.53,3214.11,3927.6900000000005,4641.27,5354.85,6068.43,6782.01,7495.59,8209.17,8922.75,9636.330000000002,10349.91,11063.490000000002,11777.07,12490.650000000001,13204.23,13917.810000000001,14631.39,15344.970000000001,16058.55,16772.13,17485.71,18199.29,18912.870000000003,19626.45,20340.03,21053.61,21767.190000000002,22480.77,23194.350000000002,23907.93,24621.510000000002,25335.090000000004,26048.670000000002,26762.25,27475.83,28189.410000000003,28902.99,29616.57,30330.15,31043.730000000003,31757.31,32470.89,33184.47,33898.05,34611.630000000005,35325.21000000001],\"y\":[4199.0,8974.0,4340.0,1584.0,719.0,330.0,189.0,91.0,56.0,45.0,50.0,13.0,14.0,13.0,5.0,4.0,3.0,3.0,2.0,0.0,0.0,2.0,2.0,0.0,0.0,0.0,0.0,0.0,0.0,0.0,0.0,0.0,0.0,0.0,0.0,0.0,0.0,0.0,0.0,0.0,1.0,0.0,0.0,0.0,0.0,0.0,0.0,0.0,0.0,1.0],\"type\":\"bar\"}],                        {\"template\":{\"data\":{\"histogram2dcontour\":[{\"type\":\"histogram2dcontour\",\"colorbar\":{\"outlinewidth\":0,\"ticks\":\"\"},\"colorscale\":[[0.0,\"#0d0887\"],[0.1111111111111111,\"#46039f\"],[0.2222222222222222,\"#7201a8\"],[0.3333333333333333,\"#9c179e\"],[0.4444444444444444,\"#bd3786\"],[0.5555555555555556,\"#d8576b\"],[0.6666666666666666,\"#ed7953\"],[0.7777777777777778,\"#fb9f3a\"],[0.8888888888888888,\"#fdca26\"],[1.0,\"#f0f921\"]]}],\"choropleth\":[{\"type\":\"choropleth\",\"colorbar\":{\"outlinewidth\":0,\"ticks\":\"\"}}],\"histogram2d\":[{\"type\":\"histogram2d\",\"colorbar\":{\"outlinewidth\":0,\"ticks\":\"\"},\"colorscale\":[[0.0,\"#0d0887\"],[0.1111111111111111,\"#46039f\"],[0.2222222222222222,\"#7201a8\"],[0.3333333333333333,\"#9c179e\"],[0.4444444444444444,\"#bd3786\"],[0.5555555555555556,\"#d8576b\"],[0.6666666666666666,\"#ed7953\"],[0.7777777777777778,\"#fb9f3a\"],[0.8888888888888888,\"#fdca26\"],[1.0,\"#f0f921\"]]}],\"heatmap\":[{\"type\":\"heatmap\",\"colorbar\":{\"outlinewidth\":0,\"ticks\":\"\"},\"colorscale\":[[0.0,\"#0d0887\"],[0.1111111111111111,\"#46039f\"],[0.2222222222222222,\"#7201a8\"],[0.3333333333333333,\"#9c179e\"],[0.4444444444444444,\"#bd3786\"],[0.5555555555555556,\"#d8576b\"],[0.6666666666666666,\"#ed7953\"],[0.7777777777777778,\"#fb9f3a\"],[0.8888888888888888,\"#fdca26\"],[1.0,\"#f0f921\"]]}],\"heatmapgl\":[{\"type\":\"heatmapgl\",\"colorbar\":{\"outlinewidth\":0,\"ticks\":\"\"},\"colorscale\":[[0.0,\"#0d0887\"],[0.1111111111111111,\"#46039f\"],[0.2222222222222222,\"#7201a8\"],[0.3333333333333333,\"#9c179e\"],[0.4444444444444444,\"#bd3786\"],[0.5555555555555556,\"#d8576b\"],[0.6666666666666666,\"#ed7953\"],[0.7777777777777778,\"#fb9f3a\"],[0.8888888888888888,\"#fdca26\"],[1.0,\"#f0f921\"]]}],\"contourcarpet\":[{\"type\":\"contourcarpet\",\"colorbar\":{\"outlinewidth\":0,\"ticks\":\"\"}}],\"contour\":[{\"type\":\"contour\",\"colorbar\":{\"outlinewidth\":0,\"ticks\":\"\"},\"colorscale\":[[0.0,\"#0d0887\"],[0.1111111111111111,\"#46039f\"],[0.2222222222222222,\"#7201a8\"],[0.3333333333333333,\"#9c179e\"],[0.4444444444444444,\"#bd3786\"],[0.5555555555555556,\"#d8576b\"],[0.6666666666666666,\"#ed7953\"],[0.7777777777777778,\"#fb9f3a\"],[0.8888888888888888,\"#fdca26\"],[1.0,\"#f0f921\"]]}],\"surface\":[{\"type\":\"surface\",\"colorbar\":{\"outlinewidth\":0,\"ticks\":\"\"},\"colorscale\":[[0.0,\"#0d0887\"],[0.1111111111111111,\"#46039f\"],[0.2222222222222222,\"#7201a8\"],[0.3333333333333333,\"#9c179e\"],[0.4444444444444444,\"#bd3786\"],[0.5555555555555556,\"#d8576b\"],[0.6666666666666666,\"#ed7953\"],[0.7777777777777778,\"#fb9f3a\"],[0.8888888888888888,\"#fdca26\"],[1.0,\"#f0f921\"]]}],\"mesh3d\":[{\"type\":\"mesh3d\",\"colorbar\":{\"outlinewidth\":0,\"ticks\":\"\"}}],\"scatter\":[{\"fillpattern\":{\"fillmode\":\"overlay\",\"size\":10,\"solidity\":0.2},\"type\":\"scatter\"}],\"parcoords\":[{\"type\":\"parcoords\",\"line\":{\"colorbar\":{\"outlinewidth\":0,\"ticks\":\"\"}}}],\"scatterpolargl\":[{\"type\":\"scatterpolargl\",\"marker\":{\"colorbar\":{\"outlinewidth\":0,\"ticks\":\"\"}}}],\"bar\":[{\"error_x\":{\"color\":\"#2a3f5f\"},\"error_y\":{\"color\":\"#2a3f5f\"},\"marker\":{\"line\":{\"color\":\"#E5ECF6\",\"width\":0.5},\"pattern\":{\"fillmode\":\"overlay\",\"size\":10,\"solidity\":0.2}},\"type\":\"bar\"}],\"scattergeo\":[{\"type\":\"scattergeo\",\"marker\":{\"colorbar\":{\"outlinewidth\":0,\"ticks\":\"\"}}}],\"scatterpolar\":[{\"type\":\"scatterpolar\",\"marker\":{\"colorbar\":{\"outlinewidth\":0,\"ticks\":\"\"}}}],\"histogram\":[{\"marker\":{\"pattern\":{\"fillmode\":\"overlay\",\"size\":10,\"solidity\":0.2}},\"type\":\"histogram\"}],\"scattergl\":[{\"type\":\"scattergl\",\"marker\":{\"colorbar\":{\"outlinewidth\":0,\"ticks\":\"\"}}}],\"scatter3d\":[{\"type\":\"scatter3d\",\"line\":{\"colorbar\":{\"outlinewidth\":0,\"ticks\":\"\"}},\"marker\":{\"colorbar\":{\"outlinewidth\":0,\"ticks\":\"\"}}}],\"scattermapbox\":[{\"type\":\"scattermapbox\",\"marker\":{\"colorbar\":{\"outlinewidth\":0,\"ticks\":\"\"}}}],\"scatterternary\":[{\"type\":\"scatterternary\",\"marker\":{\"colorbar\":{\"outlinewidth\":0,\"ticks\":\"\"}}}],\"scattercarpet\":[{\"type\":\"scattercarpet\",\"marker\":{\"colorbar\":{\"outlinewidth\":0,\"ticks\":\"\"}}}],\"carpet\":[{\"aaxis\":{\"endlinecolor\":\"#2a3f5f\",\"gridcolor\":\"white\",\"linecolor\":\"white\",\"minorgridcolor\":\"white\",\"startlinecolor\":\"#2a3f5f\"},\"baxis\":{\"endlinecolor\":\"#2a3f5f\",\"gridcolor\":\"white\",\"linecolor\":\"white\",\"minorgridcolor\":\"white\",\"startlinecolor\":\"#2a3f5f\"},\"type\":\"carpet\"}],\"table\":[{\"cells\":{\"fill\":{\"color\":\"#EBF0F8\"},\"line\":{\"color\":\"white\"}},\"header\":{\"fill\":{\"color\":\"#C8D4E3\"},\"line\":{\"color\":\"white\"}},\"type\":\"table\"}],\"barpolar\":[{\"marker\":{\"line\":{\"color\":\"#E5ECF6\",\"width\":0.5},\"pattern\":{\"fillmode\":\"overlay\",\"size\":10,\"solidity\":0.2}},\"type\":\"barpolar\"}],\"pie\":[{\"automargin\":true,\"type\":\"pie\"}]},\"layout\":{\"autotypenumbers\":\"strict\",\"colorway\":[\"#636efa\",\"#EF553B\",\"#00cc96\",\"#ab63fa\",\"#FFA15A\",\"#19d3f3\",\"#FF6692\",\"#B6E880\",\"#FF97FF\",\"#FECB52\"],\"font\":{\"color\":\"#2a3f5f\"},\"hovermode\":\"closest\",\"hoverlabel\":{\"align\":\"left\"},\"paper_bgcolor\":\"white\",\"plot_bgcolor\":\"#E5ECF6\",\"polar\":{\"bgcolor\":\"#E5ECF6\",\"angularaxis\":{\"gridcolor\":\"white\",\"linecolor\":\"white\",\"ticks\":\"\"},\"radialaxis\":{\"gridcolor\":\"white\",\"linecolor\":\"white\",\"ticks\":\"\"}},\"ternary\":{\"bgcolor\":\"#E5ECF6\",\"aaxis\":{\"gridcolor\":\"white\",\"linecolor\":\"white\",\"ticks\":\"\"},\"baxis\":{\"gridcolor\":\"white\",\"linecolor\":\"white\",\"ticks\":\"\"},\"caxis\":{\"gridcolor\":\"white\",\"linecolor\":\"white\",\"ticks\":\"\"}},\"coloraxis\":{\"colorbar\":{\"outlinewidth\":0,\"ticks\":\"\"}},\"colorscale\":{\"sequential\":[[0.0,\"#0d0887\"],[0.1111111111111111,\"#46039f\"],[0.2222222222222222,\"#7201a8\"],[0.3333333333333333,\"#9c179e\"],[0.4444444444444444,\"#bd3786\"],[0.5555555555555556,\"#d8576b\"],[0.6666666666666666,\"#ed7953\"],[0.7777777777777778,\"#fb9f3a\"],[0.8888888888888888,\"#fdca26\"],[1.0,\"#f0f921\"]],\"sequentialminus\":[[0.0,\"#0d0887\"],[0.1111111111111111,\"#46039f\"],[0.2222222222222222,\"#7201a8\"],[0.3333333333333333,\"#9c179e\"],[0.4444444444444444,\"#bd3786\"],[0.5555555555555556,\"#d8576b\"],[0.6666666666666666,\"#ed7953\"],[0.7777777777777778,\"#fb9f3a\"],[0.8888888888888888,\"#fdca26\"],[1.0,\"#f0f921\"]],\"diverging\":[[0,\"#8e0152\"],[0.1,\"#c51b7d\"],[0.2,\"#de77ae\"],[0.3,\"#f1b6da\"],[0.4,\"#fde0ef\"],[0.5,\"#f7f7f7\"],[0.6,\"#e6f5d0\"],[0.7,\"#b8e186\"],[0.8,\"#7fbc41\"],[0.9,\"#4d9221\"],[1,\"#276419\"]]},\"xaxis\":{\"gridcolor\":\"white\",\"linecolor\":\"white\",\"ticks\":\"\",\"title\":{\"standoff\":15},\"zerolinecolor\":\"white\",\"automargin\":true,\"zerolinewidth\":2},\"yaxis\":{\"gridcolor\":\"white\",\"linecolor\":\"white\",\"ticks\":\"\",\"title\":{\"standoff\":15},\"zerolinecolor\":\"white\",\"automargin\":true,\"zerolinewidth\":2},\"scene\":{\"xaxis\":{\"backgroundcolor\":\"#E5ECF6\",\"gridcolor\":\"white\",\"linecolor\":\"white\",\"showbackground\":true,\"ticks\":\"\",\"zerolinecolor\":\"white\",\"gridwidth\":2},\"yaxis\":{\"backgroundcolor\":\"#E5ECF6\",\"gridcolor\":\"white\",\"linecolor\":\"white\",\"showbackground\":true,\"ticks\":\"\",\"zerolinecolor\":\"white\",\"gridwidth\":2},\"zaxis\":{\"backgroundcolor\":\"#E5ECF6\",\"gridcolor\":\"white\",\"linecolor\":\"white\",\"showbackground\":true,\"ticks\":\"\",\"zerolinecolor\":\"white\",\"gridwidth\":2}},\"shapedefaults\":{\"line\":{\"color\":\"#2a3f5f\"}},\"annotationdefaults\":{\"arrowcolor\":\"#2a3f5f\",\"arrowhead\":0,\"arrowwidth\":1},\"geo\":{\"bgcolor\":\"white\",\"landcolor\":\"#E5ECF6\",\"subunitcolor\":\"white\",\"showland\":true,\"showlakes\":true,\"lakecolor\":\"white\"},\"title\":{\"x\":0.05},\"mapbox\":{\"style\":\"light\"}}},\"barmode\":\"stack\",\"xaxis\":{\"title\":{\"text\":\"Population Per Census Block\"}},\"yaxis\":{\"title\":{\"text\":\"Frequency\"}},\"title\":{\"text\":\"Distribution of Population Per Census Block\"}},                        {\"responsive\": true}                    ).then(function(){\n",
              "                            \n",
              "var gd = document.getElementById('c31253e6-8935-4605-a97e-b36b13f62750');\n",
              "var x = new MutationObserver(function (mutations, observer) {{\n",
              "        var display = window.getComputedStyle(gd).display;\n",
              "        if (!display || display === 'none') {{\n",
              "            console.log([gd, 'removed!']);\n",
              "            Plotly.purge(gd);\n",
              "            observer.disconnect();\n",
              "        }}\n",
              "}});\n",
              "\n",
              "// Listen for the removal of the full notebook cells\n",
              "var notebookContainer = gd.closest('#notebook-container');\n",
              "if (notebookContainer) {{\n",
              "    x.observe(notebookContainer, {childList: true});\n",
              "}}\n",
              "\n",
              "// Listen for the clearing of the current output cell\n",
              "var outputEl = gd.closest('.output');\n",
              "if (outputEl) {{\n",
              "    x.observe(outputEl, {childList: true});\n",
              "}}\n",
              "\n",
              "                        })                };                            </script>        </div>\n",
              "</body>\n",
              "</html>"
            ]
          },
          "metadata": {}
        }
      ]
    },
    {
      "cell_type": "markdown",
      "source": [
        "The population histogram is severely right skewed which means that most census blocks have less than 2500 people. However, there is a lot of outliers which represent very dense city centers just like rhe households histogram showed."
      ],
      "metadata": {
        "id": "t6hmGapIULZG"
      }
    },
    {
      "cell_type": "code",
      "source": [
        "df[df.population > 7850].count()"
      ],
      "metadata": {
        "colab": {
          "base_uri": "https://localhost:8080/"
        },
        "id": "VQvc6XGf9BMK",
        "outputId": "a3cb1a50-df48-4291-cbfc-fd19247c3e9a"
      },
      "execution_count": null,
      "outputs": [
        {
          "output_type": "execute_result",
          "data": {
            "text/plain": [
              "housing_median_age    63\n",
              "total_rooms           63\n",
              "total_bedrooms        63\n",
              "population            63\n",
              "households            63\n",
              "median_income         63\n",
              "median_house_value    63\n",
              "ocean_proximity       63\n",
              "dtype: int64"
            ]
          },
          "metadata": {},
          "execution_count": 33
        }
      ]
    },
    {
      "cell_type": "code",
      "source": [
        "\n",
        "fig = df['total_bedrooms'].plot(kind='hist', bins=50)\n",
        "\n",
        "fig.update_layout(\n",
        "    title=\"Distribution of Total Bedrooms Per Census Block\",\n",
        "    xaxis_title=\"Total Bedrooms Per Census Block\",\n",
        "    yaxis_title=\"Frequency\"\n",
        ")\n",
        "\n",
        "fig.show()"
      ],
      "metadata": {
        "colab": {
          "base_uri": "https://localhost:8080/",
          "height": 542
        },
        "id": "ulVNaByveRuT",
        "outputId": "56777458-9321-4b20-d976-3a88ebefd87d"
      },
      "execution_count": null,
      "outputs": [
        {
          "output_type": "display_data",
          "data": {
            "text/html": [
              "<html>\n",
              "<head><meta charset=\"utf-8\" /></head>\n",
              "<body>\n",
              "    <div>            <script src=\"https://cdnjs.cloudflare.com/ajax/libs/mathjax/2.7.5/MathJax.js?config=TeX-AMS-MML_SVG\"></script><script type=\"text/javascript\">if (window.MathJax && window.MathJax.Hub && window.MathJax.Hub.Config) {window.MathJax.Hub.Config({SVG: {font: \"STIX-Web\"}});}</script>                <script type=\"text/javascript\">window.PlotlyConfig = {MathJaxConfig: 'local'};</script>\n",
              "        <script charset=\"utf-8\" src=\"https://cdn.plot.ly/plotly-2.35.2.min.js\"></script>                <div id=\"08f361ac-4f7c-4053-8159-c929c77e3c6a\" class=\"plotly-graph-div\" style=\"height:525px; width:100%;\"></div>            <script type=\"text/javascript\">                                    window.PLOTLYENV=window.PLOTLYENV || {};                                    if (document.getElementById(\"08f361ac-4f7c-4053-8159-c929c77e3c6a\")) {                    Plotly.newPlot(                        \"08f361ac-4f7c-4053-8159-c929c77e3c6a\",                        [{\"hovertemplate\":\"variable=total_bedrooms\\u003cbr\\u003evalue=%{text}\\u003cbr\\u003ecount=%{y}\",\"name\":\"total_bedrooms\",\"text\":[\"[1.0, 129.88)\",\"[129.88, 258.76)\",\"[258.76, 387.64)\",\"[387.64, 516.52)\",\"[516.52, 645.4)\",\"[645.4, 774.28)\",\"[774.28, 903.16)\",\"[903.16, 1032.04)\",\"[1032.04, 1160.92)\",\"[1160.92, 1289.8)\",\"[1289.8, 1418.68)\",\"[1418.68, 1547.56)\",\"[1547.56, 1676.44)\",\"[1676.44, 1805.32)\",\"[1805.32, 1934.2)\",\"[1934.2, 2063.08)\",\"[2063.08, 2191.96)\",\"[2191.96, 2320.84)\",\"[2320.84, 2449.72)\",\"[2449.72, 2578.6)\",\"[2578.6, 2707.48)\",\"[2707.48, 2836.36)\",\"[2836.36, 2965.24)\",\"[2965.24, 3094.12)\",\"[3094.12, 3223.0)\",\"[3223.0, 3351.88)\",\"[3351.88, 3480.76)\",\"[3480.76, 3609.64)\",\"[3609.64, 3738.52)\",\"[3738.52, 3867.4)\",\"[3867.4, 3996.28)\",\"[3996.28, 4125.16)\",\"[4125.16, 4254.04)\",\"[4254.04, 4382.92)\",\"[4382.92, 4511.8)\",\"[4511.8, 4640.68)\",\"[4640.68, 4769.56)\",\"[4769.56, 4898.44)\",\"[4898.44, 5027.32)\",\"[5027.32, 5156.2)\",\"[5156.2, 5285.08)\",\"[5285.08, 5413.96)\",\"[5413.96, 5542.84)\",\"[5542.84, 5671.72)\",\"[5671.72, 5800.6)\",\"[5800.6, 5929.48)\",\"[5929.48, 6058.36)\",\"[6058.36, 6187.24)\",\"[6187.24, 6316.12)\",\"[6316.12, 6445.0]\"],\"x\":[65.44,194.32,323.2,452.08,580.96,709.8399999999999,838.72,967.5999999999999,1096.48,1225.3600000000001,1354.2399999999998,1483.12,1612.0,1740.88,1869.7599999999998,1998.6399999999999,2127.52,2256.4,2385.2799999999997,2514.16,2643.04,2771.92,2900.7999999999997,3029.68,3158.56,3287.44,3416.3199999999997,3545.2,3674.08,3802.96,3931.8399999999997,4060.72,4189.6,4318.48,4447.360000000001,4576.24,4705.12,4834.0,4962.879999999999,5091.76,5220.639999999999,5349.52,5478.4,5607.28,5736.16,5865.039999999999,5993.92,6122.799999999999,6251.68,6380.5599999999995],\"y\":[929.0,2776.0,4815.0,4116.0,2875.0,1704.0,1060.0,625.0,431.0,326.0,233.0,162.0,129.0,92.0,66.0,53.0,32.0,37.0,22.0,33.0,24.0,16.0,12.0,12.0,6.0,7.0,6.0,5.0,3.0,2.0,5.0,4.0,4.0,1.0,4.0,2.0,0.0,2.0,3.0,1.0,0.0,1.0,2.0,0.0,0.0,0.0,0.0,0.0,1.0,1.0],\"type\":\"bar\"}],                        {\"template\":{\"data\":{\"histogram2dcontour\":[{\"type\":\"histogram2dcontour\",\"colorbar\":{\"outlinewidth\":0,\"ticks\":\"\"},\"colorscale\":[[0.0,\"#0d0887\"],[0.1111111111111111,\"#46039f\"],[0.2222222222222222,\"#7201a8\"],[0.3333333333333333,\"#9c179e\"],[0.4444444444444444,\"#bd3786\"],[0.5555555555555556,\"#d8576b\"],[0.6666666666666666,\"#ed7953\"],[0.7777777777777778,\"#fb9f3a\"],[0.8888888888888888,\"#fdca26\"],[1.0,\"#f0f921\"]]}],\"choropleth\":[{\"type\":\"choropleth\",\"colorbar\":{\"outlinewidth\":0,\"ticks\":\"\"}}],\"histogram2d\":[{\"type\":\"histogram2d\",\"colorbar\":{\"outlinewidth\":0,\"ticks\":\"\"},\"colorscale\":[[0.0,\"#0d0887\"],[0.1111111111111111,\"#46039f\"],[0.2222222222222222,\"#7201a8\"],[0.3333333333333333,\"#9c179e\"],[0.4444444444444444,\"#bd3786\"],[0.5555555555555556,\"#d8576b\"],[0.6666666666666666,\"#ed7953\"],[0.7777777777777778,\"#fb9f3a\"],[0.8888888888888888,\"#fdca26\"],[1.0,\"#f0f921\"]]}],\"heatmap\":[{\"type\":\"heatmap\",\"colorbar\":{\"outlinewidth\":0,\"ticks\":\"\"},\"colorscale\":[[0.0,\"#0d0887\"],[0.1111111111111111,\"#46039f\"],[0.2222222222222222,\"#7201a8\"],[0.3333333333333333,\"#9c179e\"],[0.4444444444444444,\"#bd3786\"],[0.5555555555555556,\"#d8576b\"],[0.6666666666666666,\"#ed7953\"],[0.7777777777777778,\"#fb9f3a\"],[0.8888888888888888,\"#fdca26\"],[1.0,\"#f0f921\"]]}],\"heatmapgl\":[{\"type\":\"heatmapgl\",\"colorbar\":{\"outlinewidth\":0,\"ticks\":\"\"},\"colorscale\":[[0.0,\"#0d0887\"],[0.1111111111111111,\"#46039f\"],[0.2222222222222222,\"#7201a8\"],[0.3333333333333333,\"#9c179e\"],[0.4444444444444444,\"#bd3786\"],[0.5555555555555556,\"#d8576b\"],[0.6666666666666666,\"#ed7953\"],[0.7777777777777778,\"#fb9f3a\"],[0.8888888888888888,\"#fdca26\"],[1.0,\"#f0f921\"]]}],\"contourcarpet\":[{\"type\":\"contourcarpet\",\"colorbar\":{\"outlinewidth\":0,\"ticks\":\"\"}}],\"contour\":[{\"type\":\"contour\",\"colorbar\":{\"outlinewidth\":0,\"ticks\":\"\"},\"colorscale\":[[0.0,\"#0d0887\"],[0.1111111111111111,\"#46039f\"],[0.2222222222222222,\"#7201a8\"],[0.3333333333333333,\"#9c179e\"],[0.4444444444444444,\"#bd3786\"],[0.5555555555555556,\"#d8576b\"],[0.6666666666666666,\"#ed7953\"],[0.7777777777777778,\"#fb9f3a\"],[0.8888888888888888,\"#fdca26\"],[1.0,\"#f0f921\"]]}],\"surface\":[{\"type\":\"surface\",\"colorbar\":{\"outlinewidth\":0,\"ticks\":\"\"},\"colorscale\":[[0.0,\"#0d0887\"],[0.1111111111111111,\"#46039f\"],[0.2222222222222222,\"#7201a8\"],[0.3333333333333333,\"#9c179e\"],[0.4444444444444444,\"#bd3786\"],[0.5555555555555556,\"#d8576b\"],[0.6666666666666666,\"#ed7953\"],[0.7777777777777778,\"#fb9f3a\"],[0.8888888888888888,\"#fdca26\"],[1.0,\"#f0f921\"]]}],\"mesh3d\":[{\"type\":\"mesh3d\",\"colorbar\":{\"outlinewidth\":0,\"ticks\":\"\"}}],\"scatter\":[{\"fillpattern\":{\"fillmode\":\"overlay\",\"size\":10,\"solidity\":0.2},\"type\":\"scatter\"}],\"parcoords\":[{\"type\":\"parcoords\",\"line\":{\"colorbar\":{\"outlinewidth\":0,\"ticks\":\"\"}}}],\"scatterpolargl\":[{\"type\":\"scatterpolargl\",\"marker\":{\"colorbar\":{\"outlinewidth\":0,\"ticks\":\"\"}}}],\"bar\":[{\"error_x\":{\"color\":\"#2a3f5f\"},\"error_y\":{\"color\":\"#2a3f5f\"},\"marker\":{\"line\":{\"color\":\"#E5ECF6\",\"width\":0.5},\"pattern\":{\"fillmode\":\"overlay\",\"size\":10,\"solidity\":0.2}},\"type\":\"bar\"}],\"scattergeo\":[{\"type\":\"scattergeo\",\"marker\":{\"colorbar\":{\"outlinewidth\":0,\"ticks\":\"\"}}}],\"scatterpolar\":[{\"type\":\"scatterpolar\",\"marker\":{\"colorbar\":{\"outlinewidth\":0,\"ticks\":\"\"}}}],\"histogram\":[{\"marker\":{\"pattern\":{\"fillmode\":\"overlay\",\"size\":10,\"solidity\":0.2}},\"type\":\"histogram\"}],\"scattergl\":[{\"type\":\"scattergl\",\"marker\":{\"colorbar\":{\"outlinewidth\":0,\"ticks\":\"\"}}}],\"scatter3d\":[{\"type\":\"scatter3d\",\"line\":{\"colorbar\":{\"outlinewidth\":0,\"ticks\":\"\"}},\"marker\":{\"colorbar\":{\"outlinewidth\":0,\"ticks\":\"\"}}}],\"scattermapbox\":[{\"type\":\"scattermapbox\",\"marker\":{\"colorbar\":{\"outlinewidth\":0,\"ticks\":\"\"}}}],\"scatterternary\":[{\"type\":\"scatterternary\",\"marker\":{\"colorbar\":{\"outlinewidth\":0,\"ticks\":\"\"}}}],\"scattercarpet\":[{\"type\":\"scattercarpet\",\"marker\":{\"colorbar\":{\"outlinewidth\":0,\"ticks\":\"\"}}}],\"carpet\":[{\"aaxis\":{\"endlinecolor\":\"#2a3f5f\",\"gridcolor\":\"white\",\"linecolor\":\"white\",\"minorgridcolor\":\"white\",\"startlinecolor\":\"#2a3f5f\"},\"baxis\":{\"endlinecolor\":\"#2a3f5f\",\"gridcolor\":\"white\",\"linecolor\":\"white\",\"minorgridcolor\":\"white\",\"startlinecolor\":\"#2a3f5f\"},\"type\":\"carpet\"}],\"table\":[{\"cells\":{\"fill\":{\"color\":\"#EBF0F8\"},\"line\":{\"color\":\"white\"}},\"header\":{\"fill\":{\"color\":\"#C8D4E3\"},\"line\":{\"color\":\"white\"}},\"type\":\"table\"}],\"barpolar\":[{\"marker\":{\"line\":{\"color\":\"#E5ECF6\",\"width\":0.5},\"pattern\":{\"fillmode\":\"overlay\",\"size\":10,\"solidity\":0.2}},\"type\":\"barpolar\"}],\"pie\":[{\"automargin\":true,\"type\":\"pie\"}]},\"layout\":{\"autotypenumbers\":\"strict\",\"colorway\":[\"#636efa\",\"#EF553B\",\"#00cc96\",\"#ab63fa\",\"#FFA15A\",\"#19d3f3\",\"#FF6692\",\"#B6E880\",\"#FF97FF\",\"#FECB52\"],\"font\":{\"color\":\"#2a3f5f\"},\"hovermode\":\"closest\",\"hoverlabel\":{\"align\":\"left\"},\"paper_bgcolor\":\"white\",\"plot_bgcolor\":\"#E5ECF6\",\"polar\":{\"bgcolor\":\"#E5ECF6\",\"angularaxis\":{\"gridcolor\":\"white\",\"linecolor\":\"white\",\"ticks\":\"\"},\"radialaxis\":{\"gridcolor\":\"white\",\"linecolor\":\"white\",\"ticks\":\"\"}},\"ternary\":{\"bgcolor\":\"#E5ECF6\",\"aaxis\":{\"gridcolor\":\"white\",\"linecolor\":\"white\",\"ticks\":\"\"},\"baxis\":{\"gridcolor\":\"white\",\"linecolor\":\"white\",\"ticks\":\"\"},\"caxis\":{\"gridcolor\":\"white\",\"linecolor\":\"white\",\"ticks\":\"\"}},\"coloraxis\":{\"colorbar\":{\"outlinewidth\":0,\"ticks\":\"\"}},\"colorscale\":{\"sequential\":[[0.0,\"#0d0887\"],[0.1111111111111111,\"#46039f\"],[0.2222222222222222,\"#7201a8\"],[0.3333333333333333,\"#9c179e\"],[0.4444444444444444,\"#bd3786\"],[0.5555555555555556,\"#d8576b\"],[0.6666666666666666,\"#ed7953\"],[0.7777777777777778,\"#fb9f3a\"],[0.8888888888888888,\"#fdca26\"],[1.0,\"#f0f921\"]],\"sequentialminus\":[[0.0,\"#0d0887\"],[0.1111111111111111,\"#46039f\"],[0.2222222222222222,\"#7201a8\"],[0.3333333333333333,\"#9c179e\"],[0.4444444444444444,\"#bd3786\"],[0.5555555555555556,\"#d8576b\"],[0.6666666666666666,\"#ed7953\"],[0.7777777777777778,\"#fb9f3a\"],[0.8888888888888888,\"#fdca26\"],[1.0,\"#f0f921\"]],\"diverging\":[[0,\"#8e0152\"],[0.1,\"#c51b7d\"],[0.2,\"#de77ae\"],[0.3,\"#f1b6da\"],[0.4,\"#fde0ef\"],[0.5,\"#f7f7f7\"],[0.6,\"#e6f5d0\"],[0.7,\"#b8e186\"],[0.8,\"#7fbc41\"],[0.9,\"#4d9221\"],[1,\"#276419\"]]},\"xaxis\":{\"gridcolor\":\"white\",\"linecolor\":\"white\",\"ticks\":\"\",\"title\":{\"standoff\":15},\"zerolinecolor\":\"white\",\"automargin\":true,\"zerolinewidth\":2},\"yaxis\":{\"gridcolor\":\"white\",\"linecolor\":\"white\",\"ticks\":\"\",\"title\":{\"standoff\":15},\"zerolinecolor\":\"white\",\"automargin\":true,\"zerolinewidth\":2},\"scene\":{\"xaxis\":{\"backgroundcolor\":\"#E5ECF6\",\"gridcolor\":\"white\",\"linecolor\":\"white\",\"showbackground\":true,\"ticks\":\"\",\"zerolinecolor\":\"white\",\"gridwidth\":2},\"yaxis\":{\"backgroundcolor\":\"#E5ECF6\",\"gridcolor\":\"white\",\"linecolor\":\"white\",\"showbackground\":true,\"ticks\":\"\",\"zerolinecolor\":\"white\",\"gridwidth\":2},\"zaxis\":{\"backgroundcolor\":\"#E5ECF6\",\"gridcolor\":\"white\",\"linecolor\":\"white\",\"showbackground\":true,\"ticks\":\"\",\"zerolinecolor\":\"white\",\"gridwidth\":2}},\"shapedefaults\":{\"line\":{\"color\":\"#2a3f5f\"}},\"annotationdefaults\":{\"arrowcolor\":\"#2a3f5f\",\"arrowhead\":0,\"arrowwidth\":1},\"geo\":{\"bgcolor\":\"white\",\"landcolor\":\"#E5ECF6\",\"subunitcolor\":\"white\",\"showland\":true,\"showlakes\":true,\"lakecolor\":\"white\"},\"title\":{\"x\":0.05},\"mapbox\":{\"style\":\"light\"}}},\"barmode\":\"stack\",\"xaxis\":{\"title\":{\"text\":\"Total Bedrooms Per Census Block\"}},\"yaxis\":{\"title\":{\"text\":\"Frequency\"}},\"title\":{\"text\":\"Distribution of Total Bedrooms Per Census Block\"}},                        {\"responsive\": true}                    ).then(function(){\n",
              "                            \n",
              "var gd = document.getElementById('08f361ac-4f7c-4053-8159-c929c77e3c6a');\n",
              "var x = new MutationObserver(function (mutations, observer) {{\n",
              "        var display = window.getComputedStyle(gd).display;\n",
              "        if (!display || display === 'none') {{\n",
              "            console.log([gd, 'removed!']);\n",
              "            Plotly.purge(gd);\n",
              "            observer.disconnect();\n",
              "        }}\n",
              "}});\n",
              "\n",
              "// Listen for the removal of the full notebook cells\n",
              "var notebookContainer = gd.closest('#notebook-container');\n",
              "if (notebookContainer) {{\n",
              "    x.observe(notebookContainer, {childList: true});\n",
              "}}\n",
              "\n",
              "// Listen for the clearing of the current output cell\n",
              "var outputEl = gd.closest('.output');\n",
              "if (outputEl) {{\n",
              "    x.observe(outputEl, {childList: true});\n",
              "}}\n",
              "\n",
              "                        })                };                            </script>        </div>\n",
              "</body>\n",
              "</html>"
            ]
          },
          "metadata": {}
        }
      ]
    },
    {
      "cell_type": "markdown",
      "source": [
        "Total bedrooms histogram is right skewed which means that most of the census blocks have less than 1000 total bedrooms. Similarly to both population and households, total bedrooms histogram shows many outliers indicating the presence of dense city centers."
      ],
      "metadata": {
        "id": "HNSo6q7eUs__"
      }
    },
    {
      "cell_type": "code",
      "source": [
        "df[df.total_bedrooms > 3000].count()"
      ],
      "metadata": {
        "colab": {
          "base_uri": "https://localhost:8080/"
        },
        "id": "XEPwfNMa9Mds",
        "outputId": "f3560429-8a00-47d3-c669-af3f7df89689"
      },
      "execution_count": null,
      "outputs": [
        {
          "output_type": "execute_result",
          "data": {
            "text/plain": [
              "housing_median_age    67\n",
              "total_rooms           67\n",
              "total_bedrooms        67\n",
              "population            67\n",
              "households            67\n",
              "median_income         67\n",
              "median_house_value    67\n",
              "ocean_proximity       67\n",
              "dtype: int64"
            ]
          },
          "metadata": {},
          "execution_count": 35
        }
      ]
    },
    {
      "cell_type": "code",
      "source": [
        "\n",
        "fig = df['total_rooms'].plot(kind='hist', bins=50)\n",
        "\n",
        "fig.update_layout(\n",
        "    title=\"Distribution of Total Rooms Per Census Block\",\n",
        "    xaxis_title=\"Total Rooms Per Census Block\",\n",
        "    yaxis_title=\"Frequency\"\n",
        ")\n",
        "\n",
        "fig.show()"
      ],
      "metadata": {
        "colab": {
          "base_uri": "https://localhost:8080/",
          "height": 542
        },
        "id": "QPzoW3kWexAI",
        "outputId": "68935683-a842-45a1-eddd-22b828895d31"
      },
      "execution_count": null,
      "outputs": [
        {
          "output_type": "display_data",
          "data": {
            "text/html": [
              "<html>\n",
              "<head><meta charset=\"utf-8\" /></head>\n",
              "<body>\n",
              "    <div>            <script src=\"https://cdnjs.cloudflare.com/ajax/libs/mathjax/2.7.5/MathJax.js?config=TeX-AMS-MML_SVG\"></script><script type=\"text/javascript\">if (window.MathJax && window.MathJax.Hub && window.MathJax.Hub.Config) {window.MathJax.Hub.Config({SVG: {font: \"STIX-Web\"}});}</script>                <script type=\"text/javascript\">window.PlotlyConfig = {MathJaxConfig: 'local'};</script>\n",
              "        <script charset=\"utf-8\" src=\"https://cdn.plot.ly/plotly-2.35.2.min.js\"></script>                <div id=\"a76bf7d3-cbab-4da5-9d07-0f7e516dee59\" class=\"plotly-graph-div\" style=\"height:525px; width:100%;\"></div>            <script type=\"text/javascript\">                                    window.PLOTLYENV=window.PLOTLYENV || {};                                    if (document.getElementById(\"a76bf7d3-cbab-4da5-9d07-0f7e516dee59\")) {                    Plotly.newPlot(                        \"a76bf7d3-cbab-4da5-9d07-0f7e516dee59\",                        [{\"hovertemplate\":\"variable=total_rooms\\u003cbr\\u003evalue=%{text}\\u003cbr\\u003ecount=%{y}\",\"name\":\"total_rooms\",\"text\":[\"[2.0, 788.36)\",\"[788.36, 1574.72)\",\"[1574.72, 2361.08)\",\"[2361.08, 3147.44)\",\"[3147.44, 3933.8)\",\"[3933.8, 4720.16)\",\"[4720.16, 5506.52)\",\"[5506.52, 6292.88)\",\"[6292.88, 7079.24)\",\"[7079.24, 7865.6)\",\"[7865.6, 8651.96)\",\"[8651.96, 9438.32)\",\"[9438.32, 10224.68)\",\"[10224.68, 11011.04)\",\"[11011.04, 11797.4)\",\"[11797.4, 12583.76)\",\"[12583.76, 13370.12)\",\"[13370.12, 14156.48)\",\"[14156.48, 14942.84)\",\"[14942.84, 15729.2)\",\"[15729.2, 16515.56)\",\"[16515.56, 17301.92)\",\"[17301.92, 18088.28)\",\"[18088.28, 18874.64)\",\"[18874.64, 19661.0)\",\"[19661.0, 20447.36)\",\"[20447.36, 21233.72)\",\"[21233.72, 22020.08)\",\"[22020.08, 22806.44)\",\"[22806.44, 23592.8)\",\"[23592.8, 24379.16)\",\"[24379.16, 25165.52)\",\"[25165.52, 25951.88)\",\"[25951.88, 26738.24)\",\"[26738.24, 27524.6)\",\"[27524.6, 28310.96)\",\"[28310.96, 29097.32)\",\"[29097.32, 29883.68)\",\"[29883.68, 30670.04)\",\"[30670.04, 31456.4)\",\"[31456.4, 32242.76)\",\"[32242.76, 33029.12)\",\"[33029.12, 33815.48)\",\"[33815.48, 34601.84)\",\"[34601.84, 35388.2)\",\"[35388.2, 36174.56)\",\"[36174.56, 36960.92)\",\"[36960.92, 37747.28)\",\"[37747.28, 38533.64)\",\"[38533.64, 39320.0]\"],\"x\":[395.18,1181.54,1967.9,2754.26,3540.62,4326.98,5113.34,5899.700000000001,6686.0599999999995,7472.42,8258.78,9045.14,9831.5,10617.86,11404.220000000001,12190.58,12976.94,13763.3,14549.66,15336.02,16122.380000000001,16908.74,17695.1,18481.46,19267.82,20054.18,20840.54,21626.9,22413.260000000002,23199.62,23985.98,24772.34,25558.7,26345.06,27131.420000000002,27917.78,28704.14,29490.5,30276.86,31063.22,31849.58,32635.940000000002,33422.3,34208.66,34995.020000000004,35781.38,36567.74,37354.1,38140.46,38926.82],\"y\":[1489.0,4665.0,5653.0,3672.0,2046.0,1115.0,596.0,405.0,278.0,164.0,121.0,84.0,85.0,53.0,29.0,31.0,23.0,16.0,16.0,17.0,13.0,10.0,13.0,8.0,5.0,5.0,6.0,3.0,1.0,1.0,3.0,1.0,1.0,2.0,0.0,3.0,0.0,0.0,3.0,0.0,1.0,1.0,0.0,0.0,0.0,0.0,0.0,0.0,1.0,1.0],\"type\":\"bar\"}],                        {\"template\":{\"data\":{\"histogram2dcontour\":[{\"type\":\"histogram2dcontour\",\"colorbar\":{\"outlinewidth\":0,\"ticks\":\"\"},\"colorscale\":[[0.0,\"#0d0887\"],[0.1111111111111111,\"#46039f\"],[0.2222222222222222,\"#7201a8\"],[0.3333333333333333,\"#9c179e\"],[0.4444444444444444,\"#bd3786\"],[0.5555555555555556,\"#d8576b\"],[0.6666666666666666,\"#ed7953\"],[0.7777777777777778,\"#fb9f3a\"],[0.8888888888888888,\"#fdca26\"],[1.0,\"#f0f921\"]]}],\"choropleth\":[{\"type\":\"choropleth\",\"colorbar\":{\"outlinewidth\":0,\"ticks\":\"\"}}],\"histogram2d\":[{\"type\":\"histogram2d\",\"colorbar\":{\"outlinewidth\":0,\"ticks\":\"\"},\"colorscale\":[[0.0,\"#0d0887\"],[0.1111111111111111,\"#46039f\"],[0.2222222222222222,\"#7201a8\"],[0.3333333333333333,\"#9c179e\"],[0.4444444444444444,\"#bd3786\"],[0.5555555555555556,\"#d8576b\"],[0.6666666666666666,\"#ed7953\"],[0.7777777777777778,\"#fb9f3a\"],[0.8888888888888888,\"#fdca26\"],[1.0,\"#f0f921\"]]}],\"heatmap\":[{\"type\":\"heatmap\",\"colorbar\":{\"outlinewidth\":0,\"ticks\":\"\"},\"colorscale\":[[0.0,\"#0d0887\"],[0.1111111111111111,\"#46039f\"],[0.2222222222222222,\"#7201a8\"],[0.3333333333333333,\"#9c179e\"],[0.4444444444444444,\"#bd3786\"],[0.5555555555555556,\"#d8576b\"],[0.6666666666666666,\"#ed7953\"],[0.7777777777777778,\"#fb9f3a\"],[0.8888888888888888,\"#fdca26\"],[1.0,\"#f0f921\"]]}],\"heatmapgl\":[{\"type\":\"heatmapgl\",\"colorbar\":{\"outlinewidth\":0,\"ticks\":\"\"},\"colorscale\":[[0.0,\"#0d0887\"],[0.1111111111111111,\"#46039f\"],[0.2222222222222222,\"#7201a8\"],[0.3333333333333333,\"#9c179e\"],[0.4444444444444444,\"#bd3786\"],[0.5555555555555556,\"#d8576b\"],[0.6666666666666666,\"#ed7953\"],[0.7777777777777778,\"#fb9f3a\"],[0.8888888888888888,\"#fdca26\"],[1.0,\"#f0f921\"]]}],\"contourcarpet\":[{\"type\":\"contourcarpet\",\"colorbar\":{\"outlinewidth\":0,\"ticks\":\"\"}}],\"contour\":[{\"type\":\"contour\",\"colorbar\":{\"outlinewidth\":0,\"ticks\":\"\"},\"colorscale\":[[0.0,\"#0d0887\"],[0.1111111111111111,\"#46039f\"],[0.2222222222222222,\"#7201a8\"],[0.3333333333333333,\"#9c179e\"],[0.4444444444444444,\"#bd3786\"],[0.5555555555555556,\"#d8576b\"],[0.6666666666666666,\"#ed7953\"],[0.7777777777777778,\"#fb9f3a\"],[0.8888888888888888,\"#fdca26\"],[1.0,\"#f0f921\"]]}],\"surface\":[{\"type\":\"surface\",\"colorbar\":{\"outlinewidth\":0,\"ticks\":\"\"},\"colorscale\":[[0.0,\"#0d0887\"],[0.1111111111111111,\"#46039f\"],[0.2222222222222222,\"#7201a8\"],[0.3333333333333333,\"#9c179e\"],[0.4444444444444444,\"#bd3786\"],[0.5555555555555556,\"#d8576b\"],[0.6666666666666666,\"#ed7953\"],[0.7777777777777778,\"#fb9f3a\"],[0.8888888888888888,\"#fdca26\"],[1.0,\"#f0f921\"]]}],\"mesh3d\":[{\"type\":\"mesh3d\",\"colorbar\":{\"outlinewidth\":0,\"ticks\":\"\"}}],\"scatter\":[{\"fillpattern\":{\"fillmode\":\"overlay\",\"size\":10,\"solidity\":0.2},\"type\":\"scatter\"}],\"parcoords\":[{\"type\":\"parcoords\",\"line\":{\"colorbar\":{\"outlinewidth\":0,\"ticks\":\"\"}}}],\"scatterpolargl\":[{\"type\":\"scatterpolargl\",\"marker\":{\"colorbar\":{\"outlinewidth\":0,\"ticks\":\"\"}}}],\"bar\":[{\"error_x\":{\"color\":\"#2a3f5f\"},\"error_y\":{\"color\":\"#2a3f5f\"},\"marker\":{\"line\":{\"color\":\"#E5ECF6\",\"width\":0.5},\"pattern\":{\"fillmode\":\"overlay\",\"size\":10,\"solidity\":0.2}},\"type\":\"bar\"}],\"scattergeo\":[{\"type\":\"scattergeo\",\"marker\":{\"colorbar\":{\"outlinewidth\":0,\"ticks\":\"\"}}}],\"scatterpolar\":[{\"type\":\"scatterpolar\",\"marker\":{\"colorbar\":{\"outlinewidth\":0,\"ticks\":\"\"}}}],\"histogram\":[{\"marker\":{\"pattern\":{\"fillmode\":\"overlay\",\"size\":10,\"solidity\":0.2}},\"type\":\"histogram\"}],\"scattergl\":[{\"type\":\"scattergl\",\"marker\":{\"colorbar\":{\"outlinewidth\":0,\"ticks\":\"\"}}}],\"scatter3d\":[{\"type\":\"scatter3d\",\"line\":{\"colorbar\":{\"outlinewidth\":0,\"ticks\":\"\"}},\"marker\":{\"colorbar\":{\"outlinewidth\":0,\"ticks\":\"\"}}}],\"scattermapbox\":[{\"type\":\"scattermapbox\",\"marker\":{\"colorbar\":{\"outlinewidth\":0,\"ticks\":\"\"}}}],\"scatterternary\":[{\"type\":\"scatterternary\",\"marker\":{\"colorbar\":{\"outlinewidth\":0,\"ticks\":\"\"}}}],\"scattercarpet\":[{\"type\":\"scattercarpet\",\"marker\":{\"colorbar\":{\"outlinewidth\":0,\"ticks\":\"\"}}}],\"carpet\":[{\"aaxis\":{\"endlinecolor\":\"#2a3f5f\",\"gridcolor\":\"white\",\"linecolor\":\"white\",\"minorgridcolor\":\"white\",\"startlinecolor\":\"#2a3f5f\"},\"baxis\":{\"endlinecolor\":\"#2a3f5f\",\"gridcolor\":\"white\",\"linecolor\":\"white\",\"minorgridcolor\":\"white\",\"startlinecolor\":\"#2a3f5f\"},\"type\":\"carpet\"}],\"table\":[{\"cells\":{\"fill\":{\"color\":\"#EBF0F8\"},\"line\":{\"color\":\"white\"}},\"header\":{\"fill\":{\"color\":\"#C8D4E3\"},\"line\":{\"color\":\"white\"}},\"type\":\"table\"}],\"barpolar\":[{\"marker\":{\"line\":{\"color\":\"#E5ECF6\",\"width\":0.5},\"pattern\":{\"fillmode\":\"overlay\",\"size\":10,\"solidity\":0.2}},\"type\":\"barpolar\"}],\"pie\":[{\"automargin\":true,\"type\":\"pie\"}]},\"layout\":{\"autotypenumbers\":\"strict\",\"colorway\":[\"#636efa\",\"#EF553B\",\"#00cc96\",\"#ab63fa\",\"#FFA15A\",\"#19d3f3\",\"#FF6692\",\"#B6E880\",\"#FF97FF\",\"#FECB52\"],\"font\":{\"color\":\"#2a3f5f\"},\"hovermode\":\"closest\",\"hoverlabel\":{\"align\":\"left\"},\"paper_bgcolor\":\"white\",\"plot_bgcolor\":\"#E5ECF6\",\"polar\":{\"bgcolor\":\"#E5ECF6\",\"angularaxis\":{\"gridcolor\":\"white\",\"linecolor\":\"white\",\"ticks\":\"\"},\"radialaxis\":{\"gridcolor\":\"white\",\"linecolor\":\"white\",\"ticks\":\"\"}},\"ternary\":{\"bgcolor\":\"#E5ECF6\",\"aaxis\":{\"gridcolor\":\"white\",\"linecolor\":\"white\",\"ticks\":\"\"},\"baxis\":{\"gridcolor\":\"white\",\"linecolor\":\"white\",\"ticks\":\"\"},\"caxis\":{\"gridcolor\":\"white\",\"linecolor\":\"white\",\"ticks\":\"\"}},\"coloraxis\":{\"colorbar\":{\"outlinewidth\":0,\"ticks\":\"\"}},\"colorscale\":{\"sequential\":[[0.0,\"#0d0887\"],[0.1111111111111111,\"#46039f\"],[0.2222222222222222,\"#7201a8\"],[0.3333333333333333,\"#9c179e\"],[0.4444444444444444,\"#bd3786\"],[0.5555555555555556,\"#d8576b\"],[0.6666666666666666,\"#ed7953\"],[0.7777777777777778,\"#fb9f3a\"],[0.8888888888888888,\"#fdca26\"],[1.0,\"#f0f921\"]],\"sequentialminus\":[[0.0,\"#0d0887\"],[0.1111111111111111,\"#46039f\"],[0.2222222222222222,\"#7201a8\"],[0.3333333333333333,\"#9c179e\"],[0.4444444444444444,\"#bd3786\"],[0.5555555555555556,\"#d8576b\"],[0.6666666666666666,\"#ed7953\"],[0.7777777777777778,\"#fb9f3a\"],[0.8888888888888888,\"#fdca26\"],[1.0,\"#f0f921\"]],\"diverging\":[[0,\"#8e0152\"],[0.1,\"#c51b7d\"],[0.2,\"#de77ae\"],[0.3,\"#f1b6da\"],[0.4,\"#fde0ef\"],[0.5,\"#f7f7f7\"],[0.6,\"#e6f5d0\"],[0.7,\"#b8e186\"],[0.8,\"#7fbc41\"],[0.9,\"#4d9221\"],[1,\"#276419\"]]},\"xaxis\":{\"gridcolor\":\"white\",\"linecolor\":\"white\",\"ticks\":\"\",\"title\":{\"standoff\":15},\"zerolinecolor\":\"white\",\"automargin\":true,\"zerolinewidth\":2},\"yaxis\":{\"gridcolor\":\"white\",\"linecolor\":\"white\",\"ticks\":\"\",\"title\":{\"standoff\":15},\"zerolinecolor\":\"white\",\"automargin\":true,\"zerolinewidth\":2},\"scene\":{\"xaxis\":{\"backgroundcolor\":\"#E5ECF6\",\"gridcolor\":\"white\",\"linecolor\":\"white\",\"showbackground\":true,\"ticks\":\"\",\"zerolinecolor\":\"white\",\"gridwidth\":2},\"yaxis\":{\"backgroundcolor\":\"#E5ECF6\",\"gridcolor\":\"white\",\"linecolor\":\"white\",\"showbackground\":true,\"ticks\":\"\",\"zerolinecolor\":\"white\",\"gridwidth\":2},\"zaxis\":{\"backgroundcolor\":\"#E5ECF6\",\"gridcolor\":\"white\",\"linecolor\":\"white\",\"showbackground\":true,\"ticks\":\"\",\"zerolinecolor\":\"white\",\"gridwidth\":2}},\"shapedefaults\":{\"line\":{\"color\":\"#2a3f5f\"}},\"annotationdefaults\":{\"arrowcolor\":\"#2a3f5f\",\"arrowhead\":0,\"arrowwidth\":1},\"geo\":{\"bgcolor\":\"white\",\"landcolor\":\"#E5ECF6\",\"subunitcolor\":\"white\",\"showland\":true,\"showlakes\":true,\"lakecolor\":\"white\"},\"title\":{\"x\":0.05},\"mapbox\":{\"style\":\"light\"}}},\"barmode\":\"stack\",\"xaxis\":{\"title\":{\"text\":\"Total Rooms Per Census Block\"}},\"yaxis\":{\"title\":{\"text\":\"Frequency\"}},\"title\":{\"text\":\"Distribution of Total Rooms Per Census Block\"}},                        {\"responsive\": true}                    ).then(function(){\n",
              "                            \n",
              "var gd = document.getElementById('a76bf7d3-cbab-4da5-9d07-0f7e516dee59');\n",
              "var x = new MutationObserver(function (mutations, observer) {{\n",
              "        var display = window.getComputedStyle(gd).display;\n",
              "        if (!display || display === 'none') {{\n",
              "            console.log([gd, 'removed!']);\n",
              "            Plotly.purge(gd);\n",
              "            observer.disconnect();\n",
              "        }}\n",
              "}});\n",
              "\n",
              "// Listen for the removal of the full notebook cells\n",
              "var notebookContainer = gd.closest('#notebook-container');\n",
              "if (notebookContainer) {{\n",
              "    x.observe(notebookContainer, {childList: true});\n",
              "}}\n",
              "\n",
              "// Listen for the clearing of the current output cell\n",
              "var outputEl = gd.closest('.output');\n",
              "if (outputEl) {{\n",
              "    x.observe(outputEl, {childList: true});\n",
              "}}\n",
              "\n",
              "                        })                };                            </script>        </div>\n",
              "</body>\n",
              "</html>"
            ]
          },
          "metadata": {}
        }
      ]
    },
    {
      "cell_type": "markdown",
      "source": [
        "The total rooms histograms is also heavily right skewed meaning most census blocks have less than 5000 rooms. The fact that a similar amount of outliers show up and most of the numeric data is right skewed shows that the data is correlated with each other."
      ],
      "metadata": {
        "id": "rwsvYNYJVLEA"
      }
    },
    {
      "cell_type": "code",
      "source": [
        "df[df.total_rooms > 12500].count()"
      ],
      "metadata": {
        "colab": {
          "base_uri": "https://localhost:8080/"
        },
        "id": "768xa-na98Bv",
        "outputId": "a7a7e141-4a16-4df8-ef19-9d23268b45c3"
      },
      "execution_count": null,
      "outputs": [
        {
          "output_type": "execute_result",
          "data": {
            "text/plain": [
              "housing_median_age    158\n",
              "total_rooms           158\n",
              "total_bedrooms        158\n",
              "population            158\n",
              "households            158\n",
              "median_income         158\n",
              "median_house_value    158\n",
              "ocean_proximity       158\n",
              "dtype: int64"
            ]
          },
          "metadata": {},
          "execution_count": 37
        }
      ]
    },
    {
      "cell_type": "code",
      "source": [
        "\n",
        "fig = df['housing_median_age'].plot(kind='hist', bins=50)\n",
        "\n",
        "fig.update_layout(\n",
        "    title=\"Distribution of Housing Median Age Per Cencsus Block\",\n",
        "    xaxis_title=\"Housing Median Age Per Census Block\",\n",
        "    yaxis_title=\"Frequency\"\n",
        ")\n",
        "\n",
        "fig.show()"
      ],
      "metadata": {
        "colab": {
          "base_uri": "https://localhost:8080/",
          "height": 542
        },
        "id": "zgb9iJEBfjCH",
        "outputId": "8ab2a4c3-d6ae-40ae-b57a-3389da65a55e"
      },
      "execution_count": null,
      "outputs": [
        {
          "output_type": "display_data",
          "data": {
            "text/html": [
              "<html>\n",
              "<head><meta charset=\"utf-8\" /></head>\n",
              "<body>\n",
              "    <div>            <script src=\"https://cdnjs.cloudflare.com/ajax/libs/mathjax/2.7.5/MathJax.js?config=TeX-AMS-MML_SVG\"></script><script type=\"text/javascript\">if (window.MathJax && window.MathJax.Hub && window.MathJax.Hub.Config) {window.MathJax.Hub.Config({SVG: {font: \"STIX-Web\"}});}</script>                <script type=\"text/javascript\">window.PlotlyConfig = {MathJaxConfig: 'local'};</script>\n",
              "        <script charset=\"utf-8\" src=\"https://cdn.plot.ly/plotly-2.35.2.min.js\"></script>                <div id=\"d2eb5cc7-3923-4e10-a151-c74eca210917\" class=\"plotly-graph-div\" style=\"height:525px; width:100%;\"></div>            <script type=\"text/javascript\">                                    window.PLOTLYENV=window.PLOTLYENV || {};                                    if (document.getElementById(\"d2eb5cc7-3923-4e10-a151-c74eca210917\")) {                    Plotly.newPlot(                        \"d2eb5cc7-3923-4e10-a151-c74eca210917\",                        [{\"hovertemplate\":\"variable=housing_median_age\\u003cbr\\u003evalue=%{text}\\u003cbr\\u003ecount=%{y}\",\"name\":\"housing_median_age\",\"text\":[\"[1.0, 2.02)\",\"[2.02, 3.04)\",\"[3.04, 4.06)\",\"[4.06, 5.08)\",\"[5.08, 6.1)\",\"[6.1, 7.12)\",\"[7.12, 8.14)\",\"[8.14, 9.16)\",\"[9.16, 10.18)\",\"[10.18, 11.2)\",\"[11.2, 12.22)\",\"[12.22, 13.24)\",\"[13.24, 14.26)\",\"[14.26, 15.28)\",\"[15.28, 16.3)\",\"[16.3, 17.32)\",\"[17.32, 18.34)\",\"[18.34, 19.36)\",\"[19.36, 20.38)\",\"[20.38, 21.4)\",\"[21.4, 22.42)\",\"[22.42, 23.44)\",\"[23.44, 24.46)\",\"[24.46, 25.48)\",\"[25.48, 26.5)\",\"[26.5, 27.52)\",\"[27.52, 28.54)\",\"[28.54, 29.56)\",\"[29.56, 30.58)\",\"[30.58, 31.6)\",\"[31.6, 32.62)\",\"[32.62, 33.64)\",\"[33.64, 34.66)\",\"[34.66, 35.68)\",\"[35.68, 36.7)\",\"[36.7, 37.72)\",\"[37.72, 38.74)\",\"[38.74, 39.76)\",\"[39.76, 40.78)\",\"[40.78, 41.8)\",\"[41.8, 42.82)\",\"[42.82, 43.84)\",\"[43.84, 44.86)\",\"[44.86, 45.88)\",\"[45.88, 46.9)\",\"[46.9, 47.92)\",\"[47.92, 48.94)\",\"[48.94, 49.96)\",\"[49.96, 50.98)\",\"[50.98, 52.0]\"],\"x\":[1.51,2.5300000000000002,3.5500000000000003,4.57,5.59,6.609999999999999,7.630000000000001,8.65,9.67,10.69,11.71,12.73,13.75,14.77,15.790000000000001,16.810000000000002,17.83,18.85,19.869999999999997,20.89,21.91,22.93,23.950000000000003,24.97,25.990000000000002,27.009999999999998,28.03,29.05,30.07,31.090000000000003,32.11,33.13,34.150000000000006,35.17,36.19,37.21,38.230000000000004,39.25,40.269999999999996,41.29,42.31,43.33,44.35,45.370000000000005,46.39,47.41,48.43,49.45,50.47,51.49],\"y\":[62,62,191,244,160,175,206,205,264,254,238,302,412,512,771,698,570,502,465,446,399,448,478,566,619,488,471,461,476,458,565,615,689,824,862,537,394,369,304,296,368,353,356,294,245,198,177,134,136,1321],\"type\":\"bar\"}],                        {\"template\":{\"data\":{\"histogram2dcontour\":[{\"type\":\"histogram2dcontour\",\"colorbar\":{\"outlinewidth\":0,\"ticks\":\"\"},\"colorscale\":[[0.0,\"#0d0887\"],[0.1111111111111111,\"#46039f\"],[0.2222222222222222,\"#7201a8\"],[0.3333333333333333,\"#9c179e\"],[0.4444444444444444,\"#bd3786\"],[0.5555555555555556,\"#d8576b\"],[0.6666666666666666,\"#ed7953\"],[0.7777777777777778,\"#fb9f3a\"],[0.8888888888888888,\"#fdca26\"],[1.0,\"#f0f921\"]]}],\"choropleth\":[{\"type\":\"choropleth\",\"colorbar\":{\"outlinewidth\":0,\"ticks\":\"\"}}],\"histogram2d\":[{\"type\":\"histogram2d\",\"colorbar\":{\"outlinewidth\":0,\"ticks\":\"\"},\"colorscale\":[[0.0,\"#0d0887\"],[0.1111111111111111,\"#46039f\"],[0.2222222222222222,\"#7201a8\"],[0.3333333333333333,\"#9c179e\"],[0.4444444444444444,\"#bd3786\"],[0.5555555555555556,\"#d8576b\"],[0.6666666666666666,\"#ed7953\"],[0.7777777777777778,\"#fb9f3a\"],[0.8888888888888888,\"#fdca26\"],[1.0,\"#f0f921\"]]}],\"heatmap\":[{\"type\":\"heatmap\",\"colorbar\":{\"outlinewidth\":0,\"ticks\":\"\"},\"colorscale\":[[0.0,\"#0d0887\"],[0.1111111111111111,\"#46039f\"],[0.2222222222222222,\"#7201a8\"],[0.3333333333333333,\"#9c179e\"],[0.4444444444444444,\"#bd3786\"],[0.5555555555555556,\"#d8576b\"],[0.6666666666666666,\"#ed7953\"],[0.7777777777777778,\"#fb9f3a\"],[0.8888888888888888,\"#fdca26\"],[1.0,\"#f0f921\"]]}],\"heatmapgl\":[{\"type\":\"heatmapgl\",\"colorbar\":{\"outlinewidth\":0,\"ticks\":\"\"},\"colorscale\":[[0.0,\"#0d0887\"],[0.1111111111111111,\"#46039f\"],[0.2222222222222222,\"#7201a8\"],[0.3333333333333333,\"#9c179e\"],[0.4444444444444444,\"#bd3786\"],[0.5555555555555556,\"#d8576b\"],[0.6666666666666666,\"#ed7953\"],[0.7777777777777778,\"#fb9f3a\"],[0.8888888888888888,\"#fdca26\"],[1.0,\"#f0f921\"]]}],\"contourcarpet\":[{\"type\":\"contourcarpet\",\"colorbar\":{\"outlinewidth\":0,\"ticks\":\"\"}}],\"contour\":[{\"type\":\"contour\",\"colorbar\":{\"outlinewidth\":0,\"ticks\":\"\"},\"colorscale\":[[0.0,\"#0d0887\"],[0.1111111111111111,\"#46039f\"],[0.2222222222222222,\"#7201a8\"],[0.3333333333333333,\"#9c179e\"],[0.4444444444444444,\"#bd3786\"],[0.5555555555555556,\"#d8576b\"],[0.6666666666666666,\"#ed7953\"],[0.7777777777777778,\"#fb9f3a\"],[0.8888888888888888,\"#fdca26\"],[1.0,\"#f0f921\"]]}],\"surface\":[{\"type\":\"surface\",\"colorbar\":{\"outlinewidth\":0,\"ticks\":\"\"},\"colorscale\":[[0.0,\"#0d0887\"],[0.1111111111111111,\"#46039f\"],[0.2222222222222222,\"#7201a8\"],[0.3333333333333333,\"#9c179e\"],[0.4444444444444444,\"#bd3786\"],[0.5555555555555556,\"#d8576b\"],[0.6666666666666666,\"#ed7953\"],[0.7777777777777778,\"#fb9f3a\"],[0.8888888888888888,\"#fdca26\"],[1.0,\"#f0f921\"]]}],\"mesh3d\":[{\"type\":\"mesh3d\",\"colorbar\":{\"outlinewidth\":0,\"ticks\":\"\"}}],\"scatter\":[{\"fillpattern\":{\"fillmode\":\"overlay\",\"size\":10,\"solidity\":0.2},\"type\":\"scatter\"}],\"parcoords\":[{\"type\":\"parcoords\",\"line\":{\"colorbar\":{\"outlinewidth\":0,\"ticks\":\"\"}}}],\"scatterpolargl\":[{\"type\":\"scatterpolargl\",\"marker\":{\"colorbar\":{\"outlinewidth\":0,\"ticks\":\"\"}}}],\"bar\":[{\"error_x\":{\"color\":\"#2a3f5f\"},\"error_y\":{\"color\":\"#2a3f5f\"},\"marker\":{\"line\":{\"color\":\"#E5ECF6\",\"width\":0.5},\"pattern\":{\"fillmode\":\"overlay\",\"size\":10,\"solidity\":0.2}},\"type\":\"bar\"}],\"scattergeo\":[{\"type\":\"scattergeo\",\"marker\":{\"colorbar\":{\"outlinewidth\":0,\"ticks\":\"\"}}}],\"scatterpolar\":[{\"type\":\"scatterpolar\",\"marker\":{\"colorbar\":{\"outlinewidth\":0,\"ticks\":\"\"}}}],\"histogram\":[{\"marker\":{\"pattern\":{\"fillmode\":\"overlay\",\"size\":10,\"solidity\":0.2}},\"type\":\"histogram\"}],\"scattergl\":[{\"type\":\"scattergl\",\"marker\":{\"colorbar\":{\"outlinewidth\":0,\"ticks\":\"\"}}}],\"scatter3d\":[{\"type\":\"scatter3d\",\"line\":{\"colorbar\":{\"outlinewidth\":0,\"ticks\":\"\"}},\"marker\":{\"colorbar\":{\"outlinewidth\":0,\"ticks\":\"\"}}}],\"scattermapbox\":[{\"type\":\"scattermapbox\",\"marker\":{\"colorbar\":{\"outlinewidth\":0,\"ticks\":\"\"}}}],\"scatterternary\":[{\"type\":\"scatterternary\",\"marker\":{\"colorbar\":{\"outlinewidth\":0,\"ticks\":\"\"}}}],\"scattercarpet\":[{\"type\":\"scattercarpet\",\"marker\":{\"colorbar\":{\"outlinewidth\":0,\"ticks\":\"\"}}}],\"carpet\":[{\"aaxis\":{\"endlinecolor\":\"#2a3f5f\",\"gridcolor\":\"white\",\"linecolor\":\"white\",\"minorgridcolor\":\"white\",\"startlinecolor\":\"#2a3f5f\"},\"baxis\":{\"endlinecolor\":\"#2a3f5f\",\"gridcolor\":\"white\",\"linecolor\":\"white\",\"minorgridcolor\":\"white\",\"startlinecolor\":\"#2a3f5f\"},\"type\":\"carpet\"}],\"table\":[{\"cells\":{\"fill\":{\"color\":\"#EBF0F8\"},\"line\":{\"color\":\"white\"}},\"header\":{\"fill\":{\"color\":\"#C8D4E3\"},\"line\":{\"color\":\"white\"}},\"type\":\"table\"}],\"barpolar\":[{\"marker\":{\"line\":{\"color\":\"#E5ECF6\",\"width\":0.5},\"pattern\":{\"fillmode\":\"overlay\",\"size\":10,\"solidity\":0.2}},\"type\":\"barpolar\"}],\"pie\":[{\"automargin\":true,\"type\":\"pie\"}]},\"layout\":{\"autotypenumbers\":\"strict\",\"colorway\":[\"#636efa\",\"#EF553B\",\"#00cc96\",\"#ab63fa\",\"#FFA15A\",\"#19d3f3\",\"#FF6692\",\"#B6E880\",\"#FF97FF\",\"#FECB52\"],\"font\":{\"color\":\"#2a3f5f\"},\"hovermode\":\"closest\",\"hoverlabel\":{\"align\":\"left\"},\"paper_bgcolor\":\"white\",\"plot_bgcolor\":\"#E5ECF6\",\"polar\":{\"bgcolor\":\"#E5ECF6\",\"angularaxis\":{\"gridcolor\":\"white\",\"linecolor\":\"white\",\"ticks\":\"\"},\"radialaxis\":{\"gridcolor\":\"white\",\"linecolor\":\"white\",\"ticks\":\"\"}},\"ternary\":{\"bgcolor\":\"#E5ECF6\",\"aaxis\":{\"gridcolor\":\"white\",\"linecolor\":\"white\",\"ticks\":\"\"},\"baxis\":{\"gridcolor\":\"white\",\"linecolor\":\"white\",\"ticks\":\"\"},\"caxis\":{\"gridcolor\":\"white\",\"linecolor\":\"white\",\"ticks\":\"\"}},\"coloraxis\":{\"colorbar\":{\"outlinewidth\":0,\"ticks\":\"\"}},\"colorscale\":{\"sequential\":[[0.0,\"#0d0887\"],[0.1111111111111111,\"#46039f\"],[0.2222222222222222,\"#7201a8\"],[0.3333333333333333,\"#9c179e\"],[0.4444444444444444,\"#bd3786\"],[0.5555555555555556,\"#d8576b\"],[0.6666666666666666,\"#ed7953\"],[0.7777777777777778,\"#fb9f3a\"],[0.8888888888888888,\"#fdca26\"],[1.0,\"#f0f921\"]],\"sequentialminus\":[[0.0,\"#0d0887\"],[0.1111111111111111,\"#46039f\"],[0.2222222222222222,\"#7201a8\"],[0.3333333333333333,\"#9c179e\"],[0.4444444444444444,\"#bd3786\"],[0.5555555555555556,\"#d8576b\"],[0.6666666666666666,\"#ed7953\"],[0.7777777777777778,\"#fb9f3a\"],[0.8888888888888888,\"#fdca26\"],[1.0,\"#f0f921\"]],\"diverging\":[[0,\"#8e0152\"],[0.1,\"#c51b7d\"],[0.2,\"#de77ae\"],[0.3,\"#f1b6da\"],[0.4,\"#fde0ef\"],[0.5,\"#f7f7f7\"],[0.6,\"#e6f5d0\"],[0.7,\"#b8e186\"],[0.8,\"#7fbc41\"],[0.9,\"#4d9221\"],[1,\"#276419\"]]},\"xaxis\":{\"gridcolor\":\"white\",\"linecolor\":\"white\",\"ticks\":\"\",\"title\":{\"standoff\":15},\"zerolinecolor\":\"white\",\"automargin\":true,\"zerolinewidth\":2},\"yaxis\":{\"gridcolor\":\"white\",\"linecolor\":\"white\",\"ticks\":\"\",\"title\":{\"standoff\":15},\"zerolinecolor\":\"white\",\"automargin\":true,\"zerolinewidth\":2},\"scene\":{\"xaxis\":{\"backgroundcolor\":\"#E5ECF6\",\"gridcolor\":\"white\",\"linecolor\":\"white\",\"showbackground\":true,\"ticks\":\"\",\"zerolinecolor\":\"white\",\"gridwidth\":2},\"yaxis\":{\"backgroundcolor\":\"#E5ECF6\",\"gridcolor\":\"white\",\"linecolor\":\"white\",\"showbackground\":true,\"ticks\":\"\",\"zerolinecolor\":\"white\",\"gridwidth\":2},\"zaxis\":{\"backgroundcolor\":\"#E5ECF6\",\"gridcolor\":\"white\",\"linecolor\":\"white\",\"showbackground\":true,\"ticks\":\"\",\"zerolinecolor\":\"white\",\"gridwidth\":2}},\"shapedefaults\":{\"line\":{\"color\":\"#2a3f5f\"}},\"annotationdefaults\":{\"arrowcolor\":\"#2a3f5f\",\"arrowhead\":0,\"arrowwidth\":1},\"geo\":{\"bgcolor\":\"white\",\"landcolor\":\"#E5ECF6\",\"subunitcolor\":\"white\",\"showland\":true,\"showlakes\":true,\"lakecolor\":\"white\"},\"title\":{\"x\":0.05},\"mapbox\":{\"style\":\"light\"}}},\"barmode\":\"stack\",\"xaxis\":{\"title\":{\"text\":\"Housing Median Age Per Census Block\"}},\"yaxis\":{\"title\":{\"text\":\"Frequency\"}},\"title\":{\"text\":\"Distribution of Housing Median Age Per Cencsus Block\"}},                        {\"responsive\": true}                    ).then(function(){\n",
              "                            \n",
              "var gd = document.getElementById('d2eb5cc7-3923-4e10-a151-c74eca210917');\n",
              "var x = new MutationObserver(function (mutations, observer) {{\n",
              "        var display = window.getComputedStyle(gd).display;\n",
              "        if (!display || display === 'none') {{\n",
              "            console.log([gd, 'removed!']);\n",
              "            Plotly.purge(gd);\n",
              "            observer.disconnect();\n",
              "        }}\n",
              "}});\n",
              "\n",
              "// Listen for the removal of the full notebook cells\n",
              "var notebookContainer = gd.closest('#notebook-container');\n",
              "if (notebookContainer) {{\n",
              "    x.observe(notebookContainer, {childList: true});\n",
              "}}\n",
              "\n",
              "// Listen for the clearing of the current output cell\n",
              "var outputEl = gd.closest('.output');\n",
              "if (outputEl) {{\n",
              "    x.observe(outputEl, {childList: true});\n",
              "}}\n",
              "\n",
              "                        })                };                            </script>        </div>\n",
              "</body>\n",
              "</html>"
            ]
          },
          "metadata": {}
        }
      ]
    },
    {
      "cell_type": "markdown",
      "source": [
        "The histogram of housing median age looks a lot different than the rest because it seems to be multimodal given the multiple peaks and valleys in the graph. This may mean that houses in California were built in certain times when the economy was good or there was major populatino growth."
      ],
      "metadata": {
        "id": "P1HMy-WUVsNz"
      }
    },
    {
      "cell_type": "code",
      "source": [
        "fig = df.plot.scatter(x='population', y='households')\n",
        "fig.update_layout(\n",
        "    title=\"Scatter Plot of Population and Households\"\n",
        ")\n",
        "\n",
        "fig.show()"
      ],
      "metadata": {
        "colab": {
          "base_uri": "https://localhost:8080/",
          "height": 542
        },
        "id": "BAeva9NrO5P4",
        "outputId": "9af15d7b-d86b-44b9-918a-24767a870c70"
      },
      "execution_count": null,
      "outputs": [
        {
          "output_type": "display_data",
          "data": {
            "text/html": [
              "<html>\n",
              "<head><meta charset=\"utf-8\" /></head>\n",
              "<body>\n",
              "    <div>            <script src=\"https://cdnjs.cloudflare.com/ajax/libs/mathjax/2.7.5/MathJax.js?config=TeX-AMS-MML_SVG\"></script><script type=\"text/javascript\">if (window.MathJax && window.MathJax.Hub && window.MathJax.Hub.Config) {window.MathJax.Hub.Config({SVG: {font: \"STIX-Web\"}});}</script>                <script type=\"text/javascript\">window.PlotlyConfig = {MathJaxConfig: 'local'};</script>\n",
              "        <script charset=\"utf-8\" src=\"https://cdn.plot.ly/plotly-2.35.2.min.js\"></script>                <div id=\"efa860c8-1d2e-42ed-a945-80550d3e6fb0\" class=\"plotly-graph-div\" style=\"height:525px; width:100%;\"></div>            <script type=\"text/javascript\">                                    window.PLOTLYENV=window.PLOTLYENV || {};                                    if (document.getElementById(\"efa860c8-1d2e-42ed-a945-80550d3e6fb0\")) {                    Plotly.newPlot(                        \"efa860c8-1d2e-42ed-a945-80550d3e6fb0\",                        [{\"hovertemplate\":\"population=%{x}\\u003cbr\\u003ehouseholds=%{y}\\u003cextra\\u003e\\u003c\\u002fextra\\u003e\",\"legendgroup\":\"\",\"marker\":{\"color\":\"#636efa\",\"symbol\":\"circle\"},\"mode\":\"markers\",\"name\":\"\",\"orientation\":\"v\",\"showlegend\":false,\"x\":[322.0,2401.0,496.0,558.0,565.0,413.0,1094.0,1157.0,1206.0,1551.0,910.0,1504.0,1098.0,345.0,1212.0,697.0,793.0,648.0,990.0,690.0,409.0,929.0,1015.0,853.0,1006.0,317.0,607.0,1102.0,1131.0,395.0,863.0,1168.0,1026.0,754.0,1258.0,570.0,987.0,901.0,689.0,1377.0,946.0,517.0,462.0,467.0,660.0,718.0,616.0,558.0,423.0,700.0,735.0,1061.0,1959.0,1162.0,701.0,576.0,622.0,728.0,1074.0,94.0,554.0,86.0,377.0,521.0,392.0,604.0,788.0,492.0,274.0,1823.0,392.0,582.0,560.0,18.0,290.0,762.0,1236.0,721.0,1054.0,344.0,609.0,183.0,200.0,346.0,467.0,377.0,582.0,546.0,125.0,396.0,800.0,904.0,191.0,718.0,1327.0,3469.0,2048.0,202.0,2024.0,1838.0,2304.0,2563.0,389.0,895.0,2689.0,674.0,709.0,686.0,1444.0,1520.0,550.0,1806.0,1749.0,939.0,675.0,534.0,2558.0,1786.0,970.0,1098.0,794.0,98.0,1061.0,1177.0,901.0,2031.0,1031.0,1358.0,1616.0,844.0,1140.0,533.0,1072.0,1627.0,463.0,542.0,661.0,635.0,420.0,1265.0,126.0,813.0,1067.0,1260.0,951.0,510.0,765.0,1129.0,1073.0,1185.0,756.0,1034.0,787.0,612.0,1021.0,861.0,953.0,634.0,878.0,918.0,360.0,1197.0,1048.0,1373.0,1715.0,1359.0,1062.0,1335.0,1171.0,1475.0,742.0,1086.0,1645.0,1710.0,731.0,1118.0,1006.0,1213.0,772.0,1321.0,1487.0,488.0,949.0,1149.0,844.0,4367.0,1659.0,1011.0,1464.0,1237.0,647.0,1284.0,228.0,381.0,846.0,1659.0,520.0,866.0,612.0,415.0,994.0,1525.0,1506.0,1008.0,2813.0,1481.0,859.0,1608.0,425.0,564.0,961.0,2273.0,600.0,1647.0,1201.0,2167.0,939.0,859.0,1517.0,1143.0,1109.0,1221.0,1115.0,706.0,1883.0,804.0,506.0,610.0,768.0,462.0,667.0,1059.0,637.0,1106.0,1737.0,1009.0,737.0,1354.0,1530.0,1410.0,1390.0,1065.0,792.0,779.0,2269.0,1227.0,753.0,547.0,1807.0,1700.0,1543.0,1085.0,353.0,473.0,1621.0,1183.0,836.0,900.0,1888.0,1024.0,1225.0,1071.0,1128.0,1537.0,1240.0,469.0,1086.0,1144.0,1109.0,984.0,575.0,496.0,555.0,869.0,236.0,626.0,922.0,582.0,546.0,620.0,442.0,955.0,916.0,4985.0,651.0,1704.0,1085.0,713.0,468.0,296.0,570.0,446.0,968.0,857.0,912.0,1360.0,1074.0,965.0,933.0,987.0,907.0,447.0,1299.0,396.0,877.0,1111.0,790.0,1479.0,1173.0,1029.0,1030.0,826.0,1412.0,1132.0,522.0,630.0,531.0,1925.0,1144.0,1481.0,435.0,984.0,567.0,380.0,825.0,417.0,801.0,646.0,855.0,435.0,2736.0,1481.0,327.0,494.0,1231.0,323.0,749.0,693.0,1339.0,282.0,621.0,732.0,901.0,482.0,652.0,651.0,999.0,907.0,828.0,763.0,935.0,1437.0,1516.0,597.0,949.0,881.0,1438.0,763.0,1297.0,545.0,1222.0,808.0,329.0,299.0,579.0,137.0,229.0,1476.0,429.0,849.0,946.0,571.0,1137.0,378.0,853.0,764.0,928.0,406.0,824.0,835.0,826.0,567.0,355.0,533.0,609.0,576.0,594.0,870.0,1027.0,693.0,815.0,2420.0,518.0,620.0,551.0,2556.0,1498.0,523.0,374.0,1004.0,769.0,940.0,645.0,705.0,684.0,572.0,671.0,975.0,779.0,658.0,819.0,412.0,835.0,722.0,1085.0,973.0,723.0,903.0,356.0,1005.0,1205.0,987.0,1031.0,894.0,823.0,1232.0,669.0,989.0,1058.0,506.0,489.0,824.0,1034.0,920.0,841.0,749.0,208.0,228.0,287.0,218.0,854.0,1695.0,403.0,288.0,963.0,1129.0,386.0,811.0,1293.0,805.0,1372.0,862.0,1152.0,483.0,1558.0,1798.0,266.0,2184.0,2016.0,1349.0,3337.0,1721.0,1675.0,707.0,1424.0,393.0,828.0,571.0,1382.0,792.0,815.0,788.0,1145.0,1354.0,958.0,1361.0,1005.0,924.0,780.0,1582.0,1213.0,486.0,494.0,849.0,1127.0,3276.0,1493.0,1461.0,1253.0,1656.0,514.0,719.0,878.0,517.0,1366.0,1316.0,1508.0,1800.0,719.0,675.0,875.0,152.0,843.0,281.0,506.0,1054.0,1017.0,1623.0,3100.0,947.0,808.0,1018.0,1001.0,1005.0,1192.0,585.0,916.0,556.0,1470.0,1104.0,1242.0,805.0,378.0,481.0,409.0,885.0,1468.0,482.0,825.0,429.0,528.0,496.0,718.0,630.0,723.0,959.0,3668.0,2037.0,3741.0,821.0,870.0,1901.0,1243.0,730.0,793.0,1033.0,872.0,849.0,1121.0,872.0,637.0,663.0,411.0,915.0,921.0,585.0,2086.0,1303.0,374.0,979.0,827.0,658.0,654.0,384.0,1499.0,1128.0,1110.0,1119.0,2930.0,897.0,7427.0,2973.0,1340.0,2974.0,2690.0,583.0,5781.0,1738.0,1478.0,746.0,1235.0,1411.0,1368.0,1048.0,1004.0,1086.0,922.0,1950.0,1413.0,1444.0,749.0,867.0,2723.0,731.0,781.0,1784.0,1156.0,645.0,821.0,1912.0,1487.0,1645.0,2239.0,1021.0,1105.0,2999.0,740.0,629.0,314.0,1479.0,1732.0,1338.0,440.0,922.0,611.0,994.0,545.0,317.0,1573.0,925.0,768.0,620.0,425.0,1003.0,519.0,481.0,1209.0,1398.0,158.0,1817.0,766.0,814.0,618.0,2139.0,632.0,366.0,877.0,830.0,739.0,540.0,2024.0,823.0,711.0,931.0,686.0,1030.0,976.0,552.0,340.0,288.0,555.0,1006.0,776.0,609.0,2441.0,1364.0,2197.0,1333.0,1810.0,531.0,672.0,695.0,2162.0,1216.0,606.0,1203.0,874.0,637.0,703.0,733.0,625.0,568.0,836.0,952.0,568.0,1125.0,840.0,796.0,863.0,1349.0,929.0,957.0,1093.0,1489.0,1561.0,1256.0,695.0,560.0,632.0,1849.0,1287.0,1580.0,1571.0,828.0,835.0,1765.0,387.0,1562.0,768.0,1140.0,83.0,485.0,1189.0,586.0,2240.0,867.0,3827.0,3827.0,1280.0,2667.0,253.0,1401.0,233.0,673.0,704.0,273.0,1120.0,1105.0,569.0,691.0,1109.0,1197.0,1061.0,2479.0,1162.0,1146.0,724.0,975.0,952.0,1159.0,1129.0,1175.0,924.0,1424.0,1366.0,1171.0,641.0,880.0,1635.0,1495.0,914.0,1798.0,1625.0,599.0,2037.0,1854.0,1408.0,766.0,725.0,1019.0,1830.0,1469.0,1198.0,1039.0,690.0,1155.0,1066.0,1255.0,2461.0,1063.0,2181.0,3069.0,1093.0,1349.0,599.0,480.0,1293.0,1414.0,543.0,572.0,342.0,2332.0,768.0,913.0,1726.0,1185.0,735.0,796.0,252.0,86.0,5613.0,1727.0,407.0,2041.0,854.0,1907.0,264.0,735.0,836.0,1377.0,789.0,662.0,853.0,664.0,4065.0,1109.0,548.0,431.0,463.0,5436.0,2028.0,2426.0,1038.0,857.0,848.0,729.0,369.0,1001.0,1472.0,453.0,328.0,793.0,632.0,1002.0,808.0,727.0,455.0,1534.0,1139.0,1175.0,1401.0,3388.0,841.0,705.0,1148.0,391.0,992.0,790.0,1016.0,1039.0,2341.0,1382.0,1858.0,1156.0,1097.0,831.0,1873.0,1640.0,1568.0,3174.0,1186.0,1367.0,1680.0,1657.0,1033.0,1117.0,2003.0,2568.0,1461.0,1116.0,3163.0,1488.0,855.0,2530.0,240.0,2097.0,2629.0,295.0,2056.0,2172.0,1777.0,2079.0,1276.0,2071.0,8117.0,8012.0,3436.0,5019.0,4576.0,6075.0,648.0,7205.0,2461.0,914.0,2841.0,4446.0,1531.0,1434.0,909.0,1174.0,2641.0,3288.0,1606.0,4518.0,986.0,3080.0,3386.0,4649.0,2412.0,4552.0,596.0,1631.0,941.0,1724.0,1067.0,2738.0,1278.0,1538.0,1252.0,1344.0,1353.0,1273.0,1610.0,2142.0,1285.0,1673.0,1772.0,1106.0,2023.0,1276.0,3026.0,1128.0,852.0,889.0,2831.0,1776.0,1671.0,2530.0,2721.0,3215.0,2352.0,2855.0,12203.0,1981.0,3571.0,1972.0,1105.0,2759.0,4319.0,1597.0,1446.0,1285.0,2568.0,2357.0,2998.0,307.0,3526.0,1213.0,1911.0,1524.0,719.0,3038.0,1268.0,2346.0,2216.0,3223.0,2937.0,2302.0,2038.0,1935.0,1453.0,2288.0,2484.0,3386.0,512.0,1081.0,1590.0,3126.0,706.0,793.0,926.0,831.0,1700.0,1395.0,3329.0,854.0,734.0,1543.0,937.0,1181.0,852.0,876.0,3926.0,1360.0,161.0,315.0,769.0,514.0,2444.0,1813.0,853.0,1895.0,1833.0,1699.0,583.0,4847.0,83.0,51.0,4389.0,2649.0,1952.0,771.0,144.0,729.0,2595.0,5826.0,254.0,2474.0,2222.0,802.0],\"xaxis\":\"x\",\"y\":[126.0,1138.0,177.0,219.0,259.0,193.0,514.0,647.0,595.0,714.0,402.0,734.0,468.0,174.0,620.0,264.0,331.0,303.0,419.0,275.0,166.0,366.0,478.0,325.0,422.0,119.0,239.0,397.0,473.0,155.0,378.0,441.0,335.0,329.0,536.0,264.0,374.0,403.0,309.0,696.0,395.0,249.0,189.0,198.0,292.0,382.0,304.0,253.0,160.0,352.0,438.0,407.0,720.0,400.0,233.0,220.0,259.0,244.0,304.0,57.0,187.0,23.0,122.0,159.0,133.0,187.0,332.0,147.0,82.0,611.0,127.0,277.0,152.0,7.0,133.0,439.0,509.0,207.0,325.0,155.0,289.0,56.0,87.0,155.0,169.0,115.0,380.0,330.0,39.0,85.0,362.0,88.0,34.0,302.0,467.0,2323.0,1180.0,91.0,1250.0,980.0,1250.0,1497.0,228.0,613.0,1789.0,244.0,456.0,422.0,718.0,802.0,253.0,1022.0,1217.0,519.0,422.0,291.0,1661.0,1037.0,373.0,485.0,376.0,47.0,403.0,555.0,367.0,956.0,479.0,597.0,654.0,343.0,496.0,194.0,443.0,766.0,190.0,211.0,269.0,263.0,176.0,500.0,52.0,350.0,426.0,552.0,487.0,224.0,308.0,460.0,441.0,515.0,340.0,521.0,459.0,213.0,380.0,258.0,327.0,256.0,352.0,483.0,175.0,488.0,518.0,747.0,1015.0,722.0,413.0,773.0,429.0,460.0,196.0,363.0,543.0,644.0,228.0,347.0,335.0,554.0,257.0,401.0,677.0,186.0,392.0,415.0,280.0,1231.0,412.0,263.0,389.0,303.0,168.0,357.0,55.0,123.0,227.0,676.0,138.0,259.0,183.0,126.0,213.0,477.0,438.0,255.0,751.0,343.0,219.0,523.0,140.0,184.0,272.0,685.0,195.0,527.0,424.0,659.0,340.0,292.0,516.0,386.0,464.0,446.0,455.0,268.0,706.0,340.0,252.0,238.0,332.0,184.0,235.0,399.0,277.0,454.0,669.0,390.0,210.0,491.0,474.0,480.0,569.0,269.0,245.0,245.0,610.0,407.0,241.0,135.0,440.0,495.0,393.0,300.0,137.0,149.0,483.0,354.0,277.0,263.0,537.0,341.0,423.0,376.0,378.0,484.0,393.0,168.0,425.0,417.0,375.0,369.0,47.0,209.0,190.0,327.0,106.0,214.0,329.0,256.0,201.0,266.0,195.0,328.0,324.0,1967.0,267.0,703.0,407.0,284.0,181.0,121.0,218.0,180.0,384.0,316.0,322.0,452.0,355.0,382.0,320.0,354.0,246.0,165.0,451.0,157.0,268.0,367.0,269.0,554.0,438.0,366.0,350.0,279.0,454.0,349.0,159.0,237.0,133.0,667.0,351.0,520.0,162.0,303.0,159.0,123.0,244.0,155.0,287.0,198.0,285.0,136.0,780.0,414.0,137.0,179.0,341.0,109.0,225.0,178.0,354.0,80.0,195.0,259.0,260.0,150.0,213.0,166.0,286.0,306.0,230.0,254.0,349.0,484.0,482.0,185.0,342.0,302.0,519.0,270.0,355.0,211.0,533.0,219.0,109.0,109.0,202.0,50.0,93.0,648.0,154.0,255.0,331.0,191.0,386.0,135.0,272.0,282.0,261.0,133.0,280.0,259.0,295.0,211.0,144.0,166.0,215.0,236.0,286.0,377.0,509.0,326.0,375.0,1146.0,276.0,275.0,266.0,924.0,696.0,227.0,153.0,371.0,334.0,423.0,256.0,288.0,275.0,236.0,253.0,365.0,312.0,244.0,335.0,168.0,369.0,306.0,487.0,355.0,272.0,362.0,181.0,462.0,504.0,450.0,448.0,404.0,377.0,621.0,367.0,550.0,464.0,207.0,218.0,388.0,475.0,425.0,380.0,137.0,98.0,100.0,128.0,106.0,355.0,684.0,172.0,131.0,521.0,516.0,204.0,406.0,675.0,431.0,876.0,425.0,616.0,249.0,573.0,769.0,123.0,422.0,477.0,250.0,350.0,949.0,1000.0,350.0,694.0,189.0,339.0,292.0,713.0,321.0,372.0,346.0,430.0,563.0,445.0,608.0,449.0,414.0,358.0,636.0,568.0,267.0,175.0,365.0,548.0,1742.0,794.0,679.0,538.0,459.0,202.0,295.0,449.0,214.0,496.0,590.0,755.0,815.0,326.0,255.0,363.0,77.0,319.0,132.0,204.0,466.0,414.0,765.0,2051.0,361.0,315.0,335.0,352.0,369.0,383.0,227.0,316.0,179.0,520.0,398.0,518.0,321.0,162.0,223.0,160.0,373.0,567.0,215.0,264.0,158.0,208.0,216.0,265.0,265.0,286.0,486.0,855.0,355.0,1273.0,300.0,347.0,966.0,663.0,327.0,299.0,434.0,363.0,457.0,518.0,445.0,297.0,340.0,172.0,413.0,477.0,266.0,1053.0,535.0,176.0,472.0,446.0,253.0,268.0,146.0,797.0,522.0,492.0,415.0,1235.0,390.0,2718.0,1312.0,632.0,1484.0,1151.0,326.0,2007.0,512.0,529.0,270.0,455.0,484.0,521.0,367.0,365.0,367.0,350.0,819.0,595.0,568.0,269.0,329.0,1035.0,263.0,301.0,652.0,410.0,277.0,315.0,770.0,694.0,710.0,1051.0,552.0,467.0,1295.0,284.0,244.0,205.0,668.0,800.0,550.0,192.0,393.0,288.0,412.0,230.0,143.0,736.0,435.0,385.0,292.0,207.0,305.0,135.0,198.0,519.0,525.0,58.0,664.0,289.0,328.0,239.0,789.0,253.0,134.0,485.0,573.0,379.0,266.0,962.0,334.0,353.0,368.0,270.0,397.0,392.0,210.0,171.0,132.0,248.0,444.0,346.0,270.0,1352.0,789.0,1044.0,544.0,703.0,183.0,261.0,330.0,998.0,643.0,239.0,379.0,301.0,222.0,276.0,229.0,228.0,225.0,311.0,362.0,352.0,366.0,401.0,283.0,267.0,486.0,383.0,335.0,555.0,607.0,628.0,485.0,279.0,237.0,289.0,750.0,538.0,536.0,579.0,443.0,338.0,724.0,161.0,618.0,309.0,472.0,31.0,171.0,573.0,249.0,792.0,352.0,1288.0,1294.0,431.0,1047.0,137.0,607.0,152.0,308.0,314.0,120.0,540.0,467.0,293.0,324.0,448.0,465.0,400.0,903.0,389.0,448.0,267.0,375.0,370.0,399.0,422.0,401.0,328.0,538.0,500.0,390.0,243.0,332.0,557.0,543.0,317.0,694.0,665.0,224.0,703.0,603.0,478.0,271.0,274.0,340.0,743.0,616.0,624.0,394.0,242.0,415.0,384.0,587.0,1042.0,356.0,740.0,1299.0,374.0,437.0,206.0,149.0,448.0,634.0,184.0,194.0,112.0,603.0,234.0,299.0,643.0,501.0,278.0,319.0,82.0,25.0,1946.0,467.0,183.0,734.0,301.0,746.0,77.0,249.0,292.0,408.0,248.0,226.0,271.0,200.0,1113.0,418.0,185.0,149.0,160.0,1463.0,693.0,862.0,282.0,430.0,291.0,220.0,159.0,350.0,527.0,176.0,134.0,302.0,204.0,281.0,241.0,215.0,185.0,346.0,550.0,337.0,453.0,1289.0,364.0,351.0,310.0,107.0,249.0,243.0,313.0,395.0,703.0,338.0,437.0,300.0,328.0,268.0,602.0,514.0,433.0,817.0,310.0,355.0,528.0,410.0,267.0,268.0,488.0,653.0,344.0,273.0,1274.0,389.0,319.0,817.0,149.0,728.0,721.0,92.0,628.0,789.0,559.0,975.0,485.0,688.0,2847.0,2606.0,1057.0,1379.0,1348.0,1797.0,245.0,2753.0,829.0,316.0,924.0,1491.0,736.0,495.0,267.0,501.0,971.0,1235.0,838.0,1772.0,322.0,1182.0,1339.0,1903.0,714.0,1520.0,220.0,538.0,304.0,585.0,410.0,1108.0,492.0,545.0,586.0,467.0,413.0,406.0,540.0,639.0,404.0,661.0,516.0,453.0,749.0,468.0,1134.0,395.0,357.0,314.0,923.0,613.0,504.0,894.0,763.0,1086.0,734.0,960.0,3701.0,591.0,1466.0,623.0,357.0,760.0,1404.0,483.0,515.0,377.0,703.0,823.0,890.0,100.0,1060.0,338.0,639.0,467.0,236.0,870.0,404.0,709.0,681.0,1316.0,1506.0,687.0,671.0,642.0,444.0,805.0,970.0,1062.0,208.0,400.0,559.0,1115.0,219.0,456.0,299.0,260.0,520.0,427.0,1136.0,286.0,245.0,577.0,324.0,474.0,295.0,285.0,1229.0,642.0,102.0,123.0,461.0,172.0,825.0,743.0,278.0,742.0,663.0,640.0,214.0,1950.0,42.0,21.0,1391.0,1241.0,576.0,279.0,58.0,252.0,1067.0,2125.0,85.0,910.0,662.0,319.0],\"yaxis\":\"y\",\"type\":\"scatter\"}],                        {\"template\":{\"data\":{\"histogram2dcontour\":[{\"type\":\"histogram2dcontour\",\"colorbar\":{\"outlinewidth\":0,\"ticks\":\"\"},\"colorscale\":[[0.0,\"#0d0887\"],[0.1111111111111111,\"#46039f\"],[0.2222222222222222,\"#7201a8\"],[0.3333333333333333,\"#9c179e\"],[0.4444444444444444,\"#bd3786\"],[0.5555555555555556,\"#d8576b\"],[0.6666666666666666,\"#ed7953\"],[0.7777777777777778,\"#fb9f3a\"],[0.8888888888888888,\"#fdca26\"],[1.0,\"#f0f921\"]]}],\"choropleth\":[{\"type\":\"choropleth\",\"colorbar\":{\"outlinewidth\":0,\"ticks\":\"\"}}],\"histogram2d\":[{\"type\":\"histogram2d\",\"colorbar\":{\"outlinewidth\":0,\"ticks\":\"\"},\"colorscale\":[[0.0,\"#0d0887\"],[0.1111111111111111,\"#46039f\"],[0.2222222222222222,\"#7201a8\"],[0.3333333333333333,\"#9c179e\"],[0.4444444444444444,\"#bd3786\"],[0.5555555555555556,\"#d8576b\"],[0.6666666666666666,\"#ed7953\"],[0.7777777777777778,\"#fb9f3a\"],[0.8888888888888888,\"#fdca26\"],[1.0,\"#f0f921\"]]}],\"heatmap\":[{\"type\":\"heatmap\",\"colorbar\":{\"outlinewidth\":0,\"ticks\":\"\"},\"colorscale\":[[0.0,\"#0d0887\"],[0.1111111111111111,\"#46039f\"],[0.2222222222222222,\"#7201a8\"],[0.3333333333333333,\"#9c179e\"],[0.4444444444444444,\"#bd3786\"],[0.5555555555555556,\"#d8576b\"],[0.6666666666666666,\"#ed7953\"],[0.7777777777777778,\"#fb9f3a\"],[0.8888888888888888,\"#fdca26\"],[1.0,\"#f0f921\"]]}],\"heatmapgl\":[{\"type\":\"heatmapgl\",\"colorbar\":{\"outlinewidth\":0,\"ticks\":\"\"},\"colorscale\":[[0.0,\"#0d0887\"],[0.1111111111111111,\"#46039f\"],[0.2222222222222222,\"#7201a8\"],[0.3333333333333333,\"#9c179e\"],[0.4444444444444444,\"#bd3786\"],[0.5555555555555556,\"#d8576b\"],[0.6666666666666666,\"#ed7953\"],[0.7777777777777778,\"#fb9f3a\"],[0.8888888888888888,\"#fdca26\"],[1.0,\"#f0f921\"]]}],\"contourcarpet\":[{\"type\":\"contourcarpet\",\"colorbar\":{\"outlinewidth\":0,\"ticks\":\"\"}}],\"contour\":[{\"type\":\"contour\",\"colorbar\":{\"outlinewidth\":0,\"ticks\":\"\"},\"colorscale\":[[0.0,\"#0d0887\"],[0.1111111111111111,\"#46039f\"],[0.2222222222222222,\"#7201a8\"],[0.3333333333333333,\"#9c179e\"],[0.4444444444444444,\"#bd3786\"],[0.5555555555555556,\"#d8576b\"],[0.6666666666666666,\"#ed7953\"],[0.7777777777777778,\"#fb9f3a\"],[0.8888888888888888,\"#fdca26\"],[1.0,\"#f0f921\"]]}],\"surface\":[{\"type\":\"surface\",\"colorbar\":{\"outlinewidth\":0,\"ticks\":\"\"},\"colorscale\":[[0.0,\"#0d0887\"],[0.1111111111111111,\"#46039f\"],[0.2222222222222222,\"#7201a8\"],[0.3333333333333333,\"#9c179e\"],[0.4444444444444444,\"#bd3786\"],[0.5555555555555556,\"#d8576b\"],[0.6666666666666666,\"#ed7953\"],[0.7777777777777778,\"#fb9f3a\"],[0.8888888888888888,\"#fdca26\"],[1.0,\"#f0f921\"]]}],\"mesh3d\":[{\"type\":\"mesh3d\",\"colorbar\":{\"outlinewidth\":0,\"ticks\":\"\"}}],\"scatter\":[{\"fillpattern\":{\"fillmode\":\"overlay\",\"size\":10,\"solidity\":0.2},\"type\":\"scatter\"}],\"parcoords\":[{\"type\":\"parcoords\",\"line\":{\"colorbar\":{\"outlinewidth\":0,\"ticks\":\"\"}}}],\"scatterpolargl\":[{\"type\":\"scatterpolargl\",\"marker\":{\"colorbar\":{\"outlinewidth\":0,\"ticks\":\"\"}}}],\"bar\":[{\"error_x\":{\"color\":\"#2a3f5f\"},\"error_y\":{\"color\":\"#2a3f5f\"},\"marker\":{\"line\":{\"color\":\"#E5ECF6\",\"width\":0.5},\"pattern\":{\"fillmode\":\"overlay\",\"size\":10,\"solidity\":0.2}},\"type\":\"bar\"}],\"scattergeo\":[{\"type\":\"scattergeo\",\"marker\":{\"colorbar\":{\"outlinewidth\":0,\"ticks\":\"\"}}}],\"scatterpolar\":[{\"type\":\"scatterpolar\",\"marker\":{\"colorbar\":{\"outlinewidth\":0,\"ticks\":\"\"}}}],\"histogram\":[{\"marker\":{\"pattern\":{\"fillmode\":\"overlay\",\"size\":10,\"solidity\":0.2}},\"type\":\"histogram\"}],\"scattergl\":[{\"type\":\"scattergl\",\"marker\":{\"colorbar\":{\"outlinewidth\":0,\"ticks\":\"\"}}}],\"scatter3d\":[{\"type\":\"scatter3d\",\"line\":{\"colorbar\":{\"outlinewidth\":0,\"ticks\":\"\"}},\"marker\":{\"colorbar\":{\"outlinewidth\":0,\"ticks\":\"\"}}}],\"scattermapbox\":[{\"type\":\"scattermapbox\",\"marker\":{\"colorbar\":{\"outlinewidth\":0,\"ticks\":\"\"}}}],\"scatterternary\":[{\"type\":\"scatterternary\",\"marker\":{\"colorbar\":{\"outlinewidth\":0,\"ticks\":\"\"}}}],\"scattercarpet\":[{\"type\":\"scattercarpet\",\"marker\":{\"colorbar\":{\"outlinewidth\":0,\"ticks\":\"\"}}}],\"carpet\":[{\"aaxis\":{\"endlinecolor\":\"#2a3f5f\",\"gridcolor\":\"white\",\"linecolor\":\"white\",\"minorgridcolor\":\"white\",\"startlinecolor\":\"#2a3f5f\"},\"baxis\":{\"endlinecolor\":\"#2a3f5f\",\"gridcolor\":\"white\",\"linecolor\":\"white\",\"minorgridcolor\":\"white\",\"startlinecolor\":\"#2a3f5f\"},\"type\":\"carpet\"}],\"table\":[{\"cells\":{\"fill\":{\"color\":\"#EBF0F8\"},\"line\":{\"color\":\"white\"}},\"header\":{\"fill\":{\"color\":\"#C8D4E3\"},\"line\":{\"color\":\"white\"}},\"type\":\"table\"}],\"barpolar\":[{\"marker\":{\"line\":{\"color\":\"#E5ECF6\",\"width\":0.5},\"pattern\":{\"fillmode\":\"overlay\",\"size\":10,\"solidity\":0.2}},\"type\":\"barpolar\"}],\"pie\":[{\"automargin\":true,\"type\":\"pie\"}]},\"layout\":{\"autotypenumbers\":\"strict\",\"colorway\":[\"#636efa\",\"#EF553B\",\"#00cc96\",\"#ab63fa\",\"#FFA15A\",\"#19d3f3\",\"#FF6692\",\"#B6E880\",\"#FF97FF\",\"#FECB52\"],\"font\":{\"color\":\"#2a3f5f\"},\"hovermode\":\"closest\",\"hoverlabel\":{\"align\":\"left\"},\"paper_bgcolor\":\"white\",\"plot_bgcolor\":\"#E5ECF6\",\"polar\":{\"bgcolor\":\"#E5ECF6\",\"angularaxis\":{\"gridcolor\":\"white\",\"linecolor\":\"white\",\"ticks\":\"\"},\"radialaxis\":{\"gridcolor\":\"white\",\"linecolor\":\"white\",\"ticks\":\"\"}},\"ternary\":{\"bgcolor\":\"#E5ECF6\",\"aaxis\":{\"gridcolor\":\"white\",\"linecolor\":\"white\",\"ticks\":\"\"},\"baxis\":{\"gridcolor\":\"white\",\"linecolor\":\"white\",\"ticks\":\"\"},\"caxis\":{\"gridcolor\":\"white\",\"linecolor\":\"white\",\"ticks\":\"\"}},\"coloraxis\":{\"colorbar\":{\"outlinewidth\":0,\"ticks\":\"\"}},\"colorscale\":{\"sequential\":[[0.0,\"#0d0887\"],[0.1111111111111111,\"#46039f\"],[0.2222222222222222,\"#7201a8\"],[0.3333333333333333,\"#9c179e\"],[0.4444444444444444,\"#bd3786\"],[0.5555555555555556,\"#d8576b\"],[0.6666666666666666,\"#ed7953\"],[0.7777777777777778,\"#fb9f3a\"],[0.8888888888888888,\"#fdca26\"],[1.0,\"#f0f921\"]],\"sequentialminus\":[[0.0,\"#0d0887\"],[0.1111111111111111,\"#46039f\"],[0.2222222222222222,\"#7201a8\"],[0.3333333333333333,\"#9c179e\"],[0.4444444444444444,\"#bd3786\"],[0.5555555555555556,\"#d8576b\"],[0.6666666666666666,\"#ed7953\"],[0.7777777777777778,\"#fb9f3a\"],[0.8888888888888888,\"#fdca26\"],[1.0,\"#f0f921\"]],\"diverging\":[[0,\"#8e0152\"],[0.1,\"#c51b7d\"],[0.2,\"#de77ae\"],[0.3,\"#f1b6da\"],[0.4,\"#fde0ef\"],[0.5,\"#f7f7f7\"],[0.6,\"#e6f5d0\"],[0.7,\"#b8e186\"],[0.8,\"#7fbc41\"],[0.9,\"#4d9221\"],[1,\"#276419\"]]},\"xaxis\":{\"gridcolor\":\"white\",\"linecolor\":\"white\",\"ticks\":\"\",\"title\":{\"standoff\":15},\"zerolinecolor\":\"white\",\"automargin\":true,\"zerolinewidth\":2},\"yaxis\":{\"gridcolor\":\"white\",\"linecolor\":\"white\",\"ticks\":\"\",\"title\":{\"standoff\":15},\"zerolinecolor\":\"white\",\"automargin\":true,\"zerolinewidth\":2},\"scene\":{\"xaxis\":{\"backgroundcolor\":\"#E5ECF6\",\"gridcolor\":\"white\",\"linecolor\":\"white\",\"showbackground\":true,\"ticks\":\"\",\"zerolinecolor\":\"white\",\"gridwidth\":2},\"yaxis\":{\"backgroundcolor\":\"#E5ECF6\",\"gridcolor\":\"white\",\"linecolor\":\"white\",\"showbackground\":true,\"ticks\":\"\",\"zerolinecolor\":\"white\",\"gridwidth\":2},\"zaxis\":{\"backgroundcolor\":\"#E5ECF6\",\"gridcolor\":\"white\",\"linecolor\":\"white\",\"showbackground\":true,\"ticks\":\"\",\"zerolinecolor\":\"white\",\"gridwidth\":2}},\"shapedefaults\":{\"line\":{\"color\":\"#2a3f5f\"}},\"annotationdefaults\":{\"arrowcolor\":\"#2a3f5f\",\"arrowhead\":0,\"arrowwidth\":1},\"geo\":{\"bgcolor\":\"white\",\"landcolor\":\"#E5ECF6\",\"subunitcolor\":\"white\",\"showland\":true,\"showlakes\":true,\"lakecolor\":\"white\"},\"title\":{\"x\":0.05},\"mapbox\":{\"style\":\"light\"}}},\"xaxis\":{\"anchor\":\"y\",\"domain\":[0.0,1.0],\"title\":{\"text\":\"population\"}},\"yaxis\":{\"anchor\":\"x\",\"domain\":[0.0,1.0],\"title\":{\"text\":\"households\"}},\"legend\":{\"tracegroupgap\":0},\"margin\":{\"t\":60},\"title\":{\"text\":\"Scatter Plot of Population and Households\"}},                        {\"responsive\": true}                    ).then(function(){\n",
              "                            \n",
              "var gd = document.getElementById('efa860c8-1d2e-42ed-a945-80550d3e6fb0');\n",
              "var x = new MutationObserver(function (mutations, observer) {{\n",
              "        var display = window.getComputedStyle(gd).display;\n",
              "        if (!display || display === 'none') {{\n",
              "            console.log([gd, 'removed!']);\n",
              "            Plotly.purge(gd);\n",
              "            observer.disconnect();\n",
              "        }}\n",
              "}});\n",
              "\n",
              "// Listen for the removal of the full notebook cells\n",
              "var notebookContainer = gd.closest('#notebook-container');\n",
              "if (notebookContainer) {{\n",
              "    x.observe(notebookContainer, {childList: true});\n",
              "}}\n",
              "\n",
              "// Listen for the clearing of the current output cell\n",
              "var outputEl = gd.closest('.output');\n",
              "if (outputEl) {{\n",
              "    x.observe(outputEl, {childList: true});\n",
              "}}\n",
              "\n",
              "                        })                };                            </script>        </div>\n",
              "</body>\n",
              "</html>"
            ]
          },
          "metadata": {}
        }
      ]
    },
    {
      "cell_type": "markdown",
      "source": [
        "Population and households are clearly correlated in this scatter plot. This means that these variables are representing a similar concept like density."
      ],
      "metadata": {
        "id": "VTl-3Cm2Wfj4"
      }
    },
    {
      "cell_type": "code",
      "source": [
        "fig = df.plot.scatter(x='median_house_value', y='median_income')\n",
        "fig.update_layout(\n",
        "    title=\"Scatter Plot of Median House Value and Median Income\"\n",
        ")\n",
        "\n",
        "fig.show()"
      ],
      "metadata": {
        "colab": {
          "base_uri": "https://localhost:8080/",
          "height": 542
        },
        "id": "7pKstggMPbwy",
        "outputId": "1a5d84c3-1259-4b7b-e90c-fb3ff53177c1"
      },
      "execution_count": null,
      "outputs": [
        {
          "output_type": "display_data",
          "data": {
            "text/html": [
              "<html>\n",
              "<head><meta charset=\"utf-8\" /></head>\n",
              "<body>\n",
              "    <div>            <script src=\"https://cdnjs.cloudflare.com/ajax/libs/mathjax/2.7.5/MathJax.js?config=TeX-AMS-MML_SVG\"></script><script type=\"text/javascript\">if (window.MathJax && window.MathJax.Hub && window.MathJax.Hub.Config) {window.MathJax.Hub.Config({SVG: {font: \"STIX-Web\"}});}</script>                <script type=\"text/javascript\">window.PlotlyConfig = {MathJaxConfig: 'local'};</script>\n",
              "        <script charset=\"utf-8\" src=\"https://cdn.plot.ly/plotly-2.35.2.min.js\"></script>                <div id=\"c590a80a-5a56-40c4-9351-21b4687436d4\" class=\"plotly-graph-div\" style=\"height:525px; width:100%;\"></div>            <script type=\"text/javascript\">                                    window.PLOTLYENV=window.PLOTLYENV || {};                                    if (document.getElementById(\"c590a80a-5a56-40c4-9351-21b4687436d4\")) {                    Plotly.newPlot(                        \"c590a80a-5a56-40c4-9351-21b4687436d4\",                        [{\"hovertemplate\":\"median_house_value=%{x}\\u003cbr\\u003emedian_income=%{y}\\u003cextra\\u003e\\u003c\\u002fextra\\u003e\",\"legendgroup\":\"\",\"marker\":{\"color\":\"#636efa\",\"symbol\":\"circle\"},\"mode\":\"markers\",\"name\":\"\",\"orientation\":\"v\",\"showlegend\":false,\"x\":[452600.0,358500.0,352100.0,341300.0,342200.0,269700.0,299200.0,241400.0,226700.0,261100.0,281500.0,241800.0,213500.0,191300.0,159200.0,140000.0,152500.0,155500.0,158700.0,162900.0,147500.0,159800.0,113900.0,99700.0,132600.0,107500.0,93800.0,105500.0,108900.0,132000.0,122300.0,115200.0,110400.0,104900.0,109700.0,97200.0,104500.0,103900.0,191400.0,176000.0,155400.0,150000.0,118800.0,188800.0,184400.0,182300.0,142500.0,137500.0,187500.0,112500.0,171900.0,93800.0,97500.0,104200.0,87500.0,83100.0,87500.0,85300.0,80300.0,60000.0,75700.0,75000.0,86100.0,76100.0,73500.0,78400.0,84400.0,81300.0,85000.0,129200.0,82500.0,95200.0,75000.0,67500.0,137500.0,177500.0,102100.0,108300.0,112500.0,131300.0,162500.0,112500.0,112500.0,137500.0,118800.0,98200.0,118800.0,162500.0,137500.0,500001.0,162500.0,137500.0,162500.0,187500.0,179200.0,130000.0,183800.0,125000.0,170000.0,193100.0,257800.0,273400.0,237500.0,350000.0,335700.0,313400.0,268500.0,259400.0,275700.0,225000.0,262500.0,218500.0,255000.0,224100.0,243100.0,231600.0,218500.0,234100.0,327600.0,347600.0,366100.0,335000.0,373600.0,389500.0,391100.0,337300.0,295200.0,292300.0,411500.0,311500.0,325900.0,392600.0,319300.0,333300.0,335200.0,351200.0,368900.0,365900.0,366700.0,362800.0,483300.0,331400.0,323500.0,216700.0,233100.0,296400.0,273700.0,227700.0,199600.0,239800.0,270100.0,302100.0,269500.0,314700.0,390100.0,410300.0,352400.0,287300.0,348700.0,243800.0,211500.0,218400.0,269900.0,218800.0,225000.0,250000.0,171400.0,193800.0,125000.0,97500.0,125000.0,138800.0,116700.0,151800.0,127000.0,128600.0,140600.0,182700.0,146900.0,122800.0,169300.0,126600.0,127900.0,123500.0,111900.0,112800.0,107900.0,137500.0,105500.0,95500.0,116100.0,112200.0,75000.0,112500.0,125000.0,115000.0,95000.0,96400.0,72000.0,71300.0,80800.0,128800.0,112500.0,119400.0,118100.0,122500.0,106300.0,132500.0,122700.0,113300.0,109500.0,164700.0,125000.0,124700.0,136700.0,141700.0,150000.0,138800.0,139200.0,143800.0,156500.0,151000.0,273000.0,217100.0,187100.0,239600.0,229700.0,257300.0,246900.0,179900.0,169600.0,203300.0,263400.0,231800.0,140500.0,126000.0,122000.0,134700.0,139400.0,115400.0,137300.0,137000.0,142600.0,137500.0,111700.0,126800.0,111300.0,114800.0,102300.0,131900.0,119100.0,80600.0,80600.0,88800.0,102400.0,98700.0,100000.0,92300.0,94800.0,102000.0,158400.0,121600.0,129100.0,121400.0,102800.0,160000.0,143900.0,151200.0,164400.0,156500.0,225000.0,174200.0,166900.0,163500.0,253000.0,240700.0,208100.0,198100.0,172800.0,336700.0,318200.0,285800.0,293000.0,371000.0,157300.0,135300.0,136700.0,160700.0,140600.0,144000.0,161900.0,156300.0,176000.0,145800.0,141900.0,90700.0,90600.0,107900.0,107000.0,98200.0,89500.0,93800.0,96700.0,97500.0,97300.0,91200.0,91400.0,96200.0,120100.0,100000.0,94700.0,85700.0,89300.0,101400.0,72500.0,74100.0,70000.0,84600.0,81800.0,81400.0,81800.0,85800.0,87100.0,83500.0,79700.0,83400.0,84700.0,80000.0,76400.0,79700.0,82400.0,97700.0,97200.0,101600.0,86500.0,90500.0,107600.0,84200.0,88900.0,80700.0,87100.0,85100.0,82000.0,82800.0,84600.0,82100.0,89300.0,98300.0,92300.0,88800.0,90000.0,95500.0,91700.0,100400.0,94800.0,164300.0,155500.0,196900.0,279100.0,252800.0,275400.0,250000.0,329800.0,195500.0,255900.0,311100.0,330000.0,248900.0,142900.0,126300.0,135800.0,130600.0,107900.0,111100.0,122000.0,118000.0,95200.0,94300.0,92500.0,91800.0,109400.0,129500.0,143400.0,98200.0,103100.0,276800.0,270900.0,246200.0,224200.0,229100.0,211600.0,256100.0,206300.0,221300.0,207400.0,350000.0,218200.0,216700.0,270600.0,261400.0,261300.0,232200.0,375400.0,357300.0,374400.0,358800.0,417500.0,430500.0,362900.0,397000.0,346800.0,327100.0,290100.0,292000.0,270900.0,371100.0,335600.0,371300.0,344000.0,342200.0,370900.0,350000.0,368600.0,391800.0,415300.0,284900.0,287500.0,272900.0,259600.0,254500.0,235600.0,218400.0,229200.0,192100.0,179300.0,187500.0,138800.0,150000.0,140600.0,120000.0,144800.0,144800.0,245500.0,200000.0,173700.0,185600.0,182600.0,227900.0,220700.0,212000.0,271400.0,268800.0,277800.0,332500.0,338900.0,287500.0,384600.0,371400.0,350000.0,500001.0,175000.0,241700.0,216700.0,211300.0,210200.0,196400.0,191700.0,182300.0,175000.0,165900.0,156900.0,164300.0,150000.0,150500.0,169900.0,147400.0,152700.0,182700.0,179300.0,157700.0,153100.0,250000.0,206300.0,218800.0,198200.0,253600.0,257400.0,289500.0,241700.0,489600.0,446200.0,456300.0,336800.0,500001.0,500001.0,376900.0,309600.0,182300.0,172700.0,150800.0,153600.0,106300.0,142300.0,119400.0,147900.0,132900.0,132500.0,126900.0,143800.0,500001.0,500001.0,500001.0,500001.0,466100.0,500001.0,457800.0,471600.0,500001.0,398600.0,340700.0,289900.0,335300.0,333000.0,241000.0,189600.0,206300.0,215700.0,210200.0,208800.0,197900.0,201300.0,190800.0,207900.0,215300.0,212900.0,292700.0,275000.0,200000.0,173400.0,102200.0,220800.0,242800.0,265400.0,219000.0,282100.0,372000.0,225800.0,220800.0,234500.0,254200.0,351800.0,275000.0,405400.0,228100.0,234000.0,162500.0,243400.0,273800.0,248500.0,244000.0,240900.0,306300.0,240000.0,247100.0,286600.0,266700.0,229800.0,229300.0,228400.0,206200.0,350700.0,231000.0,252900.0,353900.0,291700.0,100000.0,341600.0,412500.0,248600.0,254900.0,241500.0,295200.0,340400.0,274700.0,238600.0,266400.0,330200.0,206800.0,209200.0,195800.0,253500.0,241800.0,252500.0,263900.0,227000.0,220900.0,259300.0,232500.0,231600.0,209400.0,223200.0,209900.0,208200.0,203800.0,195700.0,190500.0,181000.0,184900.0,190800.0,242200.0,188300.0,183500.0,204200.0,251900.0,187500.0,198200.0,219000.0,275000.0,245400.0,177500.0,171600.0,183300.0,175000.0,156700.0,157500.0,179800.0,205500.0,178900.0,262500.0,165000.0,159700.0,158300.0,144800.0,166300.0,191000.0,175000.0,137500.0,141700.0,210900.0,198300.0,157400.0,264700.0,218400.0,235100.0,341800.0,367300.0,243500.0,167900.0,371200.0,218900.0,202700.0,186200.0,188900.0,180000.0,202700.0,181700.0,166800.0,183700.0,218000.0,191500.0,194700.0,187200.0,223100.0,271300.0,194100.0,190400.0,189100.0,184600.0,197300.0,192600.0,192200.0,194600.0,193500.0,202600.0,83300.0,212600.0,187800.0,205700.0,192900.0,205200.0,213400.0,183600.0,178400.0,219200.0,183100.0,157100.0,157800.0,161700.0,152100.0,144900.0,179900.0,179100.0,159900.0,161400.0,170400.0,137500.0,178400.0,155200.0,160900.0,167300.0,340000.0,431000.0,301100.0,241900.0,162500.0,299200.0,315500.0,216800.0,218100.0,170300.0,275000.0,184100.0,160000.0,175000.0,197500.0,150000.0,205600.0,170300.0,190900.0,196900.0,174000.0,170200.0,180900.0,150500.0,167100.0,148900.0,196400.0,191100.0,187500.0,180600.0,182800.0,179300.0,179400.0,210300.0,192300.0,198100.0,196200.0,181600.0,186900.0,188300.0,184000.0,184700.0,179900.0,167200.0,165400.0,154000.0,153500.0,135400.0,158300.0,240700.0,180700.0,230600.0,210800.0,165300.0,254200.0,332600.0,350000.0,161200.0,179300.0,154300.0,161800.0,161900.0,165400.0,166600.0,149700.0,162100.0,152600.0,195200.0,190600.0,193800.0,200600.0,150000.0,185300.0,172700.0,174100.0,194400.0,206700.0,204500.0,175000.0,137500.0,187200.0,173600.0,163000.0,331600.0,197600.0,197900.0,228100.0,189500.0,184200.0,180900.0,172000.0,177900.0,173100.0,172600.0,182100.0,179500.0,176000.0,192600.0,182700.0,134900.0,157600.0,190900.0,158200.0,350000.0,158200.0,146100.0,226700.0,198700.0,221200.0,208500.0,204200.0,193200.0,209500.0,164900.0,161400.0,187000.0,190400.0,156600.0,157300.0,168100.0,177600.0,208900.0,169200.0,163900.0,164700.0,156900.0,168800.0,174100.0,206500.0,203900.0,217000.0,159600.0,159800.0,154300.0,149600.0,188600.0,238500.0,235300.0,261400.0,234400.0,231700.0,156300.0,222000.0,254400.0,244300.0,247000.0,236500.0,151400.0,213700.0,243600.0,212500.0,214700.0,213200.0,256000.0,237500.0,178100.0,231800.0,147900.0,191700.0,247600.0,283500.0,216900.0,282500.0,295600.0,281800.0,269800.0,231200.0,318300.0,253400.0,278200.0,300000.0,273500.0,223400.0,214500.0,220200.0,240300.0,158000.0,224200.0,177200.0,216100.0,269700.0,231200.0,162500.0,254000.0,196200.0,189400.0,220800.0,213800.0,442900.0,333400.0,352400.0,305300.0,259600.0,248900.0,356000.0,236000.0,218800.0,228000.0,235900.0,203200.0,197000.0,236400.0,223200.0,222700.0,225000.0,240100.0,227900.0,268600.0,275100.0,256300.0,332400.0,287600.0,298900.0,287600.0,222200.0,232600.0,258300.0,230900.0,196900.0,223500.0,223900.0,243500.0,451100.0,500001.0,193100.0,264400.0,246900.0,337300.0,284800.0,217300.0,291700.0,223800.0,223100.0,211300.0,218500.0,156300.0,248200.0,186000.0,178200.0,190400.0,210300.0,208000.0,183300.0,245700.0,242200.0,181700.0,299400.0,219500.0,231800.0,221300.0,213800.0,206000.0,271100.0,336500.0,315600.0,500001.0,285400.0,323000.0,291900.0,225600.0,259600.0,262900.0,257300.0,259200.0,339700.0,337200.0,334100.0,311500.0,296900.0,247900.0,300400.0,332400.0,389800.0,233000.0,238500.0,233300.0,231300.0,475800.0,393200.0,247200.0,229400.0,282500.0,300600.0,293200.0,278500.0,352900.0,400000.0,375000.0,313700.0,139300.0,327500.0,430600.0,125000.0,450000.0,200200.0,192400.0,418800.0,216800.0,215500.0,227700.0],\"xaxis\":\"x\",\"y\":[8.3252,8.3014,7.2574,5.6431,3.8462,4.0368,3.6591,3.12,2.0804,3.6912,3.2031,3.2705,3.075,2.6736,1.9167,2.125,2.775,2.1202,1.9911,2.6033,1.3578,1.7135,1.725,2.1806,2.6,2.4038,2.4597,1.808,1.6424,1.6875,1.9274,1.9615,1.7969,1.375,2.7303,1.4861,1.0972,1.4103,3.48,2.5898,2.0978,1.2852,1.025,3.9643,3.0125,2.6768,2.026,1.7348,0.9506,1.775,0.9218,1.5045,1.1108,1.2475,1.6098,1.4113,1.5057,0.8172,1.2171,2.5625,3.3929,6.1183,0.9011,1.191,2.5938,1.1667,0.8056,2.6094,1.8516,0.9802,1.7719,0.7286,1.75,0.4999,2.483,0.9241,2.4464,1.1111,0.8026,2.0114,1.5,1.1667,1.5208,0.8075,1.8088,2.4083,0.977,0.76,0.9722,1.2434,2.0938,0.8668,0.75,2.6354,1.8477,2.0096,2.8345,2.0062,1.2185,2.6104,2.4912,3.2177,3.125,2.5795,2.8406,4.9306,3.2727,3.1691,3.9,3.9063,5.0917,2.6429,3.0233,3.1484,3.4722,3.1429,2.4234,3.0897,5.8596,5.2868,5.956,4.9643,6.3434,5.1773,7.2354,5.457,7.5,6.0194,7.5544,6.0666,7.0548,11.6017,7.4882,6.8976,8.2049,8.401,6.8538,8.317,7.0175,6.3302,6.3624,7.0549,6.7851,2.8929,3.0812,5.2402,6.5217,3.2632,3.0298,4.5428,4.072,5.3509,3.1603,4.7708,8.1564,8.8793,6.8591,6.0302,7.508,2.7477,2.1944,3.0149,3.675,3.225,2.9345,2.1429,1.6121,1.3929,2.3173,1.7772,2.6458,2.181,2.2303,1.6504,2.2697,2.1563,2.1348,2.6292,2.3833,2.957,2.5238,1.9375,1.9028,2.25,2.3929,2.1917,2.9357,1.8854,2.1638,2.125,3.375,2.2542,2.1,1.6,3.625,1.6929,1.6471,2.59,2.57,2.6429,3.0257,1.4886,1.9338,1.4844,1.6009,2.0375,2.293,2.1494,1.6198,1.3281,3.5156,3.9048,3.0893,2.6042,2.5,2.7969,2.8321,2.9583,2.8365,2.875,3.0682,3.0757,4.9559,4.7721,3.4861,5.1184,4.0977,4.744,4.2727,2.9844,4.1739,3.8487,4.0114,4.6563,2.9297,2.3036,2.6667,2.619,2.4167,2.7788,2.7352,1.8472,2.6583,3.0536,2.3906,1.7188,2.625,2.8015,1.7276,2.0801,2.489,1.7546,4.0904,2.6765,2.4338,2.3309,2.2604,1.8039,2.2562,2.0562,3.5398,3.1167,2.5401,2.898,2.3125,2.875,3.3715,3.5114,4.3125,3.22,3.875,5.2328,3.7262,4.5893,5.2578,7.0875,3.9712,2.9514,2.6667,5.4446,6.2838,6.7527,7.0712,5.9849,3.6875,2.875,3.4205,3.2984,3.875,4.175,4.375,4.7708,3.5739,3.0958,3.3958,1.871,1.9356,2.1842,2.2917,2.4333,1.9479,3.9063,1.8407,2.0786,2.8125,1.8913,1.7056,2.2768,3.2552,2.0556,2.4659,1.75,2.0469,2.7159,1.2083,1.925,1.5809,1.4097,0.7683,1.3194,0.8012,1.9479,1.1765,2.3456,2.1538,2.5139,1.2625,2.9063,2.5192,2.1111,2.455,2.4028,2.15,2.4776,2.1587,1.8438,3.0298,2.25,2.2467,4.0469,1.325,1.6196,2.1731,1.9167,2.069,1.712,2.5625,1.9821,2.5043,2.3281,1.4375,2.5122,1.5625,3.1587,1.8426,4.6696,2.4598,6.0749,4.8304,5.5701,5.37,6.86,7.6923,4.0313,6.8323,4.975,5.3602,5.0,2.925,3.8913,3.225,3.1458,2.537,2.5568,3.5083,3.3125,1.8235,3.8047,2.2917,2.4962,4.0417,3.4844,4.1458,2.625,2.0227,3.3333,5.338,3.4732,3.5125,3.1375,2.8036,4.5824,3.0208,4.0875,4.5268,1.7375,3.1795,3.8672,5.1675,5.1696,4.2614,5.0551,5.6228,7.8864,7.9556,6.174,6.9414,8.8342,7.1754,10.0825,4.9083,5.7912,4.5893,5.4171,4.125,7.266,5.3989,7.8336,6.1593,6.381,6.6828,7.5385,6.7138,6.2425,5.7979,4.2813,3.5417,3.0132,4.1429,4.1912,3.9167,3.8897,3.1065,2.9926,3.556,1.475,1.6971,2.1705,2.75,2.5682,2.9,2.2208,3.2344,3.5156,1.9805,2.6684,3.875,3.006,2.543,2.8676,2.1907,1.7778,2.52,4.2788,2.944,1.725,5.2289,2.5562,0.949,1.1696,1.4012,1.1859,1.7464,2.8846,2.7372,3.8594,3.5625,2.2788,2.537,2.525,1.9946,2.8214,2.6165,1.9483,1.9327,1.9798,2.4167,2.5417,3.3906,2.5652,2.2845,2.6071,3.15,2.6914,1.8447,1.6307,2.9044,2.9405,3.3893,3.0417,7.0897,5.0463,1.7652,7.8521,9.3959,5.3794,3.2619,2.7054,2.2431,1.9028,1.5817,2.2841,1.3785,2.9018,1.73,2.2625,2.2106,2.6997,4.0018,7.8772,11.8603,13.499,12.2138,8.1872,12.3804,5.8948,8.1194,8.7477,6.155,5.883,5.2128,4.7188,5.2915,2.6411,3.3214,3.6417,3.0161,3.1771,3.4531,4.3098,3.3438,2.9213,2.6806,3.7708,3.9444,5.2601,2.5444,2.6447,2.5762,1.9427,2.9688,3.75,5.1702,2.5139,2.9732,5.5337,4.1667,2.7115,3.3269,3.2685,4.7778,4.226,3.3571,2.9899,2.875,2.3882,2.975,5.1039,4.1458,3.4762,2.6833,5.75,3.9632,4.9489,4.8711,3.0718,3.6719,4.6094,4.5213,4.4562,7.611,3.2689,3.567,3.6875,4.7695,3.1972,7.2634,7.0568,4.635,5.3015,4.9801,5.4834,6.187,5.6194,5.4639,5.1498,5.8382,4.65,4.3819,3.7222,5.2855,4.3375,5.2131,6.005,5.0519,4.8237,5.2497,4.125,4.6005,3.5187,3.0,3.4934,2.9861,2.5362,3.3021,3.0964,2.8512,3.3478,2.3958,3.5295,4.8036,3.851,4.0662,4.6042,2.2,4.1164,3.95,4.9135,2.8355,3.25,2.8301,3.7159,2.5625,3.8047,3.375,3.244,4.0268,3.3906,5.5461,3.371,3.5313,3.663,2.875,4.0202,4.5553,3.4643,3.3431,2.1898,2.9097,3.375,2.8125,5.0,3.0673,3.8125,6.9096,7.912,3.8393,4.0,6.5095,3.5156,2.983,3.524,3.1103,3.5781,3.1682,2.6101,3.6932,3.4583,3.9032,4.0208,3.5547,4.5859,2.6321,3.395,3.9702,5.0043,4.4659,3.6625,3.8864,3.4583,3.7813,2.9917,4.4375,4.0,2.3869,4.7609,5.4858,4.3971,4.0109,4.3864,4.2841,5.1312,2.9958,3.6364,2.7955,2.9507,3.4375,2.875,3.0345,2.679,2.9922,4.1042,2.5833,2.1552,2.3274,2.4206,3.9063,2.6464,3.4643,2.3973,6.5,6.0574,3.8958,4.7813,3.2829,5.3169,6.2579,5.1701,3.25,3.1796,2.4196,2.6563,0.9637,2.3357,3.5114,3.3125,2.4042,2.8322,2.5156,3.4032,2.535,2.5772,3.0962,2.9564,3.125,2.95,4.38,4.0417,3.8,3.4839,4.0588,4.1974,3.6,4.267,4.2386,5.5797,4.0682,3.1734,4.7933,4.8125,3.8676,3.9395,3.2434,3.0917,3.0645,2.7019,3.1115,3.4722,2.2222,6.1104,4.2733,3.2465,3.2417,3.875,6.0501,6.8233,6.3501,2.6719,3.875,2.5625,3.016,2.7694,3.6818,2.1382,3.7303,3.875,3.0489,2.8203,4.3897,4.7143,4.6875,3.2091,4.275,4.1302,3.09,4.5417,4.6635,4.4427,4.5303,2.375,3.8171,4.5281,4.3456,3.4861,5.2312,3.6708,3.8875,3.9167,3.9063,3.7895,3.8,5.7309,4.1141,5.2838,3.3479,3.142,3.7614,4.25,3.9338,2.5158,2.4808,4.7083,4.1652,3.5541,3.8036,3.8259,3.2331,4.7109,4.2468,6.396,3.8125,3.2857,3.8929,3.7262,4.0125,4.1719,4.2857,3.6458,2.6875,3.7292,4.5913,3.8625,3.3611,2.8971,4.0326,4.0682,5.3644,4.7019,5.64,3.7931,4.6458,3.694,2.652,3.5,3.2386,5.097,4.3875,4.625,5.0406,5.8704,5.3226,4.235,4.825,5.5218,6.5116,6.0661,6.0074,4.6211,5.225,5.3428,3.7462,4.5721,3.6923,4.6786,2.875,3.3617,5.7579,2.9706,3.9022,4.6146,5.7192,3.6832,6.2073,5.8151,5.8322,5.6277,5.2879,6.5615,5.6758,6.1047,3.5714,6.0824,4.3594,5.5737,4.8962,4.6978,4.4259,3.3008,4.5687,3.8179,5.0,4.3393,4.1387,4.8052,4.6349,3.168,3.1326,2.9074,8.3996,6.6478,6.629,6.2179,5.761,4.6641,6.7599,3.9909,4.2955,4.9615,2.6198,4.7135,4.75,5.4299,4.6,4.1947,5.388,3.9444,5.3283,4.8403,5.1616,4.9167,4.1591,5.0,5.8325,5.7057,5.0423,4.5317,5.4359,5.0824,5.2308,4.4107,5.2396,4.7478,8.4045,9.7194,5.1643,5.3813,6.0878,6.868,6.992,4.9118,4.4357,4.9464,5.2882,5.1321,3.9667,3.1696,5.0838,4.8214,4.1406,3.7364,3.535,5.0739,3.256,6.0667,5.7072,4.9867,5.1437,5.347,5.7233,4.4697,4.9107,4.2281,5.0143,7.2494,5.1406,8.3337,7.316,6.4994,7.2211,4.4087,5.9345,6.177,5.817,6.3132,6.3373,7.333,6.2918,6.5214,6.4524,6.0604,6.5285,7.2639,7.4353,3.1127,2.4896,5.0677,2.1187,10.9506,7.0691,5.5,4.9879,6.8132,5.6399,4.1597,5.7519,5.6417,10.3203,4.3472,6.6827,3.62,7.3588,5.7239,4.2083,6.1023,3.9864,4.8624,9.1531,4.7361,5.4324,4.9375],\"yaxis\":\"y\",\"type\":\"scatter\"}],                        {\"template\":{\"data\":{\"histogram2dcontour\":[{\"type\":\"histogram2dcontour\",\"colorbar\":{\"outlinewidth\":0,\"ticks\":\"\"},\"colorscale\":[[0.0,\"#0d0887\"],[0.1111111111111111,\"#46039f\"],[0.2222222222222222,\"#7201a8\"],[0.3333333333333333,\"#9c179e\"],[0.4444444444444444,\"#bd3786\"],[0.5555555555555556,\"#d8576b\"],[0.6666666666666666,\"#ed7953\"],[0.7777777777777778,\"#fb9f3a\"],[0.8888888888888888,\"#fdca26\"],[1.0,\"#f0f921\"]]}],\"choropleth\":[{\"type\":\"choropleth\",\"colorbar\":{\"outlinewidth\":0,\"ticks\":\"\"}}],\"histogram2d\":[{\"type\":\"histogram2d\",\"colorbar\":{\"outlinewidth\":0,\"ticks\":\"\"},\"colorscale\":[[0.0,\"#0d0887\"],[0.1111111111111111,\"#46039f\"],[0.2222222222222222,\"#7201a8\"],[0.3333333333333333,\"#9c179e\"],[0.4444444444444444,\"#bd3786\"],[0.5555555555555556,\"#d8576b\"],[0.6666666666666666,\"#ed7953\"],[0.7777777777777778,\"#fb9f3a\"],[0.8888888888888888,\"#fdca26\"],[1.0,\"#f0f921\"]]}],\"heatmap\":[{\"type\":\"heatmap\",\"colorbar\":{\"outlinewidth\":0,\"ticks\":\"\"},\"colorscale\":[[0.0,\"#0d0887\"],[0.1111111111111111,\"#46039f\"],[0.2222222222222222,\"#7201a8\"],[0.3333333333333333,\"#9c179e\"],[0.4444444444444444,\"#bd3786\"],[0.5555555555555556,\"#d8576b\"],[0.6666666666666666,\"#ed7953\"],[0.7777777777777778,\"#fb9f3a\"],[0.8888888888888888,\"#fdca26\"],[1.0,\"#f0f921\"]]}],\"heatmapgl\":[{\"type\":\"heatmapgl\",\"colorbar\":{\"outlinewidth\":0,\"ticks\":\"\"},\"colorscale\":[[0.0,\"#0d0887\"],[0.1111111111111111,\"#46039f\"],[0.2222222222222222,\"#7201a8\"],[0.3333333333333333,\"#9c179e\"],[0.4444444444444444,\"#bd3786\"],[0.5555555555555556,\"#d8576b\"],[0.6666666666666666,\"#ed7953\"],[0.7777777777777778,\"#fb9f3a\"],[0.8888888888888888,\"#fdca26\"],[1.0,\"#f0f921\"]]}],\"contourcarpet\":[{\"type\":\"contourcarpet\",\"colorbar\":{\"outlinewidth\":0,\"ticks\":\"\"}}],\"contour\":[{\"type\":\"contour\",\"colorbar\":{\"outlinewidth\":0,\"ticks\":\"\"},\"colorscale\":[[0.0,\"#0d0887\"],[0.1111111111111111,\"#46039f\"],[0.2222222222222222,\"#7201a8\"],[0.3333333333333333,\"#9c179e\"],[0.4444444444444444,\"#bd3786\"],[0.5555555555555556,\"#d8576b\"],[0.6666666666666666,\"#ed7953\"],[0.7777777777777778,\"#fb9f3a\"],[0.8888888888888888,\"#fdca26\"],[1.0,\"#f0f921\"]]}],\"surface\":[{\"type\":\"surface\",\"colorbar\":{\"outlinewidth\":0,\"ticks\":\"\"},\"colorscale\":[[0.0,\"#0d0887\"],[0.1111111111111111,\"#46039f\"],[0.2222222222222222,\"#7201a8\"],[0.3333333333333333,\"#9c179e\"],[0.4444444444444444,\"#bd3786\"],[0.5555555555555556,\"#d8576b\"],[0.6666666666666666,\"#ed7953\"],[0.7777777777777778,\"#fb9f3a\"],[0.8888888888888888,\"#fdca26\"],[1.0,\"#f0f921\"]]}],\"mesh3d\":[{\"type\":\"mesh3d\",\"colorbar\":{\"outlinewidth\":0,\"ticks\":\"\"}}],\"scatter\":[{\"fillpattern\":{\"fillmode\":\"overlay\",\"size\":10,\"solidity\":0.2},\"type\":\"scatter\"}],\"parcoords\":[{\"type\":\"parcoords\",\"line\":{\"colorbar\":{\"outlinewidth\":0,\"ticks\":\"\"}}}],\"scatterpolargl\":[{\"type\":\"scatterpolargl\",\"marker\":{\"colorbar\":{\"outlinewidth\":0,\"ticks\":\"\"}}}],\"bar\":[{\"error_x\":{\"color\":\"#2a3f5f\"},\"error_y\":{\"color\":\"#2a3f5f\"},\"marker\":{\"line\":{\"color\":\"#E5ECF6\",\"width\":0.5},\"pattern\":{\"fillmode\":\"overlay\",\"size\":10,\"solidity\":0.2}},\"type\":\"bar\"}],\"scattergeo\":[{\"type\":\"scattergeo\",\"marker\":{\"colorbar\":{\"outlinewidth\":0,\"ticks\":\"\"}}}],\"scatterpolar\":[{\"type\":\"scatterpolar\",\"marker\":{\"colorbar\":{\"outlinewidth\":0,\"ticks\":\"\"}}}],\"histogram\":[{\"marker\":{\"pattern\":{\"fillmode\":\"overlay\",\"size\":10,\"solidity\":0.2}},\"type\":\"histogram\"}],\"scattergl\":[{\"type\":\"scattergl\",\"marker\":{\"colorbar\":{\"outlinewidth\":0,\"ticks\":\"\"}}}],\"scatter3d\":[{\"type\":\"scatter3d\",\"line\":{\"colorbar\":{\"outlinewidth\":0,\"ticks\":\"\"}},\"marker\":{\"colorbar\":{\"outlinewidth\":0,\"ticks\":\"\"}}}],\"scattermapbox\":[{\"type\":\"scattermapbox\",\"marker\":{\"colorbar\":{\"outlinewidth\":0,\"ticks\":\"\"}}}],\"scatterternary\":[{\"type\":\"scatterternary\",\"marker\":{\"colorbar\":{\"outlinewidth\":0,\"ticks\":\"\"}}}],\"scattercarpet\":[{\"type\":\"scattercarpet\",\"marker\":{\"colorbar\":{\"outlinewidth\":0,\"ticks\":\"\"}}}],\"carpet\":[{\"aaxis\":{\"endlinecolor\":\"#2a3f5f\",\"gridcolor\":\"white\",\"linecolor\":\"white\",\"minorgridcolor\":\"white\",\"startlinecolor\":\"#2a3f5f\"},\"baxis\":{\"endlinecolor\":\"#2a3f5f\",\"gridcolor\":\"white\",\"linecolor\":\"white\",\"minorgridcolor\":\"white\",\"startlinecolor\":\"#2a3f5f\"},\"type\":\"carpet\"}],\"table\":[{\"cells\":{\"fill\":{\"color\":\"#EBF0F8\"},\"line\":{\"color\":\"white\"}},\"header\":{\"fill\":{\"color\":\"#C8D4E3\"},\"line\":{\"color\":\"white\"}},\"type\":\"table\"}],\"barpolar\":[{\"marker\":{\"line\":{\"color\":\"#E5ECF6\",\"width\":0.5},\"pattern\":{\"fillmode\":\"overlay\",\"size\":10,\"solidity\":0.2}},\"type\":\"barpolar\"}],\"pie\":[{\"automargin\":true,\"type\":\"pie\"}]},\"layout\":{\"autotypenumbers\":\"strict\",\"colorway\":[\"#636efa\",\"#EF553B\",\"#00cc96\",\"#ab63fa\",\"#FFA15A\",\"#19d3f3\",\"#FF6692\",\"#B6E880\",\"#FF97FF\",\"#FECB52\"],\"font\":{\"color\":\"#2a3f5f\"},\"hovermode\":\"closest\",\"hoverlabel\":{\"align\":\"left\"},\"paper_bgcolor\":\"white\",\"plot_bgcolor\":\"#E5ECF6\",\"polar\":{\"bgcolor\":\"#E5ECF6\",\"angularaxis\":{\"gridcolor\":\"white\",\"linecolor\":\"white\",\"ticks\":\"\"},\"radialaxis\":{\"gridcolor\":\"white\",\"linecolor\":\"white\",\"ticks\":\"\"}},\"ternary\":{\"bgcolor\":\"#E5ECF6\",\"aaxis\":{\"gridcolor\":\"white\",\"linecolor\":\"white\",\"ticks\":\"\"},\"baxis\":{\"gridcolor\":\"white\",\"linecolor\":\"white\",\"ticks\":\"\"},\"caxis\":{\"gridcolor\":\"white\",\"linecolor\":\"white\",\"ticks\":\"\"}},\"coloraxis\":{\"colorbar\":{\"outlinewidth\":0,\"ticks\":\"\"}},\"colorscale\":{\"sequential\":[[0.0,\"#0d0887\"],[0.1111111111111111,\"#46039f\"],[0.2222222222222222,\"#7201a8\"],[0.3333333333333333,\"#9c179e\"],[0.4444444444444444,\"#bd3786\"],[0.5555555555555556,\"#d8576b\"],[0.6666666666666666,\"#ed7953\"],[0.7777777777777778,\"#fb9f3a\"],[0.8888888888888888,\"#fdca26\"],[1.0,\"#f0f921\"]],\"sequentialminus\":[[0.0,\"#0d0887\"],[0.1111111111111111,\"#46039f\"],[0.2222222222222222,\"#7201a8\"],[0.3333333333333333,\"#9c179e\"],[0.4444444444444444,\"#bd3786\"],[0.5555555555555556,\"#d8576b\"],[0.6666666666666666,\"#ed7953\"],[0.7777777777777778,\"#fb9f3a\"],[0.8888888888888888,\"#fdca26\"],[1.0,\"#f0f921\"]],\"diverging\":[[0,\"#8e0152\"],[0.1,\"#c51b7d\"],[0.2,\"#de77ae\"],[0.3,\"#f1b6da\"],[0.4,\"#fde0ef\"],[0.5,\"#f7f7f7\"],[0.6,\"#e6f5d0\"],[0.7,\"#b8e186\"],[0.8,\"#7fbc41\"],[0.9,\"#4d9221\"],[1,\"#276419\"]]},\"xaxis\":{\"gridcolor\":\"white\",\"linecolor\":\"white\",\"ticks\":\"\",\"title\":{\"standoff\":15},\"zerolinecolor\":\"white\",\"automargin\":true,\"zerolinewidth\":2},\"yaxis\":{\"gridcolor\":\"white\",\"linecolor\":\"white\",\"ticks\":\"\",\"title\":{\"standoff\":15},\"zerolinecolor\":\"white\",\"automargin\":true,\"zerolinewidth\":2},\"scene\":{\"xaxis\":{\"backgroundcolor\":\"#E5ECF6\",\"gridcolor\":\"white\",\"linecolor\":\"white\",\"showbackground\":true,\"ticks\":\"\",\"zerolinecolor\":\"white\",\"gridwidth\":2},\"yaxis\":{\"backgroundcolor\":\"#E5ECF6\",\"gridcolor\":\"white\",\"linecolor\":\"white\",\"showbackground\":true,\"ticks\":\"\",\"zerolinecolor\":\"white\",\"gridwidth\":2},\"zaxis\":{\"backgroundcolor\":\"#E5ECF6\",\"gridcolor\":\"white\",\"linecolor\":\"white\",\"showbackground\":true,\"ticks\":\"\",\"zerolinecolor\":\"white\",\"gridwidth\":2}},\"shapedefaults\":{\"line\":{\"color\":\"#2a3f5f\"}},\"annotationdefaults\":{\"arrowcolor\":\"#2a3f5f\",\"arrowhead\":0,\"arrowwidth\":1},\"geo\":{\"bgcolor\":\"white\",\"landcolor\":\"#E5ECF6\",\"subunitcolor\":\"white\",\"showland\":true,\"showlakes\":true,\"lakecolor\":\"white\"},\"title\":{\"x\":0.05},\"mapbox\":{\"style\":\"light\"}}},\"xaxis\":{\"anchor\":\"y\",\"domain\":[0.0,1.0],\"title\":{\"text\":\"median_house_value\"}},\"yaxis\":{\"anchor\":\"x\",\"domain\":[0.0,1.0],\"title\":{\"text\":\"median_income\"}},\"legend\":{\"tracegroupgap\":0},\"margin\":{\"t\":60},\"title\":{\"text\":\"Scatter Plot of Median House Value and Median Income\"}},                        {\"responsive\": true}                    ).then(function(){\n",
              "                            \n",
              "var gd = document.getElementById('c590a80a-5a56-40c4-9351-21b4687436d4');\n",
              "var x = new MutationObserver(function (mutations, observer) {{\n",
              "        var display = window.getComputedStyle(gd).display;\n",
              "        if (!display || display === 'none') {{\n",
              "            console.log([gd, 'removed!']);\n",
              "            Plotly.purge(gd);\n",
              "            observer.disconnect();\n",
              "        }}\n",
              "}});\n",
              "\n",
              "// Listen for the removal of the full notebook cells\n",
              "var notebookContainer = gd.closest('#notebook-container');\n",
              "if (notebookContainer) {{\n",
              "    x.observe(notebookContainer, {childList: true});\n",
              "}}\n",
              "\n",
              "// Listen for the clearing of the current output cell\n",
              "var outputEl = gd.closest('.output');\n",
              "if (outputEl) {{\n",
              "    x.observe(outputEl, {childList: true});\n",
              "}}\n",
              "\n",
              "                        })                };                            </script>        </div>\n",
              "</body>\n",
              "</html>"
            ]
          },
          "metadata": {}
        }
      ]
    },
    {
      "cell_type": "markdown",
      "source": [
        "There seems to be a less strong positive correlation between median income and median house value. However, both of these variables may be representing a concept like wealth."
      ],
      "metadata": {
        "id": "nmk430kYXNTy"
      }
    },
    {
      "cell_type": "code",
      "source": [
        "fig = df.plot.scatter(x='total_rooms', y='total_bedrooms')\n",
        "fig.update_layout(\n",
        "    title=\"Scatter Plot of Total Bedrooms and Total Rooms\"\n",
        ")\n",
        "\n",
        "fig.show()"
      ],
      "metadata": {
        "colab": {
          "base_uri": "https://localhost:8080/",
          "height": 542
        },
        "id": "qWRLV8uihGpX",
        "outputId": "b4c1d536-1c30-49fe-a10c-12930c1e848d"
      },
      "execution_count": null,
      "outputs": [
        {
          "output_type": "display_data",
          "data": {
            "text/html": [
              "<html>\n",
              "<head><meta charset=\"utf-8\" /></head>\n",
              "<body>\n",
              "    <div>            <script src=\"https://cdnjs.cloudflare.com/ajax/libs/mathjax/2.7.5/MathJax.js?config=TeX-AMS-MML_SVG\"></script><script type=\"text/javascript\">if (window.MathJax && window.MathJax.Hub && window.MathJax.Hub.Config) {window.MathJax.Hub.Config({SVG: {font: \"STIX-Web\"}});}</script>                <script type=\"text/javascript\">window.PlotlyConfig = {MathJaxConfig: 'local'};</script>\n",
              "        <script charset=\"utf-8\" src=\"https://cdn.plot.ly/plotly-2.35.2.min.js\"></script>                <div id=\"8ae60c14-f1b0-4ff5-86f5-7ce86acabe80\" class=\"plotly-graph-div\" style=\"height:525px; width:100%;\"></div>            <script type=\"text/javascript\">                                    window.PLOTLYENV=window.PLOTLYENV || {};                                    if (document.getElementById(\"8ae60c14-f1b0-4ff5-86f5-7ce86acabe80\")) {                    Plotly.newPlot(                        \"8ae60c14-f1b0-4ff5-86f5-7ce86acabe80\",                        [{\"hovertemplate\":\"total_rooms=%{x}\\u003cbr\\u003etotal_bedrooms=%{y}\\u003cextra\\u003e\\u003c\\u002fextra\\u003e\",\"legendgroup\":\"\",\"marker\":{\"color\":\"#636efa\",\"symbol\":\"circle\"},\"mode\":\"markers\",\"name\":\"\",\"orientation\":\"v\",\"showlegend\":false,\"x\":[880.0,7099.0,1467.0,1274.0,1627.0,919.0,2535.0,3104.0,2555.0,3549.0,2202.0,3503.0,2491.0,696.0,2643.0,1120.0,1966.0,1228.0,2239.0,1503.0,751.0,1639.0,2436.0,1688.0,2224.0,535.0,1130.0,1898.0,2082.0,729.0,1916.0,2153.0,1922.0,1655.0,2665.0,1215.0,1798.0,1511.0,1470.0,2432.0,1665.0,936.0,713.0,950.0,1443.0,1656.0,1125.0,1007.0,624.0,946.0,896.0,1868.0,3221.0,1630.0,1170.0,945.0,1238.0,1489.0,1387.0,158.0,1121.0,135.0,760.0,1224.0,828.0,1010.0,1455.0,1027.0,572.0,2801.0,768.0,935.0,844.0,12.0,835.0,1237.0,2914.0,1207.0,1745.0,684.0,924.0,210.0,340.0,386.0,948.0,773.0,880.0,875.0,105.0,249.0,994.0,215.0,96.0,1055.0,1715.0,5329.0,4596.0,335.0,3682.0,3633.0,4656.0,5806.0,854.0,2155.0,5871.0,1509.0,2026.0,1758.0,3481.0,3337.0,1424.0,3809.0,3959.0,2376.0,1613.0,1279.0,5022.0,4190.0,2515.0,3175.0,2576.0,334.0,2800.0,3529.0,2612.0,5287.0,2935.0,3424.0,4991.0,2211.0,3038.0,1617.0,2865.0,5065.0,1326.0,1589.0,1791.0,1835.0,1229.0,3770.0,292.0,2375.0,2964.0,2833.0,2254.0,1389.0,1971.0,2183.0,2286.0,2721.0,2024.0,2944.0,2033.0,1433.0,2927.0,2315.0,2485.0,1490.0,2814.0,2093.0,888.0,2087.0,2513.0,3232.0,4120.0,2364.0,1471.0,2468.0,1632.0,1786.0,629.0,1339.0,1678.0,2344.0,996.0,1591.0,1586.0,2046.0,1192.0,1803.0,2838.0,783.0,1590.0,1746.0,1252.0,5963.0,1783.0,999.0,1469.0,1372.0,674.0,1626.0,175.0,461.0,902.0,2373.0,391.0,1137.0,769.0,472.0,862.0,1920.0,1420.0,986.0,2340.0,1696.0,1175.0,2343.0,610.0,930.0,1487.0,3424.0,762.0,2366.0,1826.0,3049.0,1640.0,1543.0,2364.0,1745.0,2003.0,2018.0,3045.0,1547.0,3519.0,2070.0,1321.0,1694.0,1938.0,968.0,1060.0,2041.0,1813.0,2718.0,3144.0,1802.0,882.0,1621.0,2115.0,2021.0,2239.0,1477.0,1056.0,898.0,2968.0,1702.0,881.0,494.0,1776.0,1678.0,1637.0,1420.0,591.0,745.0,2272.0,1234.0,1017.0,932.0,2689.0,1547.0,2300.0,1752.0,1867.0,2430.0,1729.0,1026.0,2170.0,2329.0,2492.0,2198.0,142.0,1183.0,1070.0,1766.0,617.0,1411.0,2109.0,1229.0,954.0,1643.0,1355.0,2317.0,2459.0,12842.0,1524.0,3326.0,1985.0,1642.0,893.0,653.0,1256.0,977.0,2324.0,1583.0,1612.0,2424.0,1594.0,2118.0,1575.0,1764.0,1187.0,754.0,2308.0,909.0,1180.0,2018.0,1368.0,2744.0,2107.0,1748.0,2024.0,1116.0,2036.0,1852.0,921.0,995.0,606.0,2680.0,1493.0,2207.0,856.0,1293.0,847.0,541.0,1066.0,707.0,1528.0,909.0,1391.0,548.0,4074.0,1613.0,463.0,818.0,1473.0,504.0,1026.0,769.0,2103.0,330.0,941.0,992.0,990.0,1126.0,1036.0,1047.0,1280.0,1587.0,1257.0,1218.0,1751.0,2299.0,2457.0,998.0,1685.0,1827.0,2781.0,1823.0,2229.0,1513.0,3266.0,1809.0,794.0,690.0,1334.0,414.0,768.0,4400.0,954.0,1445.0,1938.0,856.0,1790.0,617.0,1383.0,1325.0,1227.0,667.0,1223.0,1379.0,1534.0,1029.0,771.0,824.0,1097.0,1283.0,1604.0,2248.0,2263.0,1571.0,1520.0,5083.0,1077.0,1248.0,1342.0,3061.0,3171.0,1211.0,979.0,2269.0,1844.0,2178.0,1650.0,1927.0,2079.0,1803.0,2041.0,3046.0,2318.0,2003.0,2261.0,1225.0,2315.0,2070.0,2616.0,2640.0,1978.0,2220.0,1125.0,3078.0,3706.0,3000.0,2863.0,2551.0,2255.0,3360.0,1693.0,2252.0,2495.0,1193.0,1172.0,2159.0,2365.0,1895.0,1650.0,453.0,409.0,503.0,499.0,477.0,1647.0,3123.0,957.0,589.0,2026.0,1829.0,895.0,1909.0,3022.0,1777.0,2803.0,1465.0,2619.0,1149.0,2363.0,2604.0,685.0,1756.0,1204.0,609.0,1087.0,2773.0,3218.0,1350.0,3084.0,938.0,1813.0,1233.0,2539.0,1267.0,1665.0,1659.0,2225.0,2485.0,2031.0,2932.0,2246.0,2052.0,1999.0,3007.0,2214.0,1088.0,834.0,1769.0,2307.0,5161.0,3497.0,3774.0,2888.0,2153.0,1389.0,1709.0,1587.0,1668.0,3726.0,4048.0,3618.0,4076.0,2077.0,1279.0,1974.0,335.0,1375.0,610.0,1025.0,2063.0,1872.0,3108.0,7355.0,2990.0,2492.0,2991.0,3242.0,3051.0,3494.0,1757.0,2449.0,1611.0,3665.0,2474.0,3037.0,2269.0,1316.0,1153.0,772.0,1711.0,2650.0,1038.0,1527.0,859.0,970.0,1045.0,1408.0,1222.0,1169.0,2020.0,4145.0,2038.0,5154.0,1241.0,1468.0,3997.0,2873.0,1487.0,1670.0,2252.0,1731.0,1710.0,2388.0,2156.0,1565.0,1704.0,1210.0,2097.0,1848.0,955.0,4329.0,3011.0,1049.0,2504.0,1846.0,1705.0,1542.0,891.0,4051.0,2646.0,2428.0,2567.0,7031.0,1914.0,18634.0,5785.0,2876.0,6909.0,5679.0,1156.0,14316.0,3596.0,3541.0,1808.0,2879.0,3204.0,3866.0,2476.0,2211.0,2663.0,2599.0,4569.0,2973.0,3115.0,1843.0,2053.0,6740.0,1751.0,1663.0,3716.0,2718.0,1420.0,1893.0,3906.0,3400.0,3402.0,4413.0,2304.0,2350.0,5914.0,1575.0,1414.0,848.0,3051.0,4296.0,2898.0,1071.0,2619.0,1494.0,2260.0,1394.0,1028.0,3758.0,2163.0,1699.0,1555.0,1114.0,1498.0,726.0,890.0,2639.0,2562.0,361.0,3008.0,1369.0,1692.0,1007.0,3783.0,1507.0,666.0,2229.0,2215.0,1616.0,1190.0,4169.0,2024.0,1723.0,2264.0,1996.0,2862.0,2183.0,1037.0,1134.0,786.0,1397.0,2315.0,1613.0,1421.0,5778.0,3094.0,3905.0,3046.0,3516.0,998.0,1464.0,1463.0,4124.0,2380.0,1266.0,2239.0,1571.0,1246.0,1501.0,1468.0,1118.0,1097.0,1719.0,1755.0,1687.0,2262.0,2087.0,1480.0,1545.0,2632.0,2261.0,1670.0,2141.0,3337.0,3184.0,2341.0,1197.0,1131.0,1164.0,3495.0,2488.0,2681.0,2495.0,1689.0,1298.0,2693.0,746.0,2444.0,1472.0,2227.0,200.0,1283.0,2445.0,1307.0,3785.0,2031.0,8299.0,7518.0,1815.0,5367.0,1167.0,2607.0,493.0,1252.0,1382.0,500.0,2333.0,1834.0,1415.0,1352.0,2116.0,1976.0,1779.0,3659.0,1892.0,1958.0,1553.0,2412.0,2110.0,2179.0,2457.0,2147.0,1676.0,2976.0,3036.0,2472.0,1487.0,2012.0,3342.0,3156.0,1748.0,3429.0,3592.0,1035.0,3028.0,2431.0,2069.0,1340.0,1160.0,2015.0,3882.0,3239.0,2932.0,2104.0,1694.0,3000.0,2419.0,2280.0,5031.0,1547.0,3300.0,5018.0,1813.0,1997.0,901.0,686.0,1954.0,2630.0,1130.0,1184.0,656.0,2544.0,1305.0,1755.0,2843.0,2538.0,1784.0,1797.0,410.0,162.0,9963.0,2361.0,862.0,4335.0,1487.0,3592.0,432.0,1457.0,1578.0,2172.0,1340.0,1116.0,1885.0,1180.0,5267.0,1897.0,767.0,691.0,786.0,5861.0,2784.0,4524.0,1468.0,1655.0,1227.0,1160.0,952.0,2072.0,2964.0,1032.0,657.0,1540.0,1298.0,1409.0,1383.0,1151.0,899.0,1793.0,2485.0,1931.0,2329.0,6711.0,1939.0,1642.0,1619.0,517.0,1570.0,1213.0,1826.0,2261.0,3666.0,1633.0,2155.0,1295.0,1295.0,1518.0,3314.0,3009.0,2605.0,5159.0,1726.0,1816.0,2578.0,2576.0,1644.0,1606.0,3349.0,3475.0,1893.0,1727.0,6243.0,2077.0,1165.0,4371.0,838.0,3052.0,4313.0,385.0,3046.0,4342.0,3575.0,4126.0,2878.0,4405.0,16199.0,14917.0,5719.0,8647.0,8112.0,10648.0,1150.0,14014.0,4332.0,1716.0,4981.0,8444.0,3028.0,2068.0,1325.0,2563.0,5505.0,6462.0,3746.0,8918.0,1949.0,4924.0,5133.0,6647.0,5674.0,10687.0,1354.0,3715.0,2095.0,3517.0,2537.0,5106.0,2215.0,2949.0,2375.0,2312.0,2277.0,2506.0,2829.0,3179.0,2332.0,3584.0,3046.0,2414.0,4133.0,2791.0,6103.0,2572.0,1910.0,1890.0,5405.0,3761.0,3333.0,4925.0,3994.0,5811.0,4211.0,5532.0,28258.0,4909.0,7441.0,4314.0,2016.0,5377.0,9167.0,3087.0,3170.0,2145.0,4209.0,4247.0,4458.0,407.0,6483.0,1867.0,2918.0,2316.0,1240.0,4458.0,1746.0,4572.0,4280.0,6352.0,7477.0,4638.0,4377.0,3816.0,2806.0,4822.0,6473.0,8072.0,1280.0,3166.0,3742.0,7397.0,1655.0,2456.0,2179.0,1804.0,3631.0,2876.0,7490.0,2234.0,1898.0,4070.0,2244.0,2948.0,2034.0,2130.0,9540.0,2702.0,522.0,775.0,1565.0,1309.0,5519.0,4337.0,1812.0,4719.0,4236.0,3634.0,1569.0,13182.0,228.0,127.0,9621.0,6159.0,4290.0,1786.0,404.0,1671.0,5608.0,12070.0,494.0,5533.0,3956.0,1906.0],\"xaxis\":\"x\",\"y\":[129.0,1106.0,190.0,235.0,280.0,213.0,489.0,687.0,665.0,707.0,434.0,752.0,474.0,191.0,626.0,283.0,347.0,293.0,455.0,298.0,184.0,367.0,541.0,337.0,437.0,123.0,244.0,421.0,492.0,160.0,447.0,481.0,409.0,366.0,574.0,282.0,432.0,390.0,330.0,715.0,419.0,311.0,202.0,202.0,311.0,420.0,322.0,312.0,195.0,375.0,453.0,456.0,853.0,456.0,235.0,243.0,288.0,335.0,341.0,43.0,211.0,29.0,190.0,237.0,182.0,209.0,354.0,244.0,109.0,644.0,152.0,297.0,204.0,4.0,161.0,462.0,562.0,243.0,374.0,176.0,289.0,56.0,97.0,164.0,184.0,143.0,451.0,348.0,42.0,78.0,392.0,87.0,31.0,347.0,623.0,2477.0,1331.0,107.0,1270.0,1085.0,1414.0,1603.0,242.0,701.0,1914.0,225.0,482.0,460.0,751.0,855.0,289.0,1098.0,1196.0,559.0,428.0,287.0,1750.0,1105.0,399.0,454.0,406.0,54.0,411.0,574.0,365.0,1048.0,473.0,597.0,674.0,346.0,490.0,210.0,460.0,788.0,184.0,223.0,271.0,264.0,181.0,534.0,38.0,333.0,436.0,605.0,535.0,212.0,335.0,465.0,464.0,541.0,339.0,536.0,486.0,229.0,402.0,292.0,313.0,238.0,365.0,550.0,168.0,510.0,502.0,835.0,1065.0,792.0,469.0,864.0,492.0,526.0,188.0,391.0,606.0,647.0,228.0,373.0,398.0,588.0,289.0,420.0,749.0,184.0,414.0,480.0,299.0,1344.0,395.0,264.0,431.0,395.0,180.0,376.0,43.0,129.0,237.0,779.0,128.0,301.0,206.0,146.0,215.0,530.0,472.0,258.0,825.0,396.0,217.0,574.0,145.0,199.0,314.0,690.0,190.0,575.0,450.0,711.0,376.0,307.0,557.0,409.0,500.0,447.0,499.0,293.0,711.0,354.0,263.0,259.0,341.0,195.0,256.0,405.0,271.0,451.0,761.0,459.0,195.0,452.0,533.0,528.0,508.0,300.0,224.0,244.0,710.0,460.0,248.0,114.0,473.0,514.0,463.0,314.0,173.0,153.0,498.0,375.0,328.0,254.0,597.0,415.0,443.0,399.0,403.0,502.0,414.0,180.0,428.0,445.0,415.0,397.0,31.0,205.0,193.0,332.0,95.0,233.0,387.0,243.0,217.0,262.0,195.0,336.0,317.0,2048.0,260.0,746.0,440.0,322.0,177.0,128.0,537.9108329378263,194.0,397.0,349.0,342.0,533.0,367.0,413.0,358.0,397.0,261.0,175.0,452.0,236.0,257.0,408.0,282.0,547.0,471.0,362.0,391.0,259.0,510.0,393.0,207.0,238.0,132.0,736.0,370.0,565.0,189.0,297.0,212.0,154.0,253.0,147.0,291.0,215.0,293.0,119.0,874.0,445.0,134.0,193.0,371.0,126.0,226.0,183.0,391.0,76.0,218.0,537.9108329378263,261.0,263.0,233.0,214.0,307.0,320.0,271.0,248.0,390.0,514.0,624.0,211.0,343.0,307.0,574.0,286.0,365.0,231.0,491.0,261.0,111.0,105.0,200.0,54.0,93.0,666.0,161.0,256.0,399.0,178.0,454.0,131.0,275.0,277.0,294.0,140.0,281.0,287.0,300.0,181.0,147.0,223.0,239.0,238.0,263.0,422.0,522.0,349.0,402.0,1212.0,293.0,283.0,291.0,930.0,698.0,261.0,175.0,380.0,332.0,421.0,274.0,279.0,273.0,240.0,270.0,373.0,328.0,250.0,328.0,169.0,408.0,329.0,473.0,366.0,293.0,335.0,195.0,494.0,531.0,457.0,460.0,417.0,410.0,648.0,391.0,592.0,491.0,200.0,215.0,424.0,490.0,442.0,395.0,146.0,97.0,118.0,127.0,119.0,376.0,749.0,188.0,132.0,548.0,536.0,198.0,416.0,696.0,446.0,930.0,439.0,682.0,255.0,604.0,837.0,141.0,465.0,460.0,236.0,371.0,998.0,1108.0,368.0,698.0,195.0,353.0,300.0,755.0,324.0,404.0,367.0,460.0,607.0,450.0,668.0,472.0,435.0,417.0,691.0,550.0,305.0,186.0,372.0,583.0,1744.0,832.0,744.0,604.0,517.0,191.0,318.0,444.0,225.0,474.0,663.0,768.0,920.0,400.0,300.0,426.0,83.0,307.0,145.0,198.0,484.0,419.0,813.0,2408.0,379.0,310.0,335.0,366.0,381.0,396.0,246.0,312.0,203.0,517.0,403.0,516.0,323.0,177.0,235.0,179.0,386.0,566.0,220.0,320.0,157.0,217.0,239.0,280.0,264.0,263.0,535.0,869.0,368.0,537.9108329378263,309.0,363.0,1073.0,763.0,306.0,350.0,388.0,377.0,481.0,559.0,458.0,315.0,371.0,168.0,444.0,479.0,284.0,1110.0,542.0,185.0,516.0,471.0,246.0,289.0,537.9108329378263,753.0,581.0,525.0,436.0,1249.0,365.0,2885.0,1379.0,648.0,1554.0,1270.0,365.0,2045.0,467.0,570.0,302.0,480.0,477.0,531.0,368.0,350.0,387.0,366.0,824.0,622.0,625.0,282.0,336.0,1073.0,269.0,295.0,657.0,447.0,272.0,310.0,790.0,736.0,758.0,1107.0,618.0,499.0,1309.0,324.0,274.0,202.0,685.0,817.0,557.0,201.0,403.0,316.0,416.0,223.0,129.0,819.0,470.0,408.0,289.0,206.0,313.0,147.0,200.0,533.0,554.0,69.0,659.0,284.0,398.0,245.0,814.0,242.0,132.0,601.0,587.0,372.0,251.0,1047.0,320.0,394.0,390.0,268.0,394.0,383.0,207.0,153.0,132.0,253.0,451.0,339.0,298.0,1526.0,866.0,1007.0,557.0,710.0,178.0,244.0,292.0,1054.0,769.0,228.0,391.0,317.0,221.0,287.0,252.0,219.0,208.0,303.0,365.0,348.0,391.0,407.0,278.0,273.0,447.0,443.0,308.0,535.0,613.0,716.0,500.0,269.0,278.0,284.0,787.0,617.0,508.0,635.0,461.0,306.0,789.0,537.9108329378263,651.0,310.0,560.0,25.0,194.0,590.0,236.0,936.0,357.0,1326.0,1279.0,426.0,1207.0,370.0,682.0,168.0,305.0,353.0,110.0,538.0,463.0,348.0,342.0,503.0,481.0,413.0,897.0,428.0,484.0,253.0,394.0,389.0,401.0,445.0,399.0,340.0,518.0,533.0,398.0,249.0,347.0,537.9108329378263,534.0,318.0,681.0,703.0,247.0,811.0,655.0,500.0,313.0,259.0,318.0,816.0,671.0,739.0,409.0,251.0,419.0,348.0,610.0,1168.0,372.0,790.0,1439.0,393.0,436.0,191.0,142.0,464.0,722.0,192.0,200.0,115.0,643.0,225.0,316.0,652.0,494.0,311.0,327.0,76.0,27.0,2031.0,458.0,167.0,808.0,280.0,849.0,102.0,242.0,284.0,435.0,245.0,199.0,307.0,212.0,1253.0,440.0,171.0,127.0,133.0,1516.0,723.0,860.0,304.0,450.0,286.0,252.0,172.0,352.0,547.0,173.0,118.0,324.0,236.0,271.0,259.0,216.0,179.0,364.0,518.0,376.0,465.0,1374.0,356.0,346.0,293.0,108.0,274.0,221.0,309.0,443.0,711.0,345.0,522.0,280.0,295.0,302.0,638.0,497.0,474.0,832.0,276.0,365.0,551.0,418.0,251.0,240.0,544.0,686.0,338.0,302.0,1273.0,383.0,333.0,889.0,295.0,760.0,717.0,94.0,678.0,783.0,597.0,1031.0,478.0,717.0,2993.0,2708.0,1064.0,1407.0,1376.0,1818.0,311.0,2861.0,857.0,312.0,964.0,1492.0,778.0,532.0,274.0,485.0,1005.0,1294.0,993.0,1823.0,344.0,1247.0,1375.0,2098.0,748.0,1540.0,192.0,526.0,342.0,645.0,382.0,1207.0,475.0,529.0,652.0,496.0,420.0,387.0,566.0,703.0,371.0,715.0,507.0,415.0,744.0,495.0,1249.0,406.0,371.0,303.0,939.0,623.0,511.0,948.0,764.0,1125.0,741.0,973.0,3864.0,577.0,1588.0,676.0,322.0,744.0,1373.0,532.0,532.0,369.0,731.0,835.0,922.0,97.0,1068.0,343.0,672.0,478.0,264.0,856.0,437.0,712.0,673.0,1390.0,1576.0,716.0,668.0,637.0,459.0,845.0,1027.0,1050.0,209.0,424.0,555.0,1137.0,223.0,582.0,308.0,254.0,547.0,423.0,1207.0,270.0,239.0,624.0,301.0,471.0,288.0,273.0,1294.0,680.0,116.0,134.0,464.0,184.0,833.0,800.0,294.0,741.0,701.0,664.0,242.0,2074.0,40.0,23.0,1344.0,1510.0,554.0,306.0,74.0,352.0,1049.0,2220.0,81.0,943.0,639.0,351.0],\"yaxis\":\"y\",\"type\":\"scatter\"}],                        {\"template\":{\"data\":{\"histogram2dcontour\":[{\"type\":\"histogram2dcontour\",\"colorbar\":{\"outlinewidth\":0,\"ticks\":\"\"},\"colorscale\":[[0.0,\"#0d0887\"],[0.1111111111111111,\"#46039f\"],[0.2222222222222222,\"#7201a8\"],[0.3333333333333333,\"#9c179e\"],[0.4444444444444444,\"#bd3786\"],[0.5555555555555556,\"#d8576b\"],[0.6666666666666666,\"#ed7953\"],[0.7777777777777778,\"#fb9f3a\"],[0.8888888888888888,\"#fdca26\"],[1.0,\"#f0f921\"]]}],\"choropleth\":[{\"type\":\"choropleth\",\"colorbar\":{\"outlinewidth\":0,\"ticks\":\"\"}}],\"histogram2d\":[{\"type\":\"histogram2d\",\"colorbar\":{\"outlinewidth\":0,\"ticks\":\"\"},\"colorscale\":[[0.0,\"#0d0887\"],[0.1111111111111111,\"#46039f\"],[0.2222222222222222,\"#7201a8\"],[0.3333333333333333,\"#9c179e\"],[0.4444444444444444,\"#bd3786\"],[0.5555555555555556,\"#d8576b\"],[0.6666666666666666,\"#ed7953\"],[0.7777777777777778,\"#fb9f3a\"],[0.8888888888888888,\"#fdca26\"],[1.0,\"#f0f921\"]]}],\"heatmap\":[{\"type\":\"heatmap\",\"colorbar\":{\"outlinewidth\":0,\"ticks\":\"\"},\"colorscale\":[[0.0,\"#0d0887\"],[0.1111111111111111,\"#46039f\"],[0.2222222222222222,\"#7201a8\"],[0.3333333333333333,\"#9c179e\"],[0.4444444444444444,\"#bd3786\"],[0.5555555555555556,\"#d8576b\"],[0.6666666666666666,\"#ed7953\"],[0.7777777777777778,\"#fb9f3a\"],[0.8888888888888888,\"#fdca26\"],[1.0,\"#f0f921\"]]}],\"heatmapgl\":[{\"type\":\"heatmapgl\",\"colorbar\":{\"outlinewidth\":0,\"ticks\":\"\"},\"colorscale\":[[0.0,\"#0d0887\"],[0.1111111111111111,\"#46039f\"],[0.2222222222222222,\"#7201a8\"],[0.3333333333333333,\"#9c179e\"],[0.4444444444444444,\"#bd3786\"],[0.5555555555555556,\"#d8576b\"],[0.6666666666666666,\"#ed7953\"],[0.7777777777777778,\"#fb9f3a\"],[0.8888888888888888,\"#fdca26\"],[1.0,\"#f0f921\"]]}],\"contourcarpet\":[{\"type\":\"contourcarpet\",\"colorbar\":{\"outlinewidth\":0,\"ticks\":\"\"}}],\"contour\":[{\"type\":\"contour\",\"colorbar\":{\"outlinewidth\":0,\"ticks\":\"\"},\"colorscale\":[[0.0,\"#0d0887\"],[0.1111111111111111,\"#46039f\"],[0.2222222222222222,\"#7201a8\"],[0.3333333333333333,\"#9c179e\"],[0.4444444444444444,\"#bd3786\"],[0.5555555555555556,\"#d8576b\"],[0.6666666666666666,\"#ed7953\"],[0.7777777777777778,\"#fb9f3a\"],[0.8888888888888888,\"#fdca26\"],[1.0,\"#f0f921\"]]}],\"surface\":[{\"type\":\"surface\",\"colorbar\":{\"outlinewidth\":0,\"ticks\":\"\"},\"colorscale\":[[0.0,\"#0d0887\"],[0.1111111111111111,\"#46039f\"],[0.2222222222222222,\"#7201a8\"],[0.3333333333333333,\"#9c179e\"],[0.4444444444444444,\"#bd3786\"],[0.5555555555555556,\"#d8576b\"],[0.6666666666666666,\"#ed7953\"],[0.7777777777777778,\"#fb9f3a\"],[0.8888888888888888,\"#fdca26\"],[1.0,\"#f0f921\"]]}],\"mesh3d\":[{\"type\":\"mesh3d\",\"colorbar\":{\"outlinewidth\":0,\"ticks\":\"\"}}],\"scatter\":[{\"fillpattern\":{\"fillmode\":\"overlay\",\"size\":10,\"solidity\":0.2},\"type\":\"scatter\"}],\"parcoords\":[{\"type\":\"parcoords\",\"line\":{\"colorbar\":{\"outlinewidth\":0,\"ticks\":\"\"}}}],\"scatterpolargl\":[{\"type\":\"scatterpolargl\",\"marker\":{\"colorbar\":{\"outlinewidth\":0,\"ticks\":\"\"}}}],\"bar\":[{\"error_x\":{\"color\":\"#2a3f5f\"},\"error_y\":{\"color\":\"#2a3f5f\"},\"marker\":{\"line\":{\"color\":\"#E5ECF6\",\"width\":0.5},\"pattern\":{\"fillmode\":\"overlay\",\"size\":10,\"solidity\":0.2}},\"type\":\"bar\"}],\"scattergeo\":[{\"type\":\"scattergeo\",\"marker\":{\"colorbar\":{\"outlinewidth\":0,\"ticks\":\"\"}}}],\"scatterpolar\":[{\"type\":\"scatterpolar\",\"marker\":{\"colorbar\":{\"outlinewidth\":0,\"ticks\":\"\"}}}],\"histogram\":[{\"marker\":{\"pattern\":{\"fillmode\":\"overlay\",\"size\":10,\"solidity\":0.2}},\"type\":\"histogram\"}],\"scattergl\":[{\"type\":\"scattergl\",\"marker\":{\"colorbar\":{\"outlinewidth\":0,\"ticks\":\"\"}}}],\"scatter3d\":[{\"type\":\"scatter3d\",\"line\":{\"colorbar\":{\"outlinewidth\":0,\"ticks\":\"\"}},\"marker\":{\"colorbar\":{\"outlinewidth\":0,\"ticks\":\"\"}}}],\"scattermapbox\":[{\"type\":\"scattermapbox\",\"marker\":{\"colorbar\":{\"outlinewidth\":0,\"ticks\":\"\"}}}],\"scatterternary\":[{\"type\":\"scatterternary\",\"marker\":{\"colorbar\":{\"outlinewidth\":0,\"ticks\":\"\"}}}],\"scattercarpet\":[{\"type\":\"scattercarpet\",\"marker\":{\"colorbar\":{\"outlinewidth\":0,\"ticks\":\"\"}}}],\"carpet\":[{\"aaxis\":{\"endlinecolor\":\"#2a3f5f\",\"gridcolor\":\"white\",\"linecolor\":\"white\",\"minorgridcolor\":\"white\",\"startlinecolor\":\"#2a3f5f\"},\"baxis\":{\"endlinecolor\":\"#2a3f5f\",\"gridcolor\":\"white\",\"linecolor\":\"white\",\"minorgridcolor\":\"white\",\"startlinecolor\":\"#2a3f5f\"},\"type\":\"carpet\"}],\"table\":[{\"cells\":{\"fill\":{\"color\":\"#EBF0F8\"},\"line\":{\"color\":\"white\"}},\"header\":{\"fill\":{\"color\":\"#C8D4E3\"},\"line\":{\"color\":\"white\"}},\"type\":\"table\"}],\"barpolar\":[{\"marker\":{\"line\":{\"color\":\"#E5ECF6\",\"width\":0.5},\"pattern\":{\"fillmode\":\"overlay\",\"size\":10,\"solidity\":0.2}},\"type\":\"barpolar\"}],\"pie\":[{\"automargin\":true,\"type\":\"pie\"}]},\"layout\":{\"autotypenumbers\":\"strict\",\"colorway\":[\"#636efa\",\"#EF553B\",\"#00cc96\",\"#ab63fa\",\"#FFA15A\",\"#19d3f3\",\"#FF6692\",\"#B6E880\",\"#FF97FF\",\"#FECB52\"],\"font\":{\"color\":\"#2a3f5f\"},\"hovermode\":\"closest\",\"hoverlabel\":{\"align\":\"left\"},\"paper_bgcolor\":\"white\",\"plot_bgcolor\":\"#E5ECF6\",\"polar\":{\"bgcolor\":\"#E5ECF6\",\"angularaxis\":{\"gridcolor\":\"white\",\"linecolor\":\"white\",\"ticks\":\"\"},\"radialaxis\":{\"gridcolor\":\"white\",\"linecolor\":\"white\",\"ticks\":\"\"}},\"ternary\":{\"bgcolor\":\"#E5ECF6\",\"aaxis\":{\"gridcolor\":\"white\",\"linecolor\":\"white\",\"ticks\":\"\"},\"baxis\":{\"gridcolor\":\"white\",\"linecolor\":\"white\",\"ticks\":\"\"},\"caxis\":{\"gridcolor\":\"white\",\"linecolor\":\"white\",\"ticks\":\"\"}},\"coloraxis\":{\"colorbar\":{\"outlinewidth\":0,\"ticks\":\"\"}},\"colorscale\":{\"sequential\":[[0.0,\"#0d0887\"],[0.1111111111111111,\"#46039f\"],[0.2222222222222222,\"#7201a8\"],[0.3333333333333333,\"#9c179e\"],[0.4444444444444444,\"#bd3786\"],[0.5555555555555556,\"#d8576b\"],[0.6666666666666666,\"#ed7953\"],[0.7777777777777778,\"#fb9f3a\"],[0.8888888888888888,\"#fdca26\"],[1.0,\"#f0f921\"]],\"sequentialminus\":[[0.0,\"#0d0887\"],[0.1111111111111111,\"#46039f\"],[0.2222222222222222,\"#7201a8\"],[0.3333333333333333,\"#9c179e\"],[0.4444444444444444,\"#bd3786\"],[0.5555555555555556,\"#d8576b\"],[0.6666666666666666,\"#ed7953\"],[0.7777777777777778,\"#fb9f3a\"],[0.8888888888888888,\"#fdca26\"],[1.0,\"#f0f921\"]],\"diverging\":[[0,\"#8e0152\"],[0.1,\"#c51b7d\"],[0.2,\"#de77ae\"],[0.3,\"#f1b6da\"],[0.4,\"#fde0ef\"],[0.5,\"#f7f7f7\"],[0.6,\"#e6f5d0\"],[0.7,\"#b8e186\"],[0.8,\"#7fbc41\"],[0.9,\"#4d9221\"],[1,\"#276419\"]]},\"xaxis\":{\"gridcolor\":\"white\",\"linecolor\":\"white\",\"ticks\":\"\",\"title\":{\"standoff\":15},\"zerolinecolor\":\"white\",\"automargin\":true,\"zerolinewidth\":2},\"yaxis\":{\"gridcolor\":\"white\",\"linecolor\":\"white\",\"ticks\":\"\",\"title\":{\"standoff\":15},\"zerolinecolor\":\"white\",\"automargin\":true,\"zerolinewidth\":2},\"scene\":{\"xaxis\":{\"backgroundcolor\":\"#E5ECF6\",\"gridcolor\":\"white\",\"linecolor\":\"white\",\"showbackground\":true,\"ticks\":\"\",\"zerolinecolor\":\"white\",\"gridwidth\":2},\"yaxis\":{\"backgroundcolor\":\"#E5ECF6\",\"gridcolor\":\"white\",\"linecolor\":\"white\",\"showbackground\":true,\"ticks\":\"\",\"zerolinecolor\":\"white\",\"gridwidth\":2},\"zaxis\":{\"backgroundcolor\":\"#E5ECF6\",\"gridcolor\":\"white\",\"linecolor\":\"white\",\"showbackground\":true,\"ticks\":\"\",\"zerolinecolor\":\"white\",\"gridwidth\":2}},\"shapedefaults\":{\"line\":{\"color\":\"#2a3f5f\"}},\"annotationdefaults\":{\"arrowcolor\":\"#2a3f5f\",\"arrowhead\":0,\"arrowwidth\":1},\"geo\":{\"bgcolor\":\"white\",\"landcolor\":\"#E5ECF6\",\"subunitcolor\":\"white\",\"showland\":true,\"showlakes\":true,\"lakecolor\":\"white\"},\"title\":{\"x\":0.05},\"mapbox\":{\"style\":\"light\"}}},\"xaxis\":{\"anchor\":\"y\",\"domain\":[0.0,1.0],\"title\":{\"text\":\"total_rooms\"}},\"yaxis\":{\"anchor\":\"x\",\"domain\":[0.0,1.0],\"title\":{\"text\":\"total_bedrooms\"}},\"legend\":{\"tracegroupgap\":0},\"margin\":{\"t\":60},\"title\":{\"text\":\"Scatter Plot of Total Bedrooms and Total Rooms\"}},                        {\"responsive\": true}                    ).then(function(){\n",
              "                            \n",
              "var gd = document.getElementById('8ae60c14-f1b0-4ff5-86f5-7ce86acabe80');\n",
              "var x = new MutationObserver(function (mutations, observer) {{\n",
              "        var display = window.getComputedStyle(gd).display;\n",
              "        if (!display || display === 'none') {{\n",
              "            console.log([gd, 'removed!']);\n",
              "            Plotly.purge(gd);\n",
              "            observer.disconnect();\n",
              "        }}\n",
              "}});\n",
              "\n",
              "// Listen for the removal of the full notebook cells\n",
              "var notebookContainer = gd.closest('#notebook-container');\n",
              "if (notebookContainer) {{\n",
              "    x.observe(notebookContainer, {childList: true});\n",
              "}}\n",
              "\n",
              "// Listen for the clearing of the current output cell\n",
              "var outputEl = gd.closest('.output');\n",
              "if (outputEl) {{\n",
              "    x.observe(outputEl, {childList: true});\n",
              "}}\n",
              "\n",
              "                        })                };                            </script>        </div>\n",
              "</body>\n",
              "</html>"
            ]
          },
          "metadata": {}
        }
      ]
    },
    {
      "cell_type": "markdown",
      "source": [
        "This is the strongest positive correlation I have seen between these scatter plots. The reason this is the case is because if a house has more rooms it much more likely to have more bedrooms."
      ],
      "metadata": {
        "id": "LTRILoroXsRT"
      }
    },
    {
      "cell_type": "markdown",
      "source": [
        "Looking for outliers by count"
      ],
      "metadata": {
        "id": "XmNln2gmYDt6"
      }
    },
    {
      "cell_type": "code",
      "source": [
        "df[df.ocean_proximity == 'ISLAND'].count()"
      ],
      "metadata": {
        "colab": {
          "base_uri": "https://localhost:8080/"
        },
        "id": "07unLhgoCcer",
        "outputId": "00ffd21f-142a-4310-9fca-6f390923737c"
      },
      "execution_count": null,
      "outputs": [
        {
          "output_type": "execute_result",
          "data": {
            "text/plain": [
              "housing_median_age    5\n",
              "total_rooms           5\n",
              "total_bedrooms        5\n",
              "population            5\n",
              "households            5\n",
              "median_income         5\n",
              "median_house_value    5\n",
              "ocean_proximity       5\n",
              "dtype: int64"
            ]
          },
          "metadata": {},
          "execution_count": 42
        }
      ]
    },
    {
      "cell_type": "markdown",
      "source": [
        "We will drop these island census block groups because 99.99% of the dataset is not on an island."
      ],
      "metadata": {
        "id": "T0hV1W8oYIiF"
      }
    },
    {
      "cell_type": "code",
      "source": [
        "df[df.median_income > 11.37].count()"
      ],
      "metadata": {
        "colab": {
          "base_uri": "https://localhost:8080/"
        },
        "id": "xUstgm3XCebR",
        "outputId": "ad99951b-7d43-451f-acc7-88abeadf5f09"
      },
      "execution_count": null,
      "outputs": [
        {
          "output_type": "execute_result",
          "data": {
            "text/plain": [
              "housing_median_age    134\n",
              "total_rooms           134\n",
              "total_bedrooms        134\n",
              "population            134\n",
              "households            134\n",
              "median_income         134\n",
              "median_house_value    134\n",
              "ocean_proximity       134\n",
              "dtype: int64"
            ]
          },
          "metadata": {},
          "execution_count": 43
        }
      ]
    },
    {
      "cell_type": "markdown",
      "source": [
        "We will drop the block groups with a median income greater than 113700 because they represent extremely rich neighborhoods which may not have the same factors contributing to their success as the rest of California census blocks."
      ],
      "metadata": {
        "id": "JEKetnMQYZlZ"
      }
    },
    {
      "cell_type": "code",
      "source": [
        "df[df.households > 2500].count()"
      ],
      "metadata": {
        "colab": {
          "base_uri": "https://localhost:8080/"
        },
        "id": "2zUukE6pCgE8",
        "outputId": "b851f4ba-07b5-4d3e-a55e-c036582b3b2e"
      },
      "execution_count": null,
      "outputs": [
        {
          "output_type": "execute_result",
          "data": {
            "text/plain": [
              "housing_median_age    96\n",
              "total_rooms           96\n",
              "total_bedrooms        96\n",
              "population            96\n",
              "households            96\n",
              "median_income         96\n",
              "median_house_value    96\n",
              "ocean_proximity       96\n",
              "dtype: int64"
            ]
          },
          "metadata": {},
          "execution_count": 44
        }
      ]
    },
    {
      "cell_type": "markdown",
      "source": [
        "We will drop the census block groups with a number of households greater than 2500 because these represent very dense city centers which may have different factors that contribute to an increase in median house value compared to the rest of California."
      ],
      "metadata": {
        "id": "ms9khaZhY68r"
      }
    },
    {
      "cell_type": "code",
      "source": [
        "df[df.population > 7850].count()"
      ],
      "metadata": {
        "colab": {
          "base_uri": "https://localhost:8080/"
        },
        "id": "y2aExNBkChmR",
        "outputId": "87b586e4-87fd-4b12-fe89-c255002f534c"
      },
      "execution_count": null,
      "outputs": [
        {
          "output_type": "execute_result",
          "data": {
            "text/plain": [
              "housing_median_age    63\n",
              "total_rooms           63\n",
              "total_bedrooms        63\n",
              "population            63\n",
              "households            63\n",
              "median_income         63\n",
              "median_house_value    63\n",
              "ocean_proximity       63\n",
              "dtype: int64"
            ]
          },
          "metadata": {},
          "execution_count": 45
        }
      ]
    },
    {
      "cell_type": "markdown",
      "source": [
        "We will drop the census block groups with a population greater than 7850 because hyper-dense city centers do not have the same factors contributing to housing value."
      ],
      "metadata": {
        "id": "aSp4BZ9tZzGW"
      }
    },
    {
      "cell_type": "code",
      "source": [
        "df[df.total_bedrooms > 3000].count()"
      ],
      "metadata": {
        "colab": {
          "base_uri": "https://localhost:8080/"
        },
        "id": "HxpHdVGbCjB1",
        "outputId": "f1bbdc97-44cb-4e6e-c644-95ad7aeb2d22"
      },
      "execution_count": null,
      "outputs": [
        {
          "output_type": "execute_result",
          "data": {
            "text/plain": [
              "housing_median_age    67\n",
              "total_rooms           67\n",
              "total_bedrooms        67\n",
              "population            67\n",
              "households            67\n",
              "median_income         67\n",
              "median_house_value    67\n",
              "ocean_proximity       67\n",
              "dtype: int64"
            ]
          },
          "metadata": {},
          "execution_count": 46
        }
      ]
    },
    {
      "cell_type": "code",
      "source": [
        "df[df.total_rooms > 12500].count()"
      ],
      "metadata": {
        "colab": {
          "base_uri": "https://localhost:8080/"
        },
        "id": "2Y2knVGbCk12",
        "outputId": "0b9dfdec-9461-467a-e9e9-f173de4a3448"
      },
      "execution_count": null,
      "outputs": [
        {
          "output_type": "execute_result",
          "data": {
            "text/plain": [
              "housing_median_age    158\n",
              "total_rooms           158\n",
              "total_bedrooms        158\n",
              "population            158\n",
              "households            158\n",
              "median_income         158\n",
              "median_house_value    158\n",
              "ocean_proximity       158\n",
              "dtype: int64"
            ]
          },
          "metadata": {},
          "execution_count": 47
        }
      ]
    },
    {
      "cell_type": "markdown",
      "source": [
        "We will drop the outliers for both total rooms and bedrooms becasue they represent hyper-dense city centers which does not represent most of California."
      ],
      "metadata": {
        "id": "9oTmXHuVaEXk"
      }
    },
    {
      "cell_type": "code",
      "source": [
        "df_no_outliers = df[(df.ocean_proximity != 'ISLAND') &\n",
        "                    (df.median_income < 11.37) &\n",
        "                    (df.households < 2500) &\n",
        "                    (df.population < 7850) &\n",
        "                    (df.total_bedrooms < 3000) &\n",
        "                    (df.total_rooms < 12500)]"
      ],
      "metadata": {
        "id": "qeaLM0GkI8bC"
      },
      "execution_count": null,
      "outputs": []
    },
    {
      "cell_type": "code",
      "source": [
        "df_no_outliers.shape[0]\n"
      ],
      "metadata": {
        "colab": {
          "base_uri": "https://localhost:8080/"
        },
        "id": "jVnskJyMEaL1",
        "outputId": "97a94e09-8c1f-4224-e7a5-e7e95b7d3199"
      },
      "execution_count": null,
      "outputs": [
        {
          "output_type": "execute_result",
          "data": {
            "text/plain": [
              "20322"
            ]
          },
          "metadata": {},
          "execution_count": 49
        }
      ]
    },
    {
      "cell_type": "markdown",
      "source": [
        "correlation analysis"
      ],
      "metadata": {
        "id": "Fq6rVFCHeLXv"
      }
    },
    {
      "cell_type": "code",
      "source": [
        "df_no_outliers.corr()"
      ],
      "metadata": {
        "colab": {
          "base_uri": "https://localhost:8080/",
          "height": 269
        },
        "id": "oOCwumRDKzf9",
        "outputId": "e4fe9598-7557-40f9-c9c6-5b3850f4ee32"
      },
      "execution_count": null,
      "outputs": [
        {
          "output_type": "execute_result",
          "data": {
            "text/plain": [
              "                    housing_median_age  total_rooms  total_bedrooms  population  households  median_income  median_house_value\n",
              "housing_median_age            1.000000    -0.366186       -0.306236   -0.285622   -0.287534      -0.138316            0.106635\n",
              "total_rooms                  -0.366186     1.000000        0.906128    0.818435    0.898606       0.234642            0.156628\n",
              "total_bedrooms               -0.306236     0.906128        1.000000    0.850234    0.969867      -0.021111            0.057945\n",
              "population                   -0.285622     0.818435        0.850234    1.000000    0.890770      -0.005474           -0.034460\n",
              "households                   -0.287534     0.898606        0.969867    0.890770    1.000000       0.007145            0.077008\n",
              "median_income                -0.138316     0.234642       -0.021111   -0.005474    0.007145       1.000000            0.681004\n",
              "median_house_value            0.106635     0.156628        0.057945   -0.034460    0.077008       0.681004            1.000000"
            ],
            "text/html": [
              "<div>\n",
              "<style scoped>\n",
              "    .dataframe tbody tr th:only-of-type {\n",
              "        vertical-align: middle;\n",
              "    }\n",
              "\n",
              "    .dataframe tbody tr th {\n",
              "        vertical-align: top;\n",
              "    }\n",
              "\n",
              "    .dataframe thead th {\n",
              "        text-align: right;\n",
              "    }\n",
              "</style>\n",
              "<table border=\"1\" class=\"dataframe\">\n",
              "  <thead>\n",
              "    <tr style=\"text-align: right;\">\n",
              "      <th></th>\n",
              "      <th>housing_median_age</th>\n",
              "      <th>total_rooms</th>\n",
              "      <th>total_bedrooms</th>\n",
              "      <th>population</th>\n",
              "      <th>households</th>\n",
              "      <th>median_income</th>\n",
              "      <th>median_house_value</th>\n",
              "    </tr>\n",
              "  </thead>\n",
              "  <tbody>\n",
              "    <tr>\n",
              "      <th>housing_median_age</th>\n",
              "      <td>1.000000</td>\n",
              "      <td>-0.366186</td>\n",
              "      <td>-0.306236</td>\n",
              "      <td>-0.285622</td>\n",
              "      <td>-0.287534</td>\n",
              "      <td>-0.138316</td>\n",
              "      <td>0.106635</td>\n",
              "    </tr>\n",
              "    <tr>\n",
              "      <th>total_rooms</th>\n",
              "      <td>-0.366186</td>\n",
              "      <td>1.000000</td>\n",
              "      <td>0.906128</td>\n",
              "      <td>0.818435</td>\n",
              "      <td>0.898606</td>\n",
              "      <td>0.234642</td>\n",
              "      <td>0.156628</td>\n",
              "    </tr>\n",
              "    <tr>\n",
              "      <th>total_bedrooms</th>\n",
              "      <td>-0.306236</td>\n",
              "      <td>0.906128</td>\n",
              "      <td>1.000000</td>\n",
              "      <td>0.850234</td>\n",
              "      <td>0.969867</td>\n",
              "      <td>-0.021111</td>\n",
              "      <td>0.057945</td>\n",
              "    </tr>\n",
              "    <tr>\n",
              "      <th>population</th>\n",
              "      <td>-0.285622</td>\n",
              "      <td>0.818435</td>\n",
              "      <td>0.850234</td>\n",
              "      <td>1.000000</td>\n",
              "      <td>0.890770</td>\n",
              "      <td>-0.005474</td>\n",
              "      <td>-0.034460</td>\n",
              "    </tr>\n",
              "    <tr>\n",
              "      <th>households</th>\n",
              "      <td>-0.287534</td>\n",
              "      <td>0.898606</td>\n",
              "      <td>0.969867</td>\n",
              "      <td>0.890770</td>\n",
              "      <td>1.000000</td>\n",
              "      <td>0.007145</td>\n",
              "      <td>0.077008</td>\n",
              "    </tr>\n",
              "    <tr>\n",
              "      <th>median_income</th>\n",
              "      <td>-0.138316</td>\n",
              "      <td>0.234642</td>\n",
              "      <td>-0.021111</td>\n",
              "      <td>-0.005474</td>\n",
              "      <td>0.007145</td>\n",
              "      <td>1.000000</td>\n",
              "      <td>0.681004</td>\n",
              "    </tr>\n",
              "    <tr>\n",
              "      <th>median_house_value</th>\n",
              "      <td>0.106635</td>\n",
              "      <td>0.156628</td>\n",
              "      <td>0.057945</td>\n",
              "      <td>-0.034460</td>\n",
              "      <td>0.077008</td>\n",
              "      <td>0.681004</td>\n",
              "      <td>1.000000</td>\n",
              "    </tr>\n",
              "  </tbody>\n",
              "</table>\n",
              "</div>"
            ]
          },
          "metadata": {},
          "execution_count": 50
        }
      ]
    },
    {
      "cell_type": "code",
      "source": [
        "df_no_outliers.describe()"
      ],
      "metadata": {
        "colab": {
          "base_uri": "https://localhost:8080/",
          "height": 300
        },
        "id": "mkl0FQ_zD1lk",
        "outputId": "982ee5c3-7c52-489f-d2fa-516c5693dc94"
      },
      "execution_count": null,
      "outputs": [
        {
          "output_type": "execute_result",
          "data": {
            "text/plain": [
              "       housing_median_age   total_rooms  total_bedrooms    population    households  median_income  median_house_value\n",
              "count        20322.000000  20322.000000    20322.000000  20322.000000  20322.000000   20322.000000        20322.000000\n",
              "mean            28.765771   2514.498967      517.545996   1372.450448    481.254650       3.798685       204716.318817\n",
              "std             12.490057   1691.868878      341.253926    906.365427    312.467063       1.731519       113475.942915\n",
              "min              1.000000      2.000000        2.000000      3.000000      2.000000       0.499900        14999.000000\n",
              "25%             18.000000   1442.000000      297.000000    786.000000    279.000000       2.555100       118800.000000\n",
              "50%             29.000000   2112.000000      436.000000   1162.000000    408.000000       3.516100       178400.000000\n",
              "75%             37.000000   3109.000000      637.000000   1706.000000    598.000000       4.700900       262300.000000\n",
              "max             52.000000  12480.000000     2793.000000   7817.000000   2447.000000      11.342100       500001.000000"
            ],
            "text/html": [
              "<div>\n",
              "<style scoped>\n",
              "    .dataframe tbody tr th:only-of-type {\n",
              "        vertical-align: middle;\n",
              "    }\n",
              "\n",
              "    .dataframe tbody tr th {\n",
              "        vertical-align: top;\n",
              "    }\n",
              "\n",
              "    .dataframe thead th {\n",
              "        text-align: right;\n",
              "    }\n",
              "</style>\n",
              "<table border=\"1\" class=\"dataframe\">\n",
              "  <thead>\n",
              "    <tr style=\"text-align: right;\">\n",
              "      <th></th>\n",
              "      <th>housing_median_age</th>\n",
              "      <th>total_rooms</th>\n",
              "      <th>total_bedrooms</th>\n",
              "      <th>population</th>\n",
              "      <th>households</th>\n",
              "      <th>median_income</th>\n",
              "      <th>median_house_value</th>\n",
              "    </tr>\n",
              "  </thead>\n",
              "  <tbody>\n",
              "    <tr>\n",
              "      <th>count</th>\n",
              "      <td>20322.000000</td>\n",
              "      <td>20322.000000</td>\n",
              "      <td>20322.000000</td>\n",
              "      <td>20322.000000</td>\n",
              "      <td>20322.000000</td>\n",
              "      <td>20322.000000</td>\n",
              "      <td>20322.000000</td>\n",
              "    </tr>\n",
              "    <tr>\n",
              "      <th>mean</th>\n",
              "      <td>28.765771</td>\n",
              "      <td>2514.498967</td>\n",
              "      <td>517.545996</td>\n",
              "      <td>1372.450448</td>\n",
              "      <td>481.254650</td>\n",
              "      <td>3.798685</td>\n",
              "      <td>204716.318817</td>\n",
              "    </tr>\n",
              "    <tr>\n",
              "      <th>std</th>\n",
              "      <td>12.490057</td>\n",
              "      <td>1691.868878</td>\n",
              "      <td>341.253926</td>\n",
              "      <td>906.365427</td>\n",
              "      <td>312.467063</td>\n",
              "      <td>1.731519</td>\n",
              "      <td>113475.942915</td>\n",
              "    </tr>\n",
              "    <tr>\n",
              "      <th>min</th>\n",
              "      <td>1.000000</td>\n",
              "      <td>2.000000</td>\n",
              "      <td>2.000000</td>\n",
              "      <td>3.000000</td>\n",
              "      <td>2.000000</td>\n",
              "      <td>0.499900</td>\n",
              "      <td>14999.000000</td>\n",
              "    </tr>\n",
              "    <tr>\n",
              "      <th>25%</th>\n",
              "      <td>18.000000</td>\n",
              "      <td>1442.000000</td>\n",
              "      <td>297.000000</td>\n",
              "      <td>786.000000</td>\n",
              "      <td>279.000000</td>\n",
              "      <td>2.555100</td>\n",
              "      <td>118800.000000</td>\n",
              "    </tr>\n",
              "    <tr>\n",
              "      <th>50%</th>\n",
              "      <td>29.000000</td>\n",
              "      <td>2112.000000</td>\n",
              "      <td>436.000000</td>\n",
              "      <td>1162.000000</td>\n",
              "      <td>408.000000</td>\n",
              "      <td>3.516100</td>\n",
              "      <td>178400.000000</td>\n",
              "    </tr>\n",
              "    <tr>\n",
              "      <th>75%</th>\n",
              "      <td>37.000000</td>\n",
              "      <td>3109.000000</td>\n",
              "      <td>637.000000</td>\n",
              "      <td>1706.000000</td>\n",
              "      <td>598.000000</td>\n",
              "      <td>4.700900</td>\n",
              "      <td>262300.000000</td>\n",
              "    </tr>\n",
              "    <tr>\n",
              "      <th>max</th>\n",
              "      <td>52.000000</td>\n",
              "      <td>12480.000000</td>\n",
              "      <td>2793.000000</td>\n",
              "      <td>7817.000000</td>\n",
              "      <td>2447.000000</td>\n",
              "      <td>11.342100</td>\n",
              "      <td>500001.000000</td>\n",
              "    </tr>\n",
              "  </tbody>\n",
              "</table>\n",
              "</div>"
            ]
          },
          "metadata": {},
          "execution_count": 51
        }
      ]
    },
    {
      "cell_type": "code",
      "source": [
        "from IPython.display import Image\n",
        "\n",
        "Image('/content/4567 Final Project Correlation 2.jpg') # Replace 'housing.jpg' with the actual filename\n"
      ],
      "metadata": {
        "colab": {
          "base_uri": "https://localhost:8080/",
          "height": 138
        },
        "id": "uC6saPsTfbtn",
        "outputId": "0eb5959d-6ec2-4b7a-d2e0-ae4ab39ab87b"
      },
      "execution_count": null,
      "outputs": [
        {
          "output_type": "execute_result",
          "data": {
            "image/jpeg": "[encoded data removed]",
            "text/plain": [
              "<IPython.core.display.Image object>"
            ]
          },
          "metadata": {},
          "execution_count": 57
        }
      ]
    },
    {
      "cell_type": "markdown",
      "source": [
        "The correlations between total_rooms, total_bedrooms, population, and households are very high. This means that they are representing the same concept. That concept is most likely population. The correlations are so high that they will likely effect our models by overrepresenting the concept of population."
      ],
      "metadata": {
        "id": "8IPPn9H_5tBf"
      }
    },
    {
      "cell_type": "code",
      "source": [
        "import pyspark.ml.feature as feat"
      ],
      "metadata": {
        "id": "pkm1OnxlSkzy"
      },
      "execution_count": null,
      "outputs": []
    },
    {
      "cell_type": "markdown",
      "source": [
        "Dummies"
      ],
      "metadata": {
        "id": "VJ08X5A0YpM3"
      }
    },
    {
      "cell_type": "code",
      "source": [
        "dummies = ps.get_dummies(df_no_outliers, columns=[\"ocean_proximity\"], drop_first=True)\n",
        "dummies.head()"
      ],
      "metadata": {
        "colab": {
          "base_uri": "https://localhost:8080/",
          "height": 244
        },
        "id": "0tgAf2vpYlbS",
        "outputId": "3639d3f7-5520-4fbc-9500-66c7ff71be57"
      },
      "execution_count": null,
      "outputs": [
        {
          "output_type": "execute_result",
          "data": {
            "text/plain": [
              "   housing_median_age  total_rooms  total_bedrooms  population  households  median_income  median_house_value  ocean_proximity_INLAND  ocean_proximity_NEAR BAY  ocean_proximity_NEAR OCEAN\n",
              "0                41.0        880.0           129.0       322.0       126.0         8.3252            452600.0                       0                         1                           0\n",
              "1                21.0       7099.0          1106.0      2401.0      1138.0         8.3014            358500.0                       0                         1                           0\n",
              "2                52.0       1467.0           190.0       496.0       177.0         7.2574            352100.0                       0                         1                           0\n",
              "3                52.0       1274.0           235.0       558.0       219.0         5.6431            341300.0                       0                         1                           0\n",
              "4                52.0       1627.0           280.0       565.0       259.0         3.8462            342200.0                       0                         1                           0"
            ],
            "text/html": [
              "<div>\n",
              "<style scoped>\n",
              "    .dataframe tbody tr th:only-of-type {\n",
              "        vertical-align: middle;\n",
              "    }\n",
              "\n",
              "    .dataframe tbody tr th {\n",
              "        vertical-align: top;\n",
              "    }\n",
              "\n",
              "    .dataframe thead th {\n",
              "        text-align: right;\n",
              "    }\n",
              "</style>\n",
              "<table border=\"1\" class=\"dataframe\">\n",
              "  <thead>\n",
              "    <tr style=\"text-align: right;\">\n",
              "      <th></th>\n",
              "      <th>housing_median_age</th>\n",
              "      <th>total_rooms</th>\n",
              "      <th>total_bedrooms</th>\n",
              "      <th>population</th>\n",
              "      <th>households</th>\n",
              "      <th>median_income</th>\n",
              "      <th>median_house_value</th>\n",
              "      <th>ocean_proximity_INLAND</th>\n",
              "      <th>ocean_proximity_NEAR BAY</th>\n",
              "      <th>ocean_proximity_NEAR OCEAN</th>\n",
              "    </tr>\n",
              "  </thead>\n",
              "  <tbody>\n",
              "    <tr>\n",
              "      <th>0</th>\n",
              "      <td>41.0</td>\n",
              "      <td>880.0</td>\n",
              "      <td>129.0</td>\n",
              "      <td>322.0</td>\n",
              "      <td>126.0</td>\n",
              "      <td>8.3252</td>\n",
              "      <td>452600.0</td>\n",
              "      <td>0</td>\n",
              "      <td>1</td>\n",
              "      <td>0</td>\n",
              "    </tr>\n",
              "    <tr>\n",
              "      <th>1</th>\n",
              "      <td>21.0</td>\n",
              "      <td>7099.0</td>\n",
              "      <td>1106.0</td>\n",
              "      <td>2401.0</td>\n",
              "      <td>1138.0</td>\n",
              "      <td>8.3014</td>\n",
              "      <td>358500.0</td>\n",
              "      <td>0</td>\n",
              "      <td>1</td>\n",
              "      <td>0</td>\n",
              "    </tr>\n",
              "    <tr>\n",
              "      <th>2</th>\n",
              "      <td>52.0</td>\n",
              "      <td>1467.0</td>\n",
              "      <td>190.0</td>\n",
              "      <td>496.0</td>\n",
              "      <td>177.0</td>\n",
              "      <td>7.2574</td>\n",
              "      <td>352100.0</td>\n",
              "      <td>0</td>\n",
              "      <td>1</td>\n",
              "      <td>0</td>\n",
              "    </tr>\n",
              "    <tr>\n",
              "      <th>3</th>\n",
              "      <td>52.0</td>\n",
              "      <td>1274.0</td>\n",
              "      <td>235.0</td>\n",
              "      <td>558.0</td>\n",
              "      <td>219.0</td>\n",
              "      <td>5.6431</td>\n",
              "      <td>341300.0</td>\n",
              "      <td>0</td>\n",
              "      <td>1</td>\n",
              "      <td>0</td>\n",
              "    </tr>\n",
              "    <tr>\n",
              "      <th>4</th>\n",
              "      <td>52.0</td>\n",
              "      <td>1627.0</td>\n",
              "      <td>280.0</td>\n",
              "      <td>565.0</td>\n",
              "      <td>259.0</td>\n",
              "      <td>3.8462</td>\n",
              "      <td>342200.0</td>\n",
              "      <td>0</td>\n",
              "      <td>1</td>\n",
              "      <td>0</td>\n",
              "    </tr>\n",
              "  </tbody>\n",
              "</table>\n",
              "</div>"
            ]
          },
          "metadata": {},
          "execution_count": 55
        }
      ]
    },
    {
      "cell_type": "markdown",
      "source": [
        "Because we are running linear regression we need to drop the first dummy to reduce multicollinearity."
      ],
      "metadata": {
        "id": "f_vBNYgw6MRI"
      }
    },
    {
      "cell_type": "markdown",
      "source": [
        "Normalization"
      ],
      "metadata": {
        "id": "WKiAnNfs6dg0"
      }
    },
    {
      "cell_type": "markdown",
      "source": [
        "We will not be normalizing because linear regression is not as affected by it as other models. The other models that really need it are ones that measure distance between data points.\n",
        "\n",
        "We also want to keep the orginal scaling of the data so that the coefficients of the model are easier to interpret."
      ],
      "metadata": {
        "id": "_0fnU1UW6fIb"
      }
    },
    {
      "cell_type": "markdown",
      "source": [
        "Linear Regression"
      ],
      "metadata": {
        "id": "kcTjFrOBm00S"
      }
    },
    {
      "cell_type": "code",
      "source": [
        "from pyspark.ml import Pipeline"
      ],
      "metadata": {
        "id": "OcwbxS1enpHl"
      },
      "execution_count": null,
      "outputs": []
    },
    {
      "cell_type": "code",
      "source": [
        "import pyspark.ml.regression as rg\n",
        "\n",
        "#let's predict elevation (first column) using the rest of features\n",
        "vectorAssembler = feat.VectorAssembler(\n",
        "    inputCols=[x for x in dummies.columns if x != 'median_house_value']\n",
        "       , outputCol='features',\n",
        "    handleInvalid=\"skip\")\n",
        "\n",
        "#create a linear regression object and fit to dataset\n",
        "lr_obj = rg.LinearRegression(\n",
        "    labelCol='median_house_value',\n",
        "    maxIter=10\n",
        "    , regParam=0.01\n",
        "    , elasticNetParam=1.00)\n",
        "#lr_model = lr_obj.fit(dummies.to_spark())\n",
        "#examine model coefficients\n",
        "pip = Pipeline(stages=[vectorAssembler, lr_obj])\n",
        "\n",
        "#run the pipeline\n",
        "pModel = pip.fit(dummies.to_spark())\n",
        "\n",
        "#get the trained model from the pipeline\n",
        "lr_model = pModel.stages[-1]\n",
        "#examine model coefficients\n",
        "lr_model.coefficients\n",
        "\n",
        "#print model performance metrics\n",
        "summary = lr_model.summary\n",
        "\n",
        "print(\n",
        "    summary.r2\n",
        "    , summary.rootMeanSquaredError\n",
        "    , summary.meanAbsoluteError\n",
        ")\n",
        "\n",
        "#get predictions from the model\n",
        "(\n",
        "    pModel.transform(dummies.to_spark())\n",
        "    .pandas_api()\n",
        "    [['median_house_value', 'prediction']]\n",
        "    .head(20)\n",
        ")"
      ],
      "metadata": {
        "colab": {
          "base_uri": "https://localhost:8080/",
          "height": 763
        },
        "id": "Piq1q-WAmuyF",
        "outputId": "f18d30b3-d562-4984-d6a8-35ec86a920b0"
      },
      "execution_count": null,
      "outputs": [
        {
          "output_type": "stream",
          "name": "stderr",
          "text": [
            "/content/spark-3.5.5-bin-hadoop3/python/pyspark/pandas/utils.py:1016: PandasAPIOnSparkAdviceWarning:\n",
            "\n",
            "If `index_col` is not specified for `to_spark`, the existing index is lost when converting to Spark DataFrame.\n",
            "\n"
          ]
        },
        {
          "output_type": "stream",
          "name": "stdout",
          "text": [
            "0.6351765492908972 68538.48304001741 50066.43524577184\n"
          ]
        },
        {
          "output_type": "execute_result",
          "data": {
            "text/plain": [
              "    median_house_value     prediction\n",
              "0             452600.0  424818.160666\n",
              "1             358500.0  448296.517436\n",
              "2             352100.0  395535.862417\n",
              "3             341300.0  332817.119704\n",
              "4             342200.0  264572.988680\n",
              "5             269700.0  269924.541576\n",
              "6             299200.0  267228.260274\n",
              "7             241400.0  268091.249199\n",
              "8             226700.0  203452.840542\n",
              "9             261100.0  278773.530040\n",
              "10            281500.0  244320.692422\n",
              "11            241800.0  269010.909592\n",
              "12            213500.0  237964.315967\n",
              "13            191300.0  213714.682974\n",
              "14            159200.0  208795.519070\n",
              "15            140000.0  185111.713596\n",
              "16            152500.0  219805.599487\n",
              "17            155500.0  193920.113758\n",
              "18            158700.0  190443.736458\n",
              "19            162900.0  209754.440764"
            ],
            "text/html": [
              "<div>\n",
              "<style scoped>\n",
              "    .dataframe tbody tr th:only-of-type {\n",
              "        vertical-align: middle;\n",
              "    }\n",
              "\n",
              "    .dataframe tbody tr th {\n",
              "        vertical-align: top;\n",
              "    }\n",
              "\n",
              "    .dataframe thead th {\n",
              "        text-align: right;\n",
              "    }\n",
              "</style>\n",
              "<table border=\"1\" class=\"dataframe\">\n",
              "  <thead>\n",
              "    <tr style=\"text-align: right;\">\n",
              "      <th></th>\n",
              "      <th>median_house_value</th>\n",
              "      <th>prediction</th>\n",
              "    </tr>\n",
              "  </thead>\n",
              "  <tbody>\n",
              "    <tr>\n",
              "      <th>0</th>\n",
              "      <td>452600.0</td>\n",
              "      <td>424818.160666</td>\n",
              "    </tr>\n",
              "    <tr>\n",
              "      <th>1</th>\n",
              "      <td>358500.0</td>\n",
              "      <td>448296.517436</td>\n",
              "    </tr>\n",
              "    <tr>\n",
              "      <th>2</th>\n",
              "      <td>352100.0</td>\n",
              "      <td>395535.862417</td>\n",
              "    </tr>\n",
              "    <tr>\n",
              "      <th>3</th>\n",
              "      <td>341300.0</td>\n",
              "      <td>332817.119704</td>\n",
              "    </tr>\n",
              "    <tr>\n",
              "      <th>4</th>\n",
              "      <td>342200.0</td>\n",
              "      <td>264572.988680</td>\n",
              "    </tr>\n",
              "    <tr>\n",
              "      <th>5</th>\n",
              "      <td>269700.0</td>\n",
              "      <td>269924.541576</td>\n",
              "    </tr>\n",
              "    <tr>\n",
              "      <th>6</th>\n",
              "      <td>299200.0</td>\n",
              "      <td>267228.260274</td>\n",
              "    </tr>\n",
              "    <tr>\n",
              "      <th>7</th>\n",
              "      <td>241400.0</td>\n",
              "      <td>268091.249199</td>\n",
              "    </tr>\n",
              "    <tr>\n",
              "      <th>8</th>\n",
              "      <td>226700.0</td>\n",
              "      <td>203452.840542</td>\n",
              "    </tr>\n",
              "    <tr>\n",
              "      <th>9</th>\n",
              "      <td>261100.0</td>\n",
              "      <td>278773.530040</td>\n",
              "    </tr>\n",
              "    <tr>\n",
              "      <th>10</th>\n",
              "      <td>281500.0</td>\n",
              "      <td>244320.692422</td>\n",
              "    </tr>\n",
              "    <tr>\n",
              "      <th>11</th>\n",
              "      <td>241800.0</td>\n",
              "      <td>269010.909592</td>\n",
              "    </tr>\n",
              "    <tr>\n",
              "      <th>12</th>\n",
              "      <td>213500.0</td>\n",
              "      <td>237964.315967</td>\n",
              "    </tr>\n",
              "    <tr>\n",
              "      <th>13</th>\n",
              "      <td>191300.0</td>\n",
              "      <td>213714.682974</td>\n",
              "    </tr>\n",
              "    <tr>\n",
              "      <th>14</th>\n",
              "      <td>159200.0</td>\n",
              "      <td>208795.519070</td>\n",
              "    </tr>\n",
              "    <tr>\n",
              "      <th>15</th>\n",
              "      <td>140000.0</td>\n",
              "      <td>185111.713596</td>\n",
              "    </tr>\n",
              "    <tr>\n",
              "      <th>16</th>\n",
              "      <td>152500.0</td>\n",
              "      <td>219805.599487</td>\n",
              "    </tr>\n",
              "    <tr>\n",
              "      <th>17</th>\n",
              "      <td>155500.0</td>\n",
              "      <td>193920.113758</td>\n",
              "    </tr>\n",
              "    <tr>\n",
              "      <th>18</th>\n",
              "      <td>158700.0</td>\n",
              "      <td>190443.736458</td>\n",
              "    </tr>\n",
              "    <tr>\n",
              "      <th>19</th>\n",
              "      <td>162900.0</td>\n",
              "      <td>209754.440764</td>\n",
              "    </tr>\n",
              "  </tbody>\n",
              "</table>\n",
              "</div>"
            ]
          },
          "metadata": {},
          "execution_count": 61
        }
      ]
    },
    {
      "cell_type": "code",
      "source": [
        "dummies['median_house_value'].mean()\n"
      ],
      "metadata": {
        "colab": {
          "base_uri": "https://localhost:8080/"
        },
        "id": "kAedGdTr3RIx",
        "outputId": "4ade6021-6ea7-4d2a-859c-5f02edb618d1"
      },
      "execution_count": null,
      "outputs": [
        {
          "output_type": "execute_result",
          "data": {
            "text/plain": [
              "204716.31881704557"
            ]
          },
          "metadata": {},
          "execution_count": 66
        }
      ]
    },
    {
      "cell_type": "markdown",
      "source": [
        "The r squared is 63.5 which means that 63.5% of the variance in the indendent variables can explain the variance in the dependent variable.\n",
        "\n",
        "The Root Mean Squared Error is 68,538 dollars which is high, but when you consider that the average median house value is 204,716 dollars it does not seem so bad. Such a high error makes sense becasue almost 40% of the variance in the indepedent variables cannot explain the variance in house value.\n",
        "\n",
        "Some ways we could increase the model's performance is by doing feature selection, hyperparameter tuning, and by removing columns which are highly correlated."
      ],
      "metadata": {
        "id": "9QIuNlpS7B2o"
      }
    },
    {
      "cell_type": "markdown",
      "source": [
        "Coefficient Examination"
      ],
      "metadata": {
        "id": "BTiHPedI9nWB"
      }
    },
    {
      "cell_type": "code",
      "source": [
        "lr_model.coefficients"
      ],
      "metadata": {
        "colab": {
          "base_uri": "https://localhost:8080/"
        },
        "id": "FDpToy0QqCO_",
        "outputId": "b09e7bd0-186b-4a33-dcf0-389b5dc9c279"
      },
      "execution_count": null,
      "outputs": [
        {
          "output_type": "execute_result",
          "data": {
            "text/plain": [
              "DenseVector([1370.6382, -0.9697, 82.0071, -49.6182, 79.9832, 41429.2126, -70441.1813, 1760.2948, 12589.906])"
            ]
          },
          "metadata": {},
          "execution_count": 63
        }
      ]
    },
    {
      "cell_type": "code",
      "source": [
        "dummies.columns"
      ],
      "metadata": {
        "colab": {
          "base_uri": "https://localhost:8080/"
        },
        "id": "yKj8BSovrSrU",
        "outputId": "520435ce-62e6-4ef7-9dc5-879a7fa00b49"
      },
      "execution_count": null,
      "outputs": [
        {
          "output_type": "execute_result",
          "data": {
            "text/plain": [
              "Index(['housing_median_age', 'total_rooms', 'total_bedrooms', 'population',\n",
              "       'households', 'median_income', 'median_house_value',\n",
              "       'ocean_proximity_INLAND', 'ocean_proximity_NEAR BAY',\n",
              "       'ocean_proximity_NEAR OCEAN'],\n",
              "      dtype='object')"
            ]
          },
          "metadata": {},
          "execution_count": 64
        }
      ]
    },
    {
      "cell_type": "markdown",
      "source": [
        "For every additional year the housing median age increase the median house value goes up by 1,370.64 dollars.\n",
        "\n",
        "For every additional room a census block group contains the median house value goes down by 0.97 dollars.\n",
        "\n",
        "For every additional bedroom a census block group contains the median house value goes up by 82 dollars.\n",
        "\n",
        "For every additional person a census block group's population contains the median house value goes down by 49.62 dollars.\n",
        "\n",
        "For every additinal household a census block group contains the median house value goes up by 79.98 dollars.\n",
        "\n",
        "For every additional dollar the median income of a census block group increases the median house value increase by 41,129.21 dollars.\n",
        "\n",
        "The median house value decreases by 70,441.18 dollars if the census block group is located inland instead of less than an hour from the ocean.\n",
        "\n",
        "The median house value increases by 1,760.29 dollars if the census block group is located near a bay instead of less than an hour from the ocean.\n",
        "\n",
        "The median house value increases by 12,589.9 dollars if the census block group is located near the ocean instead of less than an hour from the ocean."
      ],
      "metadata": {
        "id": "1Ur9BZue9qt_"
      }
    },
    {
      "cell_type": "markdown",
      "source": [
        "From these coefficients we can determine that ocean proximity and median income have the greatest affect on median house value in census block groups."
      ],
      "metadata": {
        "id": "DB4FzRbb_-xA"
      }
    },
    {
      "cell_type": "markdown",
      "source": [
        "Gradient Boosted Trees"
      ],
      "metadata": {
        "id": "HVivs9eytAE9"
      }
    },
    {
      "cell_type": "code",
      "source": [
        "import pyspark.ml.evaluation as ev\n",
        "\n",
        "gbt_obj = rg.GBTRegressor(\n",
        "    labelCol='median_house_value'\n",
        "    , minInstancesPerNode=10\n",
        "    , minInfoGain=0.1\n",
        ")\n",
        "\n",
        "pip = Pipeline(stages=[vectorAssembler, gbt_obj])\n",
        "\n",
        "results = (\n",
        "    pip\n",
        "    .fit(dummies.to_spark())\n",
        "    .transform(dummies.to_spark())\n",
        "    .select('median_house_value', 'prediction')\n",
        ")\n",
        "\n",
        "evaluator = ev.RegressionEvaluator(labelCol='median_house_value')\n",
        "evaluator.evaluate(results, {evaluator.metricName: 'r2'})"
      ],
      "metadata": {
        "colab": {
          "base_uri": "https://localhost:8080/"
        },
        "id": "7RBfCSSttCI6",
        "outputId": "5be6d354-92ca-4c6c-e8b3-df83b97c1257"
      },
      "execution_count": null,
      "outputs": [
        {
          "output_type": "stream",
          "name": "stderr",
          "text": [
            "/content/spark-3.5.5-bin-hadoop3/python/pyspark/pandas/utils.py:1016: PandasAPIOnSparkAdviceWarning:\n",
            "\n",
            "If `index_col` is not specified for `to_spark`, the existing index is lost when converting to Spark DataFrame.\n",
            "\n"
          ]
        },
        {
          "output_type": "execute_result",
          "data": {
            "text/plain": [
              "0.7136047875088961"
            ]
          },
          "metadata": {},
          "execution_count": 65
        }
      ]
    },
    {
      "cell_type": "markdown",
      "source": [
        "The r squared is 71.4 which means that 71.4% of the variance in the indendent variables can explain the variance in the dependent variable."
      ],
      "metadata": {
        "id": "DzdD3iCYA0Al"
      }
    }
  ]
}